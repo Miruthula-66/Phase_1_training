{
 "cells": [
  {
   "cell_type": "code",
   "execution_count": 0,
   "metadata": {
    "application/vnd.databricks.v1+cell": {
     "cellMetadata": {
      "byteLimit": 2048000,
      "rowLimit": 10000
     },
     "inputWidgets": {},
     "nuid": "98dbfb38-1593-4c78-a4d6-25e1893a59c2",
     "showTitle": false,
     "tableResultSettingsMap": {},
     "title": ""
    }
   },
   "outputs": [
    {
     "output_type": "stream",
     "name": "stdout",
     "output_type": "stream",
     "text": [
      "+---------------------+-----+\n|match_tie_breaker    |count|\n+---------------------+-----+\n|Super Over           |1480 |\n|one - over eliminator|250  |\n|2nd Super Over       |245  |\n+---------------------+-----+\n\n"
     ]
    }
   ],
   "source": [
    "\n",
    "df = spark.read.option(\"header\", True).csv(\"/FileStore/tables/ipl_commentary_data.csv\")\n",
    "tie_breaker_counts = df.select(\"match_tie_breaker\") \\\n",
    "                       .where(\"match_tie_breaker IS NOT NULL\") \\\n",
    "                       .groupBy(\"match_tie_breaker\") \\\n",
    "                       .count()\n",
    "tie_breaker_counts.orderBy(\"count\", ascending=False).show(truncate=False)\n"
   ]
  }
 ],
 "metadata": {
  "application/vnd.databricks.v1+notebook": {
   "computePreferences": null,
   "dashboards": [],
   "environmentMetadata": {
    "base_environment": "",
    "environment_version": "1"
   },
   "inputWidgetPreferences": null,
   "language": "python",
   "notebookMetadata": {
    "pythonIndentUnit": 4
   },
   "notebookName": "De-duplication",
   "widgets": {}
  }
 },
 "nbformat": 4,
 "nbformat_minor": 0
}