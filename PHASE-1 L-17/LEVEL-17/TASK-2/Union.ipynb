{
 "cells": [
  {
   "cell_type": "code",
   "execution_count": 0,
   "metadata": {
    "application/vnd.databricks.v1+cell": {
     "cellMetadata": {
      "byteLimit": 2048000,
      "rowLimit": 10000
     },
     "inputWidgets": {},
     "nuid": "f91e83e8-5abc-4119-987d-aa3a6e6befdb",
     "showTitle": false,
     "tableResultSettingsMap": {},
     "title": ""
    }
   },
   "outputs": [
    {
     "output_type": "stream",
     "name": "stdout",
     "output_type": "stream",
     "text": [
      "+--------+-------+-------+--------------------------------------------------------------------------------------------------------------------------------------------------------------------------------------------------------------------------+\n|match_id|over_no|ball_no|ball_commentary                                                                                                                                                                                                           |\n+--------+-------+-------+--------------------------------------------------------------------------------------------------------------------------------------------------------------------------------------------------------------------------+\n|35612   |0.1    |1      |Siraj to Rohit, 2 runs, straightaway into the pads. Siraj pitches it up but doesn't find much swing, leaning into middle and leg stumps and is clipped away for a couple through square leg. Rohit's away                 |\n|35612   |0.2    |2      |Siraj to Rohit, no run, full ball on middle, defended watchfully down the pitch                                                                                                                                           |\n|35612   |0.3    |3      |Siraj to Rohit, no run, indications of the pace of this surface, and the bounce. Back of a length, probably wasn't there to pull in any case. Rohit goes for it but the ball sneaks under him and strikes him on the thigh|\n|35612   |0.4    |4      |Siraj to Rohit, 2 runs, short of length around the hip, Rohit whips it wide of fine leg, gets back for two                                                                                                                |\n|35612   |0.5    |5      |Siraj to Rohit, no run, short of length delivery on off, Rohit is right behind the line in defence                                                                                                                        |\n+--------+-------+-------+--------------------------------------------------------------------------------------------------------------------------------------------------------------------------------------------------------------------------+\nonly showing top 5 rows\n\n"
     ]
    }
   ],
   "source": [
    "df = spark.read.csv(\"/FileStore/tables/ipl_commentary_data.csv\", header=True, inferSchema=True)\n",
    "from pyspark.sql.functions import lit\n",
    "from pyspark.sql.functions import collect_list, concat_ws, lit\n",
    "\n",
    "df_commentary = df.select(\"match_id\", \"over_no\", \"ball_no\", \"ball_commentary\")\n",
    "\n",
    "df_over = df.groupBy(\"match_id\", \"over_no\").agg(\n",
    "    concat_ws(\" | \", collect_list(\"ball_commentary\")).alias(\"ball_commentary\")\n",
    ").withColumn(\"ball_no\", lit(None).cast(\"int\"))  \n",
    "\n",
    "df_union = df_commentary.select(\"match_id\", \"over_no\", \"ball_no\", \"ball_commentary\") \\\n",
    "    .union(\n",
    "        df_over.select(\"match_id\", \"over_no\", \"ball_no\", \"ball_commentary\")\n",
    "    )\n",
    "\n",
    "df_union.show(5, truncate=False)\n"
   ]
  }
 ],
 "metadata": {
  "application/vnd.databricks.v1+notebook": {
   "computePreferences": null,
   "dashboards": [],
   "environmentMetadata": {
    "base_environment": "",
    "environment_version": "1"
   },
   "inputWidgetPreferences": null,
   "language": "python",
   "notebookMetadata": {
    "pythonIndentUnit": 4
   },
   "notebookName": "Union",
   "widgets": {}
  }
 },
 "nbformat": 4,
 "nbformat_minor": 0
}