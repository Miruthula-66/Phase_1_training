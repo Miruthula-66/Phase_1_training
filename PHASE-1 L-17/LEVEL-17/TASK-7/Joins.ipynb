{
 "cells": [
  {
   "cell_type": "code",
   "execution_count": 0,
   "metadata": {
    "application/vnd.databricks.v1+cell": {
     "cellMetadata": {
      "byteLimit": 2048000,
      "rowLimit": 10000
     },
     "inputWidgets": {},
     "nuid": "764d5a48-7c5f-4978-88ea-c4ae8595a4b7",
     "showTitle": false,
     "tableResultSettingsMap": {},
     "title": ""
    }
   },
   "outputs": [],
   "source": [
    "df = spark.read.option(\"header\", True).csv(\"/FileStore/tables/ipl_commentary_data.csv\")"
   ]
  },
  {
   "cell_type": "code",
   "execution_count": 0,
   "metadata": {
    "application/vnd.databricks.v1+cell": {
     "cellMetadata": {
      "byteLimit": 2048000,
      "rowLimit": 10000
     },
     "inputWidgets": {},
     "nuid": "f11b3704-e869-4cbe-baca-53ae1df5d0b3",
     "showTitle": false,
     "tableResultSettingsMap": {},
     "title": ""
    }
   },
   "outputs": [],
   "source": [
    "over_df = spark.read.option(\"header\", True).csv(\"/FileStore/tables/ipl_over_data.csv\")\n"
   ]
  },
  {
   "cell_type": "code",
   "execution_count": 0,
   "metadata": {
    "application/vnd.databricks.v1+cell": {
     "cellMetadata": {
      "byteLimit": 2048000,
      "rowLimit": 10000
     },
     "inputWidgets": {},
     "nuid": "c92b5484-46b7-486b-bf71-3be6d9161c72",
     "showTitle": false,
     "tableResultSettingsMap": {},
     "title": ""
    }
   },
   "outputs": [
    {
     "output_type": "stream",
     "name": "stdout",
     "output_type": "stream",
     "text": [
      "Out[9]: ['year',\n 'series_type',\n 'series_name',\n 'match_no',\n 'match_type',\n 'match_id',\n 'match_venue',\n 'match_status',\n 'match_winning_team',\n 'match_tie_breaker',\n 'match_toss',\n 'umpires',\n 'match_referee',\n 'third_umpires',\n 'match_datetime',\n 'team1_name',\n 'team2_name',\n 'team1_score',\n 'team1_wickets',\n 'team2_score',\n 'team2_wickets',\n 'team1_captain',\n 'team1_players',\n 'team1_bench',\n 'team1_support_staff',\n 'team2_captain',\n 'team2_players',\n 'team2_bench',\n 'team2_support_staff',\n 'over_no',\n 'over_total_runs',\n 'over_summary',\n 'over_batsman1_name',\n 'over_batsman1_curr_scr',\n 'over_batsman1_played_balls',\n 'over_batsman2_name',\n 'over_batsman2_curr_scr',\n 'over_batsman2_played_balls',\n 'over_bowler_name',\n 'over_bowler_bowled_overs',\n 'over_bowler_bowled_maidens',\n 'over_bowler_bowled_runs',\n 'over_bowler_bowled_wickets']"
     ]
    }
   ],
   "source": [
    "commentary_df.columns\n",
    "over_df.columns\n"
   ]
  },
  {
   "cell_type": "code",
   "execution_count": 0,
   "metadata": {
    "application/vnd.databricks.v1+cell": {
     "cellMetadata": {
      "byteLimit": 2048000,
      "rowLimit": 10000
     },
     "inputWidgets": {},
     "nuid": "7d26ef19-7090-4449-b32d-5b6fdc6118b8",
     "showTitle": false,
     "tableResultSettingsMap": {},
     "title": ""
    }
   },
   "outputs": [],
   "source": [
    "commentary_df = commentary_df.withColumnRenamed(\"Match_Id\", \"match_id\")\n",
    "over_df = over_df.withColumnRenamed(\"Match_Id\", \"match_id\")\n"
   ]
  },
  {
   "cell_type": "code",
   "execution_count": 0,
   "metadata": {
    "application/vnd.databricks.v1+cell": {
     "cellMetadata": {
      "byteLimit": 2048000,
      "rowLimit": 10000
     },
     "inputWidgets": {},
     "nuid": "4cb1b7b4-51cc-47a0-bbe7-25afbe925b0a",
     "showTitle": false,
     "tableResultSettingsMap": {},
     "title": ""
    }
   },
   "outputs": [
    {
     "output_type": "stream",
     "name": "stdout",
     "output_type": "stream",
     "text": [
      "Inner Join Count: 39192401\nLeft Join Count: 39192410\nRight Join Count: 39192401\n"
     ]
    }
   ],
   "source": [
    "\n",
    "inner_join = commentary_df.join(over_df, on=\"match_id\", how=\"inner\")\n",
    "print(\"Inner Join Count:\", inner_join.count())\n",
    "\n",
    "left_join = commentary_df.join(over_df, on=\"match_id\", how=\"left\")\n",
    "print(\"Left Join Count:\", left_join.count())\n",
    "\n",
    "right_join = commentary_df.join(over_df, on=\"match_id\", how=\"right\")\n",
    "print(\"Right Join Count:\", right_join.count())\n"
   ]
  },
  {
   "cell_type": "code",
   "execution_count": 0,
   "metadata": {
    "application/vnd.databricks.v1+cell": {
     "cellMetadata": {
      "byteLimit": 2048000,
      "rowLimit": 10000
     },
     "inputWidgets": {},
     "nuid": "eadc6201-ab3b-4eaa-813b-5a32691c9b40",
     "showTitle": false,
     "tableResultSettingsMap": {},
     "title": ""
    }
   },
   "outputs": [
    {
     "output_type": "stream",
     "name": "stdout",
     "output_type": "stream",
     "text": [
      "Left Join Distinct Match Count: 525\n"
     ]
    }
   ],
   "source": [
    "left_join = commentary_df.join(over_df, on='match_id', how='left')\n",
    "left_join_count = left_join.select('match_id').distinct().count()\n",
    "print(\"Left Join Distinct Match Count:\", left_join_count)\n"
   ]
  },
  {
   "cell_type": "code",
   "execution_count": 0,
   "metadata": {
    "application/vnd.databricks.v1+cell": {
     "cellMetadata": {
      "byteLimit": 2048000,
      "rowLimit": 10000
     },
     "inputWidgets": {},
     "nuid": "f345037f-ed1f-4686-b663-3b1cab2846a6",
     "showTitle": false,
     "tableResultSettingsMap": {},
     "title": ""
    }
   },
   "outputs": [
    {
     "output_type": "stream",
     "name": "stdout",
     "output_type": "stream",
     "text": [
      "Right Join Distinct Match Count: 524\n"
     ]
    }
   ],
   "source": [
    "right_join = commentary_df.join(over_df, on='match_id', how='right')\n",
    "right_join_count = right_join.select('match_id').distinct().count()\n",
    "print(\"Right Join Distinct Match Count:\", right_join_count)\n"
   ]
  },
  {
   "cell_type": "code",
   "execution_count": 0,
   "metadata": {
    "application/vnd.databricks.v1+cell": {
     "cellMetadata": {
      "byteLimit": 2048000,
      "rowLimit": 10000
     },
     "inputWidgets": {},
     "nuid": "f09c0433-b48b-43b3-add4-52a0f591356e",
     "showTitle": false,
     "tableResultSettingsMap": {},
     "title": ""
    }
   },
   "outputs": [
    {
     "output_type": "stream",
     "name": "stdout",
     "output_type": "stream",
     "text": [
      "Inner Join Distinct Match Count: 524\n"
     ]
    }
   ],
   "source": [
    "inner_join = commentary_df.join(over_df, on='match_id', how='inner')\n",
    "inner_join_count = inner_join.select('match_id').distinct().count()\n",
    "print(\"Inner Join Distinct Match Count:\", inner_join_count)\n"
   ]
  },
  {
   "cell_type": "code",
   "execution_count": 0,
   "metadata": {
    "application/vnd.databricks.v1+cell": {
     "cellMetadata": {
      "byteLimit": 2048000,
      "rowLimit": 10000
     },
     "inputWidgets": {},
     "nuid": "c5cd70cf-298a-4829-baee-6f8a49b209f7",
     "showTitle": false,
     "tableResultSettingsMap": {},
     "title": ""
    }
   },
   "outputs": [
    {
     "output_type": "stream",
     "name": "stdout",
     "output_type": "stream",
     "text": [
      "Commentary Matches: 525\nOver Matches: 524\n"
     ]
    }
   ],
   "source": [
    "commentary_matches = commentary_df.select('match_id').distinct().count()\n",
    "over_matches = over_df.select('match_id').distinct().count()\n",
    "\n",
    "print(\"Commentary Matches:\", commentary_matches)\n",
    "print(\"Over Matches:\", over_matches)\n"
   ]
  }
 ],
 "metadata": {
  "application/vnd.databricks.v1+notebook": {
   "computePreferences": null,
   "dashboards": [],
   "environmentMetadata": {
    "base_environment": "",
    "environment_version": "1"
   },
   "inputWidgetPreferences": null,
   "language": "python",
   "notebookMetadata": {
    "pythonIndentUnit": 4
   },
   "notebookName": "Joins",
   "widgets": {}
  }
 },
 "nbformat": 4,
 "nbformat_minor": 0
}