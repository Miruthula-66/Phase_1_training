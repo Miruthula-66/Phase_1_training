{
 "cells": [
  {
   "cell_type": "code",
   "execution_count": 0,
   "metadata": {
    "application/vnd.databricks.v1+cell": {
     "cellMetadata": {
      "byteLimit": 2048000,
      "rowLimit": 10000
     },
     "inputWidgets": {},
     "nuid": "33352525-1ae4-4420-a458-0d81a8395481",
     "showTitle": false,
     "tableResultSettingsMap": {},
     "title": ""
    }
   },
   "outputs": [
    {
     "output_type": "stream",
     "name": "stdout",
     "output_type": "stream",
     "text": [
      "+----------------------------------------------------------------------------------------------------------------------------------------------------------------------------------------------------------------------------------------------------------------------+--------+----------+----+\n|ball_commentary                                                                                                                                                                                                                                                       |bowler  |batsman   |runs|\n+----------------------------------------------------------------------------------------------------------------------------------------------------------------------------------------------------------------------------------------------------------------------+--------+----------+----+\n|Siraj to Rohit, 2 runs, straightaway into the pads. Siraj pitches it up but doesn't find much swing, leaning into middle and leg stumps and is clipped away for a couple through square leg. Rohit's away                                                             |Siraj   |Rohit     |2   |\n|Siraj to Rohit, no run, full ball on middle, defended watchfully down the pitch                                                                                                                                                                                       |Siraj   |Rohit     |    |\n|Siraj to Rohit, no run, indications of the pace of this surface, and the bounce. Back of a length, probably wasn't there to pull in any case. Rohit goes for it but the ball sneaks under him and strikes him on the thigh                                            |Siraj   |Rohit     |    |\n|Siraj to Rohit, 2 runs, short of length around the hip, Rohit whips it wide of fine leg, gets back for two                                                                                                                                                            |Siraj   |Rohit     |2   |\n|Siraj to Rohit, no run, short of length delivery on off, Rohit is right behind the line in defence                                                                                                                                                                    |Siraj   |Rohit     |    |\n|Siraj to Rohit, 1 run, back of a length delivery on off, Rohit tucks it through to deep square leg where a fielder was brought in at some point during the over                                                                                                       |Siraj   |Rohit     |1   |\n|Jamieson to Rohit, 1 run, Jamieson introduces himself to the IPL with an in-ducker. Really full, bending in on middle, Rohit digs it out wide of mid-on                                                                                                               |Jamieson|Rohit     |1   |\n|Jamieson to Chris Lynn, no run, back of a length on leg, Lynn is struck on the thigh pad looking to pull it away                                                                                                                                                      |Jamieson|Chris Lynn|    |\n|Jamieson to Chris Lynn, no run, pitched up around off, Lynn drives to mid-off. The ball doesn't seem to be coming on all that well, at least that's the early impression                                                                                              |Jamieson|Chris Lynn|    |\n|Jamieson to Chris Lynn, no run, an edge that falls short of first slip. Clearly the lack of pace in the pitch on display here. Lynn went hard on the drive as Jamieson pitched it up, genuine edge, but on the bounce to the fielder diving to his left               |Jamieson|Chris Lynn|    |\n|Jamieson to Chris Lynn, no run, back of a length, Lynn blocks it from the crease                                                                                                                                                                                      |Jamieson|Chris Lynn|    |\n|Jamieson to Chris Lynn, no run, Lynn tries to break the shackles with a charge down the pitch, and is lucky he hasn't chopped it back onto his stumps. Short of length, Lynn slashes hard after making room but gets a thick bottom edge past off stump               |Jamieson|Chris Lynn|    |\n|Siraj to Rohit, no run, back of a length around off, ball stops on Rohit as he looks to punch through the off-side. Goes off the inside half to midwicket. Doesn't look like a high-scoring game is on the cards today                                                |Siraj   |Rohit     |    |\n|Siraj to Rohit, no run, tries driving a length ball on the up but mistimes it to mid-on                                                                                                                                                                               |Siraj   |Rohit     |    |\n|Siraj to Rohit, no run, they're itching to break loose. But it's not coming off. Short of length, stays low and goes below Rohit's attempted pull. Goes on the bounce to the keeper diving across                                                                     |Siraj   |Rohit     |    |\n|Siraj to Rohit, no run, full ball slanting in on leg, Rohit tries clipping it away but it nips in off the seam and hits the front pad. Would've missed leg stump                                                                                                      |Siraj   |Rohit     |    |\n|Siraj to Rohit, FOUR, finally the first boundary. Goes through with the lofted drive off a length ball and just gets it over mid-off. Has managed to clear Jamieson there                                                                                             |Siraj   |Rohit     |    |\n|Siraj to Rohit, 2 runs, back of a length on middle and leg, Rohit clips it through midwicket for two                                                                                                                                                                  |Siraj   |Rohit     |2   |\n|Chahal to Chris Lynn, no run, pushes it through flat on middle stump. It's a length ball that slides through and Lynn watches it cautiously in defence                                                                                                                |Chahal  |Chris Lynn|    |\n|Chahal to Chris Lynn, FOUR, doesn't pick the googly, but the inside edge saves him. Length ball turning in from off, Lynn clears the front leg to flat-bat it through the covers expecting it to go away. Eventually the ball takes a thick inside edge past leg stump|Chahal  |Chris Lynn|    |\n+----------------------------------------------------------------------------------------------------------------------------------------------------------------------------------------------------------------------------------------------------------------------+--------+----------+----+\nonly showing top 20 rows\n\n"
     ]
    }
   ],
   "source": [
    "from pyspark.sql.functions import regexp_extract, col\n",
    "df = spark.read.option(\"header\", True).csv(\"/FileStore/tables/ipl_commentary_data.csv\")\n",
    "\n",
    "bowler_pattern = r\"^([^ ]+) to\"                          \n",
    "batsman_pattern = r\"to ([^,]+),\"                         \n",
    "runs_pattern = r\", (\\d+) run\"                           \n",
    "\n",
    "df_extracted = df.withColumn(\"bowler\", regexp_extract(col(\"ball_commentary\"), bowler_pattern, 1)) \\\n",
    "                 .withColumn(\"batsman\", regexp_extract(col(\"ball_commentary\"), batsman_pattern, 1)) \\\n",
    "                 .withColumn(\"runs\", regexp_extract(col(\"ball_commentary\"), runs_pattern, 1))\n",
    "\n",
    "df_extracted.select(\"ball_commentary\", \"bowler\", \"batsman\", \"runs\").show(truncate=False)\n"
   ]
  }
 ],
 "metadata": {
  "application/vnd.databricks.v1+notebook": {
   "computePreferences": null,
   "dashboards": [],
   "environmentMetadata": {
    "base_environment": "",
    "environment_version": "1"
   },
   "inputWidgetPreferences": null,
   "language": "python",
   "notebookMetadata": {
    "pythonIndentUnit": 4
   },
   "notebookName": "String Manipulation",
   "widgets": {}
  }
 },
 "nbformat": 4,
 "nbformat_minor": 0
}