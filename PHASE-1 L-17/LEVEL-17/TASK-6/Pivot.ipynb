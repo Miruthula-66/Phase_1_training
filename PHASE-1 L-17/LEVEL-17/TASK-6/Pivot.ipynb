{
 "cells": [
  {
   "cell_type": "code",
   "execution_count": 0,
   "metadata": {
    "application/vnd.databricks.v1+cell": {
     "cellMetadata": {
      "byteLimit": 2048000,
      "rowLimit": 10000
     },
     "inputWidgets": {},
     "nuid": "3a3ad70c-8474-4461-8493-7216b5e2c074",
     "showTitle": false,
     "tableResultSettingsMap": {},
     "title": ""
    }
   },
   "outputs": [],
   "source": [
    "df = spark.read.option(\"header\", True).csv(\"/FileStore/tables/ipl_commentary_data.csv\")\n"
   ]
  },
  {
   "cell_type": "code",
   "execution_count": 0,
   "metadata": {
    "application/vnd.databricks.v1+cell": {
     "cellMetadata": {
      "byteLimit": 2048000,
      "rowLimit": 10000
     },
     "inputWidgets": {},
     "nuid": "687d4bfc-1547-497b-8f58-987f294bf89f",
     "showTitle": false,
     "tableResultSettingsMap": {},
     "title": ""
    }
   },
   "outputs": [
    {
     "output_type": "stream",
     "name": "stdout",
     "output_type": "stream",
     "text": [
      "+--------------------+-------------------------------------------------------------------------------------------------------------------------------------------------+------------------+------------------+------------------+------------------+------------------+------------------+------------------+------------------+------------------+------------------------------+--------------------------------------+----------------------------------------------------------------+\n|                team|. Some real confused umpiring here. The same line a couple of overs go wasn't a wide. Samson's not impressed; and he's right in the umpire's ear\"|              2017|              2018|              2019|              2020|              2021|              2022|              2023|              2024|              2025|Best: 3/7 vs RR Mumbai WS 202\"|Binny st Karthik b Kuldeep Yadav 1(4)\"|Rashid Khan's most expensive figures in five matches in IPL 2021|\n+--------------------+-------------------------------------------------------------------------------------------------------------------------------------------------+------------------+------------------+------------------+------------------+------------------+------------------+------------------+------------------+------------------+------------------------------+--------------------------------------+----------------------------------------------------------------+\n|                 KKR|                                                                                                                                             null|158.36411101951086|166.20812182741116|177.26514697060588| 159.5689349112426|152.60365853658536|159.89002403846155|176.45701624815362|201.31263858093126| 163.2472647702407|                          null|                                  null|                                                            null|\n|                  DC|                                                                                                                                             null|161.33690330477356| 170.4295010845987|157.98445193055196|163.99326923076924|155.34796076406815|168.33185971117007|155.61205653302568| 186.4934872705743|             211.0|                          null|                                  null|                                                            null|\n|                  GL|                                                                                                                                             null|172.35221078134464|              null|              null|              null|              null|              null|              null|              null|              null|                          null|                                  null|                                                            null|\n|                  RR|                                                                                                                                             null|              null|153.99781659388645|166.42231348391513| 163.7712532865907| 143.3204947989879| 173.6413172234068|177.03091922005572|177.23362208987547|199.06854838709677|                          null|                                  null|                                                            null|\n|                 LSG|                                                                                                                                             null|              null|              null|              null|              null|              null|170.78957371707847|169.41053850607992| 177.9854642539306| 201.2171189979123|                          null|                                  null|                                                            null|\n|                null|                                                                                                                                             null|              null|              null|              null|              null|              null|              null|              null|              null|              null|                          null|                                  null|                                                            null|\n|                  MI|                                                                                                                                             null|164.34846625766872|170.29731308411215|166.72696860524962|172.54440357330532| 157.8466065123578|159.40988458123707|184.30568475452196|184.83166273584905|             155.0|                          null|                                  null|                                                            null|\n|                  GT|                                                                                                                                             null|              null|              null|              null|              null|              null|  166.926508509541|180.13431013431014|172.66300496102056|             232.0|                          null|                                  null|                                                            null|\n|                 CSK|                                                                                                                                             null|              null|  175.780549898167|152.92725563909775|157.20361053566143|171.80102827763497|164.69067921199647|181.63744911804613|180.54862119013063|151.91480730223122|                          null|                                  null|                                                            null|\n|                 SRH|                                                                                                                                             null|169.19295047098146|160.38291676777482|  163.968438538206|158.21905748316934|148.55973193473193|159.35772113943028| 170.4796605209248|193.61790966386553| 240.8121212121212|                          null|                                  null|                                                            null|\n|                 RCB|                                                                                                                                             null|143.87269736842106|168.34315789473683|166.20727848101265|153.24136978735157|158.62442022911426|167.23402597402597|179.10242587601078|202.57186732186733|187.04228329809726|                          null|                                  null|                                                            null|\n|                 RPS|                                                                                                                                             null| 155.9596412556054|              null|              null|              null|              null|              null|              null|              null|              null|                          null|                                  null|                                                            null|\n|                PBKS|                                                                                                                                             null|162.04599129894345|160.76829268292684|173.53130434782608|166.83741516671586|154.56347773766547|169.00268176400476|183.20882990249189|177.82167832167832|             243.0|                          null|                                  null|                                                            null|\n|2021-04-22 19:30:...|                                                                                                                                             null|              null|              null|              null|              null|               9.0|              null|              null|              null|              null|                          null|                                  null|                                                            null|\n+--------------------+-------------------------------------------------------------------------------------------------------------------------------------------------+------------------+------------------+------------------+------------------+------------------+------------------+------------------+------------------+------------------+------------------------------+--------------------------------------+----------------------------------------------------------------+\n\n"
     ]
    }
   ],
   "source": [
    "from pyspark.sql.functions import col, avg, coalesce\n",
    "\n",
    "df_scores = df.select(\"year\", \"team1_name\", \"team1_score\", \"team2_name\", \"team2_score\") \\\n",
    "    .withColumnRenamed(\"team1_name\", \"team\") \\\n",
    "    .withColumn(\"team1_score\", col(\"team1_score\").cast(\"double\")) \\\n",
    "    .withColumn(\"team2_score\", col(\"team2_score\").cast(\"double\"))\n",
    "\n",
    "df_scores = df_scores.withColumn(\"score\", coalesce(col(\"team1_score\"), col(\"team2_score\")))\n",
    "\n",
    "df_scores_unified = df_scores.select(\"year\", \"team\", \"score\") \\\n",
    "    .union(\n",
    "        df_scores.select(\"year\", col(\"team2_name\").alias(\"team\"), \"team2_score\")\n",
    "    )\n",
    "\n",
    "df_avg_scores = df_scores_unified.groupBy(\"year\", \"team\") \\\n",
    "    .agg(\n",
    "        avg(\"score\").alias(\"avg_score\")\n",
    "    )\n",
    "\n",
    "df_avg_pivot = df_avg_scores.groupBy(\"team\") \\\n",
    "    .pivot(\"year\") \\\n",
    "    .agg(\n",
    "        avg(\"avg_score\")\n",
    "    )\n",
    "\n",
    "df_avg_pivot.show()\n"
   ]
  },
  {
   "cell_type": "code",
   "execution_count": 0,
   "metadata": {
    "application/vnd.databricks.v1+cell": {
     "cellMetadata": {
      "byteLimit": 2048000,
      "rowLimit": 10000
     },
     "inputWidgets": {},
     "nuid": "13cd8d8d-dd7f-48e5-b155-e719e5f58529",
     "showTitle": false,
     "tableResultSettingsMap": {},
     "title": ""
    }
   },
   "outputs": [],
   "source": [
    "from pyspark.sql.functions import col, isnull\n",
    "df_cleaned = df.filter(\n",
    "    (col(\"team1_score\").cast(\"double\").isNotNull()) & \n",
    "    (col(\"team2_score\").cast(\"double\").isNotNull())\n",
    ")\n",
    "\n"
   ]
  },
  {
   "cell_type": "code",
   "execution_count": 0,
   "metadata": {
    "application/vnd.databricks.v1+cell": {
     "cellMetadata": {
      "byteLimit": 2048000,
      "rowLimit": 10000
     },
     "inputWidgets": {},
     "nuid": "be2322f4-3a36-4a11-9324-f8c8ab4c5ff4",
     "showTitle": false,
     "tableResultSettingsMap": {},
     "title": ""
    }
   },
   "outputs": [
    {
     "output_type": "stream",
     "name": "stdout",
     "output_type": "stream",
     "text": [
      "+----+------------------+------------------+------------------+------------------+------------------+------------------+------------------+------------------+------------------+\n|team|              2017|              2018|              2019|              2020|              2021|              2022|              2023|              2024|              2025|\n+----+------------------+------------------+------------------+------------------+------------------+------------------+------------------+------------------+------------------+\n| KKR|158.36411101951086|166.20812182741116|177.26514697060588| 159.5689349112426|152.60365853658536|159.89002403846155|176.45701624815362|201.31263858093126| 163.2472647702407|\n|  DC|161.33690330477356| 170.4295010845987|157.98445193055196|163.99326923076924|155.34796076406815|168.33185971117007|155.61205653302568| 186.4934872705743|             211.0|\n|  GL|172.35221078134464|              null|              null|              null|              null|              null|              null|              null|              null|\n|  RR|              null|153.99781659388645|166.42231348391513| 163.7712532865907|152.56310096153845| 173.6413172234068|177.03091922005572|177.23362208987547|199.06854838709677|\n| LSG|              null|              null|              null|              null|              null|170.78957371707847|169.41053850607992| 177.9854642539306| 201.2171189979123|\n|  MI|164.34846625766872|170.29731308411215|166.72696860524962|172.54440357330532| 157.8466065123578|159.40988458123707|184.30568475452196|184.83166273584905|             155.0|\n|  GT|              null|              null|              null|              null|              null|  166.926508509541|180.13431013431014|172.66300496102056|             232.0|\n| CSK|              null|  175.780549898167|152.92725563909775|157.20361053566143|171.80102827763497|164.69067921199647|181.63744911804613|180.54862119013063|151.91480730223122|\n| SRH|169.19295047098146|160.38291676777482|  163.968438538206|158.21905748316934|148.55973193473193|159.35772113943028| 170.4796605209248|193.61790966386553| 240.8121212121212|\n| RCB|143.87269736842106|168.34315789473683|166.20727848101265|153.24136978735157|158.62442022911426|167.23402597402597|179.10242587601078|202.57186732186733|187.04228329809726|\n| RPS| 155.9596412556054|              null|              null|              null|              null|              null|              null|              null|              null|\n|PBKS|162.04599129894345|160.76829268292684|173.53130434782608|166.83741516671586|154.56347773766547|169.00268176400476|183.20882990249189|177.82167832167832|             243.0|\n+----+------------------+------------------+------------------+------------------+------------------+------------------+------------------+------------------+------------------+\n\n"
     ]
    }
   ],
   "source": [
    "\n",
    "df_scores = df_cleaned.select(\"year\", \"team1_name\", \"team1_score\", \"team2_name\", \"team2_score\") \\\n",
    "    .withColumnRenamed(\"team1_name\", \"team\") \\\n",
    "    .withColumn(\"team1_score\", col(\"team1_score\").cast(\"double\")) \\\n",
    "    .withColumn(\"team2_score\", col(\"team2_score\").cast(\"double\"))\n",
    "\n",
    "df_scores = df_scores.withColumn(\"score\", coalesce(col(\"team1_score\"), col(\"team2_score\")))\n",
    "\n",
    "df_scores_unified = df_scores.select(\"year\", \"team\", \"score\") \\\n",
    "    .union(\n",
    "        df_scores.select(\"year\", col(\"team2_name\").alias(\"team\"), \"team2_score\")\n",
    "    )\n",
    "\n",
    "df_avg_scores = df_scores_unified.groupBy(\"year\", \"team\") \\\n",
    "    .agg(\n",
    "        avg(\"score\").alias(\"avg_score\")\n",
    "    )\n",
    "\n",
    "df_avg_pivot = df_avg_scores.groupBy(\"team\") \\\n",
    "    .pivot(\"year\") \\\n",
    "    .agg(\n",
    "        avg(\"avg_score\")\n",
    "    )\n",
    "\n",
    "df_avg_pivot.show()\n"
   ]
  },
  {
   "cell_type": "code",
   "execution_count": 0,
   "metadata": {
    "application/vnd.databricks.v1+cell": {
     "cellMetadata": {
      "byteLimit": 2048000,
      "rowLimit": 10000
     },
     "inputWidgets": {},
     "nuid": "cc5d662d-52ac-430f-90aa-81d992d82011",
     "showTitle": false,
     "tableResultSettingsMap": {},
     "title": ""
    }
   },
   "outputs": [
    {
     "output_type": "stream",
     "name": "stdout",
     "output_type": "stream",
     "text": [
      "+--------------------+-------------------------------------------------------------------------------------------------------------------------------------------------+------------------+------------------+------------------+------------------+------------------+------------------+------------------+------------------+------------------+------------------------------+--------------------------------------+----------------------------------------------------------------+\n|                team|. Some real confused umpiring here. The same line a couple of overs go wasn't a wide. Samson's not impressed; and he's right in the umpire's ear\"|              2017|              2018|              2019|              2020|              2021|              2022|              2023|              2024|              2025|Best: 3/7 vs RR Mumbai WS 202\"|Binny st Karthik b Kuldeep Yadav 1(4)\"|Rashid Khan's most expensive figures in five matches in IPL 2021|\n+--------------------+-------------------------------------------------------------------------------------------------------------------------------------------------+------------------+------------------+------------------+------------------+------------------+------------------+------------------+------------------+------------------+------------------------------+--------------------------------------+----------------------------------------------------------------+\n|                 KKR|                                                                                                                                             null|158.36411101951086|166.20812182741116|177.26514697060588| 159.5689349112426|152.60365853658536|159.89002403846155|176.45701624815362|201.31263858093126| 163.2472647702407|                          null|                                  null|                                                            null|\n|                  DC|                                                                                                                                             null|161.33690330477356| 170.4295010845987|157.98445193055196|163.99326923076924|155.34796076406815|168.33185971117007|155.61205653302568| 186.4934872705743|             211.0|                          null|                                  null|                                                            null|\n|                  GL|                                                                                                                                             null|172.35221078134464|              null|              null|              null|              null|              null|              null|              null|              null|                          null|                                  null|                                                            null|\n|                  RR|                                                                                                                                             null|              null|153.99781659388645|166.42231348391513| 163.7712532865907| 143.3204947989879| 173.6413172234068|177.03091922005572|177.23362208987547|199.06854838709677|                          null|                                  null|                                                            null|\n|                 LSG|                                                                                                                                             null|              null|              null|              null|              null|              null|170.78957371707847|169.41053850607992| 177.9854642539306| 201.2171189979123|                          null|                                  null|                                                            null|\n|                null|                                                                                                                                             null|              null|              null|              null|              null|              null|              null|              null|              null|              null|                          null|                                  null|                                                            null|\n|                  MI|                                                                                                                                             null|164.34846625766872|170.29731308411215|166.72696860524962|172.54440357330532| 157.8466065123578|159.40988458123707|184.30568475452196|184.83166273584905|             155.0|                          null|                                  null|                                                            null|\n|                  GT|                                                                                                                                             null|              null|              null|              null|              null|              null|  166.926508509541|180.13431013431014|172.66300496102056|             232.0|                          null|                                  null|                                                            null|\n|                 CSK|                                                                                                                                             null|              null|  175.780549898167|152.92725563909775|157.20361053566143|171.80102827763497|164.69067921199647|181.63744911804613|180.54862119013063|151.91480730223122|                          null|                                  null|                                                            null|\n|                 SRH|                                                                                                                                             null|169.19295047098146|160.38291676777482|  163.968438538206|158.21905748316934|148.55973193473193|159.35772113943028| 170.4796605209248|193.61790966386553| 240.8121212121212|                          null|                                  null|                                                            null|\n|                 RCB|                                                                                                                                             null|143.87269736842106|168.34315789473683|166.20727848101265|153.24136978735157|158.62442022911426|167.23402597402597|179.10242587601078|202.57186732186733|187.04228329809726|                          null|                                  null|                                                            null|\n|                 RPS|                                                                                                                                             null| 155.9596412556054|              null|              null|              null|              null|              null|              null|              null|              null|                          null|                                  null|                                                            null|\n|                PBKS|                                                                                                                                             null|162.04599129894345|160.76829268292684|173.53130434782608|166.83741516671586|154.56347773766547|169.00268176400476|183.20882990249189|177.82167832167832|             243.0|                          null|                                  null|                                                            null|\n|2021-04-22 19:30:...|                                                                                                                                             null|              null|              null|              null|              null|              null|              null|              null|              null|              null|                          null|                                  null|                                                            null|\n+--------------------+-------------------------------------------------------------------------------------------------------------------------------------------------+------------------+------------------+------------------+------------------+------------------+------------------+------------------+------------------+------------------+------------------------------+--------------------------------------+----------------------------------------------------------------+\n\n"
     ]
    }
   ],
   "source": [
    "from pyspark.sql import functions as F\n",
    "\n",
    "team1_avg = df.select(\n",
    "    F.col(\"team1_name\").alias(\"team\"),\n",
    "    F.col(\"team1_score\").alias(\"score\"),\n",
    "    \"year\"\n",
    ")\n",
    "\n",
    "team2_avg = df.select(\n",
    "    F.col(\"team2_name\").alias(\"team\"),\n",
    "    F.col(\"team2_score\").alias(\"score\"),\n",
    "    \"year\"\n",
    ")\n",
    "\n",
    "team_scores_avg = team1_avg.union(team2_avg)\n",
    "\n",
    "avg_scores = team_scores_avg.groupBy(\"team\").pivot(\"year\").agg(F.avg(\"score\"))\n",
    "\n",
    "avg_scores.show()\n"
   ]
  },
  {
   "cell_type": "code",
   "execution_count": 0,
   "metadata": {
    "application/vnd.databricks.v1+cell": {
     "cellMetadata": {
      "byteLimit": 2048000,
      "rowLimit": 10000
     },
     "inputWidgets": {},
     "nuid": "5da77015-153f-4f4a-9c9c-2497d15f7fbc",
     "showTitle": false,
     "tableResultSettingsMap": {},
     "title": ""
    }
   },
   "outputs": [
    {
     "output_type": "stream",
     "name": "stdout",
     "output_type": "stream",
     "text": [
      "+--------------------+-------------------------------------------------------------------------------------------------------------------------------------------------+----+----+----+----+----+----+----+----+----+------------------------------+--------------------------------------+----------------------------------------------------------------+\n|                team|. Some real confused umpiring here. The same line a couple of overs go wasn't a wide. Samson's not impressed; and he's right in the umpire's ear\"|2017|2018|2019|2020|2021|2022|2023|2024|2025|Best: 3/7 vs RR Mumbai WS 202\"|Binny st Karthik b Kuldeep Yadav 1(4)\"|Rashid Khan's most expensive figures in five matches in IPL 2021|\n+--------------------+-------------------------------------------------------------------------------------------------------------------------------------------------+----+----+----+----+----+----+----+----+----+------------------------------+--------------------------------------+----------------------------------------------------------------+\n|                null|                                                                                                                                             null|null|null|null|null|null|null|null|null|null|                          null|                                  null|                                                            null|\n|2021-04-22 19:30:...|                                                                                                                                             null|null|null|null|null| RCB|null|null|null|null|                          null|                                  null|                                                            null|\n|                 CSK|                                                                                                                                             null|null| 211|  71| 200| 220|  97| 235| 212| 158|                          null|                                  null|                                                            null|\n|                  DC|                                                                                                                                             null|  67|  60|  99| 228| 198| 215| 213|  92| 211|                          null|                                  null|                                                            null|\n|                  GL|                                                                                                                                             null| 208|null|null|null|null|null|null|null|null|                          null|                                  null|                                                            null|\n|                  GT|                                                                                                                                             null|null|null|null|null|null| 199| 233|  89| 232|                          null|                                  null|                                                            null|\n|                 KKR|                                                                                                                                             null|  48| 245| 232|  84|  94| 210| 207| 272| 174|                          null|                                  null|                                                            null|\n|                 LSG|                                                                                                                                             null|null|null|null|null|null|  82| 257| 214| 209|                          null|                                  null|                                                            null|\n|                  MI|                                                                                                                                             null| 223|  87| 198| 208|  94| 190| 218| 247| 155|                          null|                                  null|                                                            null|\n|                PBKS|                                                                                                                                             null|  73|  88| 197| 223| 221| 209| 214| 262| 243|                          null|                                  null|                                                            null|\n|                 RCB|                                                                                                                                             null|  96|  92|  70|  85|  92|  68| 218| 262| 196|                          null|                                  null|                                                            null|\n|                 RPS|                                                                                                                                             null|  78|null|null|null|null|null|null|null|null|                          null|                                  null|                                                            null|\n|                  RR|                                                                                                                                             null|null| 217| 198| 226|  90| 222|  59| 224| 242|                          null|                                  null|                                                            null|\n|                 SRH|                                                                                                                                             null| 209| 204|  96| 219| 193|  72| 228| 287| 286|                          null|                                  null|                                                            null|\n+--------------------+-------------------------------------------------------------------------------------------------------------------------------------------------+----+----+----+----+----+----+----+----+----+------------------------------+--------------------------------------+----------------------------------------------------------------+\n\n"
     ]
    }
   ],
   "source": [
    "\n",
    "team1_max = df.select(\n",
    "    F.col(\"team1_name\").alias(\"team\"),\n",
    "    F.col(\"team1_score\").alias(\"score\"),\n",
    "    \"year\"\n",
    ")\n",
    "\n",
    "team2_max = df.select(\n",
    "    F.col(\"team2_name\").alias(\"team\"),\n",
    "    F.col(\"team2_score\").alias(\"score\"),\n",
    "    \"year\"\n",
    ")\n",
    "team_scores_max = team1_max.union(team2_max)\n",
    "\n",
    "max_scores = team_scores_max.groupBy(\"team\").pivot(\"year\").agg(F.max(\"score\"))\n",
    "max_scores.show()\n"
   ]
  }
 ],
 "metadata": {
  "application/vnd.databricks.v1+notebook": {
   "computePreferences": null,
   "dashboards": [],
   "environmentMetadata": {
    "base_environment": "",
    "environment_version": "1"
   },
   "inputWidgetPreferences": null,
   "language": "python",
   "notebookMetadata": {
    "pythonIndentUnit": 4
   },
   "notebookName": "Pivot",
   "widgets": {}
  }
 },
 "nbformat": 4,
 "nbformat_minor": 0
}