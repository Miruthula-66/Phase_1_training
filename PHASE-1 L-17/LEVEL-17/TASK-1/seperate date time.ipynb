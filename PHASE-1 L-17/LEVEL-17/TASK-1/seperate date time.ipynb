{
 "cells": [
  {
   "cell_type": "code",
   "execution_count": 0,
   "metadata": {
    "application/vnd.databricks.v1+cell": {
     "cellMetadata": {
      "byteLimit": 2048000,
      "rowLimit": 10000
     },
     "inputWidgets": {},
     "nuid": "4479fe47-afbe-4148-a259-71d8e8204f44",
     "showTitle": false,
     "tableResultSettingsMap": {},
     "title": ""
    }
   },
   "outputs": [
    {
     "output_type": "stream",
     "name": "stdout",
     "output_type": "stream",
     "text": [
      "root\n |-- year: string (nullable = true)\n |-- series_type: string (nullable = true)\n |-- series_name: string (nullable = true)\n |-- match_no: string (nullable = true)\n |-- match_type: string (nullable = true)\n |-- match_id: integer (nullable = true)\n |-- match_venue: string (nullable = true)\n |-- match_status: string (nullable = true)\n |-- match_winning_team: string (nullable = true)\n |-- match_tie_breaker: string (nullable = true)\n |-- match_toss: string (nullable = true)\n |-- umpires: string (nullable = true)\n |-- match_referee: string (nullable = true)\n |-- third_umpires: string (nullable = true)\n |-- match_datetime: string (nullable = true)\n |-- team1_name: string (nullable = true)\n |-- team2_name: string (nullable = true)\n |-- team1_score: string (nullable = true)\n |-- team1_wickets: integer (nullable = true)\n |-- team2_score: integer (nullable = true)\n |-- team2_wickets: integer (nullable = true)\n |-- team1_captain: string (nullable = true)\n |-- team1_players: string (nullable = true)\n |-- team1_bench: string (nullable = true)\n |-- team1_support_staff: string (nullable = true)\n |-- team2_captain: string (nullable = true)\n |-- team2_players: string (nullable = true)\n |-- team2_bench: string (nullable = true)\n |-- team2_support_staff: string (nullable = true)\n |-- ball_no: integer (nullable = true)\n |-- over_no: double (nullable = true)\n |-- ball_commentary: string (nullable = true)\n\n"
     ]
    }
   ],
   "source": [
    "\n",
    "df = spark.read.csv(\"/FileStore/tables/ipl_commentary_data.csv\", header=True, inferSchema=True)\n",
    "\n",
    "df.printSchema()\n"
   ]
  },
  {
   "cell_type": "code",
   "execution_count": 0,
   "metadata": {
    "application/vnd.databricks.v1+cell": {
     "cellMetadata": {
      "byteLimit": 2048000,
      "rowLimit": 10000
     },
     "inputWidgets": {},
     "nuid": "76f6bcf0-10f6-40d0-b9cc-69d07d0441ce",
     "showTitle": false,
     "tableResultSettingsMap": {},
     "title": ""
    }
   },
   "outputs": [
    {
     "output_type": "stream",
     "name": "stdout",
     "output_type": "stream",
     "text": [
      "+----+-----------+--------------------------+---------+----------+--------+------------------------------------------------------------------------------------------------------------------------------+------------+---------------------------+-----------------+---------------------------------------------------------------------+-----------------------------------+------------------------+-----------------------+-------------------------+----------+----------+-----------+-------------+-----------+-------------+-------------+-------------+----------------------------------------------------------------------------------------------------------------------------------------------------------------------------------------------------------------------------+-------------------+-------------+-------------+----------------------------------------------------------------------------------------------------------------------------------------------------------------+-------------------+-------+-------+--------------------------------------------------------------------------------------------------------------------------------------------------------------------------------------------------------------------------+\n|year|series_type|series_name               |match_no |match_type|match_id|match_venue                                                                                                                   |match_status|match_winning_team         |match_tie_breaker|match_toss                                                           |umpires                            |match_referee           |third_umpires          |match_datetime           |team1_name|team2_name|team1_score|team1_wickets|team2_score|team2_wickets|team1_captain|team1_players|team1_bench                                                                                                                                                                                                                 |team1_support_staff|team2_captain|team2_players|team2_bench                                                                                                                                                     |team2_support_staff|ball_no|over_no|ball_commentary                                                                                                                                                                                                           |\n+----+-----------+--------------------------+---------+----------+--------+------------------------------------------------------------------------------------------------------------------------------+------------+---------------------------+-----------------+---------------------------------------------------------------------+-----------------------------------+------------------------+-----------------------+-------------------------+----------+----------+-----------+-------------+-----------+-------------+-------------+-------------+----------------------------------------------------------------------------------------------------------------------------------------------------------------------------------------------------------------------------+-------------------+-------------+-------------+----------------------------------------------------------------------------------------------------------------------------------------------------------------+-------------------+-------+-------+--------------------------------------------------------------------------------------------------------------------------------------------------------------------------------------------------------------------------+\n|2021|T20 League |Indian Premier League 2021|1st Match|T20 IPL   |35612   |{'stadium': 'MA Chidambaram Stadium', 'city': 'Chennai', 'capacity': '50000', 'host_teams': 'Tamil Nadu, Chennai Super Kings'}|completed   |Royal Challengers Bangalore|null             |Royal Challengers Bangalore have won the toss and have opted to field|KN Anantha Padmanabhan, Nitin Menon|Vengalil Narayanan Kutty|Chettithody Shamshuddin|2021-04-09 19:30:00+05:30|MI        |RCB       |159        |9            |160        |8            |null         |[]           |Nathan Coulter-Nile, Piyush Chawla, Dhawal Kulkarni, Saurabh Tiwary, Aditya Tare, Adam Milne, Jayant Yadav, Anmolpreet Singh, Quinton de Kock, Anukul Roy, Mohsin Khan, Arjun Tendulkar, Yudhvir Singh Charak, James Neesham|null               |null         |[]           |Adam Zampa, Devdutt Padikkal, Sachin Baby, Navdeep Saini, Kane Richardson, Srikar Bharat, Pavan Deshpande, Finn Allen, Suyash Prabhudessai, Mohammed Azharuddeen|null               |1      |0.1    |Siraj to Rohit, 2 runs, straightaway into the pads. Siraj pitches it up but doesn't find much swing, leaning into middle and leg stumps and is clipped away for a couple through square leg. Rohit's away                 |\n|2021|T20 League |Indian Premier League 2021|1st Match|T20 IPL   |35612   |{'stadium': 'MA Chidambaram Stadium', 'city': 'Chennai', 'capacity': '50000', 'host_teams': 'Tamil Nadu, Chennai Super Kings'}|completed   |Royal Challengers Bangalore|null             |Royal Challengers Bangalore have won the toss and have opted to field|KN Anantha Padmanabhan, Nitin Menon|Vengalil Narayanan Kutty|Chettithody Shamshuddin|2021-04-09 19:30:00+05:30|MI        |RCB       |159        |9            |160        |8            |null         |[]           |Nathan Coulter-Nile, Piyush Chawla, Dhawal Kulkarni, Saurabh Tiwary, Aditya Tare, Adam Milne, Jayant Yadav, Anmolpreet Singh, Quinton de Kock, Anukul Roy, Mohsin Khan, Arjun Tendulkar, Yudhvir Singh Charak, James Neesham|null               |null         |[]           |Adam Zampa, Devdutt Padikkal, Sachin Baby, Navdeep Saini, Kane Richardson, Srikar Bharat, Pavan Deshpande, Finn Allen, Suyash Prabhudessai, Mohammed Azharuddeen|null               |2      |0.2    |Siraj to Rohit, no run, full ball on middle, defended watchfully down the pitch                                                                                                                                           |\n|2021|T20 League |Indian Premier League 2021|1st Match|T20 IPL   |35612   |{'stadium': 'MA Chidambaram Stadium', 'city': 'Chennai', 'capacity': '50000', 'host_teams': 'Tamil Nadu, Chennai Super Kings'}|completed   |Royal Challengers Bangalore|null             |Royal Challengers Bangalore have won the toss and have opted to field|KN Anantha Padmanabhan, Nitin Menon|Vengalil Narayanan Kutty|Chettithody Shamshuddin|2021-04-09 19:30:00+05:30|MI        |RCB       |159        |9            |160        |8            |null         |[]           |Nathan Coulter-Nile, Piyush Chawla, Dhawal Kulkarni, Saurabh Tiwary, Aditya Tare, Adam Milne, Jayant Yadav, Anmolpreet Singh, Quinton de Kock, Anukul Roy, Mohsin Khan, Arjun Tendulkar, Yudhvir Singh Charak, James Neesham|null               |null         |[]           |Adam Zampa, Devdutt Padikkal, Sachin Baby, Navdeep Saini, Kane Richardson, Srikar Bharat, Pavan Deshpande, Finn Allen, Suyash Prabhudessai, Mohammed Azharuddeen|null               |3      |0.3    |Siraj to Rohit, no run, indications of the pace of this surface, and the bounce. Back of a length, probably wasn't there to pull in any case. Rohit goes for it but the ball sneaks under him and strikes him on the thigh|\n|2021|T20 League |Indian Premier League 2021|1st Match|T20 IPL   |35612   |{'stadium': 'MA Chidambaram Stadium', 'city': 'Chennai', 'capacity': '50000', 'host_teams': 'Tamil Nadu, Chennai Super Kings'}|completed   |Royal Challengers Bangalore|null             |Royal Challengers Bangalore have won the toss and have opted to field|KN Anantha Padmanabhan, Nitin Menon|Vengalil Narayanan Kutty|Chettithody Shamshuddin|2021-04-09 19:30:00+05:30|MI        |RCB       |159        |9            |160        |8            |null         |[]           |Nathan Coulter-Nile, Piyush Chawla, Dhawal Kulkarni, Saurabh Tiwary, Aditya Tare, Adam Milne, Jayant Yadav, Anmolpreet Singh, Quinton de Kock, Anukul Roy, Mohsin Khan, Arjun Tendulkar, Yudhvir Singh Charak, James Neesham|null               |null         |[]           |Adam Zampa, Devdutt Padikkal, Sachin Baby, Navdeep Saini, Kane Richardson, Srikar Bharat, Pavan Deshpande, Finn Allen, Suyash Prabhudessai, Mohammed Azharuddeen|null               |4      |0.4    |Siraj to Rohit, 2 runs, short of length around the hip, Rohit whips it wide of fine leg, gets back for two                                                                                                                |\n|2021|T20 League |Indian Premier League 2021|1st Match|T20 IPL   |35612   |{'stadium': 'MA Chidambaram Stadium', 'city': 'Chennai', 'capacity': '50000', 'host_teams': 'Tamil Nadu, Chennai Super Kings'}|completed   |Royal Challengers Bangalore|null             |Royal Challengers Bangalore have won the toss and have opted to field|KN Anantha Padmanabhan, Nitin Menon|Vengalil Narayanan Kutty|Chettithody Shamshuddin|2021-04-09 19:30:00+05:30|MI        |RCB       |159        |9            |160        |8            |null         |[]           |Nathan Coulter-Nile, Piyush Chawla, Dhawal Kulkarni, Saurabh Tiwary, Aditya Tare, Adam Milne, Jayant Yadav, Anmolpreet Singh, Quinton de Kock, Anukul Roy, Mohsin Khan, Arjun Tendulkar, Yudhvir Singh Charak, James Neesham|null               |null         |[]           |Adam Zampa, Devdutt Padikkal, Sachin Baby, Navdeep Saini, Kane Richardson, Srikar Bharat, Pavan Deshpande, Finn Allen, Suyash Prabhudessai, Mohammed Azharuddeen|null               |5      |0.5    |Siraj to Rohit, no run, short of length delivery on off, Rohit is right behind the line in defence                                                                                                                        |\n+----+-----------+--------------------------+---------+----------+--------+------------------------------------------------------------------------------------------------------------------------------+------------+---------------------------+-----------------+---------------------------------------------------------------------+-----------------------------------+------------------------+-----------------------+-------------------------+----------+----------+-----------+-------------+-----------+-------------+-------------+-------------+----------------------------------------------------------------------------------------------------------------------------------------------------------------------------------------------------------------------------+-------------------+-------------+-------------+----------------------------------------------------------------------------------------------------------------------------------------------------------------+-------------------+-------+-------+--------------------------------------------------------------------------------------------------------------------------------------------------------------------------------------------------------------------------+\nonly showing top 5 rows\n\n"
     ]
    }
   ],
   "source": [
    "# Show a few rows to inspect date/time\n",
    "df.show(5, truncate=False)\n"
   ]
  },
  {
   "cell_type": "code",
   "execution_count": 0,
   "metadata": {
    "application/vnd.databricks.v1+cell": {
     "cellMetadata": {
      "byteLimit": 2048000,
      "rowLimit": 10000
     },
     "inputWidgets": {},
     "nuid": "806278db-ea16-4a7f-8aac-2a06c3d1cbb7",
     "showTitle": false,
     "tableResultSettingsMap": {},
     "title": ""
    }
   },
   "outputs": [
    {
     "output_type": "stream",
     "name": "stdout",
     "output_type": "stream",
     "text": [
      "+-------------------------+----------+----------+\n|match_datetime           |match_date|match_time|\n+-------------------------+----------+----------+\n|2021-04-09 19:30:00+05:30|2021-04-09|14:00:00  |\n|2021-04-09 19:30:00+05:30|2021-04-09|14:00:00  |\n|2021-04-09 19:30:00+05:30|2021-04-09|14:00:00  |\n|2021-04-09 19:30:00+05:30|2021-04-09|14:00:00  |\n|2021-04-09 19:30:00+05:30|2021-04-09|14:00:00  |\n+-------------------------+----------+----------+\nonly showing top 5 rows\n\n"
     ]
    }
   ],
   "source": [
    "from pyspark.sql.functions import to_timestamp, to_date, date_format\n",
    "\n",
    "df = df.withColumn(\"match_datetime_ts\", to_timestamp(\"match_datetime\"))\n",
    "\n",
    "df = df.withColumn(\"match_date\", to_date(\"match_datetime_ts\")) \\\n",
    "       .withColumn(\"match_time\", date_format(\"match_datetime_ts\", \"HH:mm:ss\"))\n",
    "\n",
    "df.select(\"match_datetime\", \"match_date\", \"match_time\").show(5, truncate=False)\n"
   ]
  }
 ],
 "metadata": {
  "application/vnd.databricks.v1+notebook": {
   "computePreferences": null,
   "dashboards": [],
   "environmentMetadata": {
    "base_environment": "",
    "environment_version": "1"
   },
   "inputWidgetPreferences": null,
   "language": "python",
   "notebookMetadata": {
    "pythonIndentUnit": 4
   },
   "notebookName": "seperate date time",
   "widgets": {}
  }
 },
 "nbformat": 4,
 "nbformat_minor": 0
}