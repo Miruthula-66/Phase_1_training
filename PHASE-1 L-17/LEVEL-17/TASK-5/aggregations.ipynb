{
 "cells": [
  {
   "cell_type": "code",
   "execution_count": 0,
   "metadata": {
    "application/vnd.databricks.v1+cell": {
     "cellMetadata": {
      "byteLimit": 2048000,
      "rowLimit": 10000
     },
     "inputWidgets": {},
     "nuid": "6b22a713-357c-442e-a80f-ccf4b3984603",
     "showTitle": false,
     "tableResultSettingsMap": {},
     "title": ""
    }
   },
   "outputs": [],
   "source": [
    "df = spark.read.option(\"header\", True).csv(\"/FileStore/tables/ipl_commentary_data.csv\")\n"
   ]
  },
  {
   "cell_type": "code",
   "execution_count": 0,
   "metadata": {
    "application/vnd.databricks.v1+cell": {
     "cellMetadata": {
      "byteLimit": 2048000,
      "rowLimit": 10000
     },
     "inputWidgets": {},
     "nuid": "9ac807e1-efe4-4bd5-b6d3-1182db752b24",
     "showTitle": false,
     "tableResultSettingsMap": {},
     "title": ""
    }
   },
   "outputs": [],
   "source": [
    "\n",
    "df = df.filter(col(\"year\").cast(\"int\").isNotNull())\n",
    "df = df.filter((col(\"year\") >= 2008) & (col(\"year\") <= 2025))\n"
   ]
  },
  {
   "cell_type": "code",
   "execution_count": 0,
   "metadata": {
    "application/vnd.databricks.v1+cell": {
     "cellMetadata": {
      "byteLimit": 2048000,
      "rowLimit": 10000
     },
     "inputWidgets": {},
     "nuid": "a431379d-d022-4534-9cff-a3624f79264a",
     "showTitle": false,
     "tableResultSettingsMap": {},
     "title": ""
    }
   },
   "outputs": [],
   "source": [
    "\n",
    "df = df.filter(col(\"team1_name\").isNotNull() & col(\"team2_name\").isNotNull())\n"
   ]
  },
  {
   "cell_type": "code",
   "execution_count": 0,
   "metadata": {
    "application/vnd.databricks.v1+cell": {
     "cellMetadata": {
      "byteLimit": 2048000,
      "rowLimit": 10000
     },
     "inputWidgets": {},
     "nuid": "5866c315-f097-447b-b91b-0a11772c6062",
     "showTitle": false,
     "tableResultSettingsMap": {},
     "title": ""
    }
   },
   "outputs": [],
   "source": [
    "\n",
    "df = df.dropDuplicates([\"match_id\", \"team1_name\", \"team2_name\"])\n"
   ]
  },
  {
   "cell_type": "code",
   "execution_count": 0,
   "metadata": {
    "application/vnd.databricks.v1+cell": {
     "cellMetadata": {
      "byteLimit": 2048000,
      "rowLimit": 10000
     },
     "inputWidgets": {},
     "nuid": "95a890fb-ee04-4f23-bd0a-9e30615ee4f0",
     "showTitle": false,
     "tableResultSettingsMap": {},
     "title": ""
    }
   },
   "outputs": [
    {
     "output_type": "stream",
     "name": "stdout",
     "output_type": "stream",
     "text": [
      "+----+---------------+\n|year|number_of_teams|\n+----+---------------+\n|2017|              8|\n|2018|              8|\n|2019|              8|\n|2020|              8|\n|2021|              9|\n|2022|             10|\n|2023|             10|\n|2024|             10|\n|2025|             10|\n+----+---------------+\n\n"
     ]
    }
   ],
   "source": [
    "df.select(\"year\", \"team1_name\", \"team2_name\") \\\n",
    "  .withColumnRenamed(\"team1_name\", \"team\") \\\n",
    "  .select(\"year\", \"team\") \\\n",
    "  .union(df.select(\"year\", col(\"team2_name\").alias(\"team\")).select(\"year\", \"team\")) \\\n",
    "  .distinct() \\\n",
    "  .groupBy(\"year\") \\\n",
    "  .agg(countDistinct(\"team\").alias(\"number_of_teams\")) \\\n",
    "  .orderBy(\"year\") \\\n",
    "  .show()\n"
   ]
  },
  {
   "cell_type": "code",
   "execution_count": 0,
   "metadata": {
    "application/vnd.databricks.v1+cell": {
     "cellMetadata": {
      "byteLimit": 2048000,
      "rowLimit": 10000
     },
     "inputWidgets": {},
     "nuid": "083bd1a5-9506-4437-ac25-461d4e48c69a",
     "showTitle": false,
     "tableResultSettingsMap": {},
     "title": ""
    }
   },
   "outputs": [
    {
     "output_type": "stream",
     "name": "stdout",
     "output_type": "stream",
     "text": [
      "+------------+-----------+\n|match_status|num_matches|\n+------------+-----------+\n|   completed|        516|\n|        tied|          8|\n+------------+-----------+\n\n"
     ]
    }
   ],
   "source": [
    "df.select(\"match_id\", \"match_status\") \\\n",
    "  .dropDuplicates([\"match_id\"]) \\\n",
    "  .groupBy(\"match_status\") \\\n",
    "  .agg(count(\"*\").alias(\"num_matches\")) \\\n",
    "  .show()\n"
   ]
  },
  {
   "cell_type": "code",
   "execution_count": 0,
   "metadata": {
    "application/vnd.databricks.v1+cell": {
     "cellMetadata": {
      "byteLimit": 2048000,
      "rowLimit": 10000
     },
     "inputWidgets": {},
     "nuid": "eba3c4fc-f675-412e-87be-01f3296f4b79",
     "showTitle": false,
     "tableResultSettingsMap": {},
     "title": ""
    }
   },
   "outputs": [
    {
     "output_type": "stream",
     "name": "stdout",
     "output_type": "stream",
     "text": [
      "+----------------------------+\n|overall_avg_balls_per_inning|\n+----------------------------+\n|          0.9980916030534351|\n+----------------------------+\n\n"
     ]
    }
   ],
   "source": [
    "df.select(\"match_id\", \"over_no\", \"ball_no\") \\\n",
    "  .dropDuplicates([\"match_id\", \"over_no\", \"ball_no\"]) \\\n",
    "  .groupBy(\"match_id\", \"over_no\") \\\n",
    "  .agg(count(\"ball_no\").alias(\"balls_in_over\")) \\\n",
    "  .groupBy(\"match_id\") \\\n",
    "  .agg(avg(\"balls_in_over\").alias(\"avg_balls_per_inning\")) \\\n",
    "  .agg(avg(\"avg_balls_per_inning\").alias(\"overall_avg_balls_per_inning\")) \\\n",
    "  .show()\n"
   ]
  },
  {
   "cell_type": "code",
   "execution_count": 0,
   "metadata": {
    "application/vnd.databricks.v1+cell": {
     "cellMetadata": {
      "byteLimit": 2048000,
      "rowLimit": 10000
     },
     "inputWidgets": {},
     "nuid": "dad6b889-4dc0-4058-82a2-e98d0af50d1d",
     "showTitle": false,
     "tableResultSettingsMap": {},
     "title": ""
    }
   },
   "outputs": [
    {
     "output_type": "stream",
     "name": "stdout",
     "output_type": "stream",
     "text": [
      "+----+-------------------+----+\n|year| match_winning_team|wins|\n+----+-------------------+----+\n|2018|Chennai Super Kings|  11|\n|2019|Chennai Super Kings|  10|\n|2020|Chennai Super Kings|   6|\n|2021|Chennai Super Kings|  11|\n|2022|Chennai Super Kings|   4|\n|2023|Chennai Super Kings|  10|\n|2024|Chennai Super Kings|   7|\n|2025|Chennai Super Kings|   1|\n|2019|     Delhi Capitals|   9|\n|2020|     Delhi Capitals|   8|\n|2021|     Delhi Capitals|   9|\n|2022|     Delhi Capitals|   7|\n|2023|     Delhi Capitals|   5|\n|2024|     Delhi Capitals|   7|\n|2025|     Delhi Capitals|   1|\n|2017|   Delhi Daredevils|   6|\n|2018|   Delhi Daredevils|   5|\n|2017|      Gujarat Lions|   4|\n|2022|     Gujarat Titans|  12|\n|2023|     Gujarat Titans|  11|\n+----+-------------------+----+\nonly showing top 20 rows\n\n"
     ]
    }
   ],
   "source": [
    "df.select(\"year\", \"match_id\", \"match_winning_team\") \\\n",
    "  .dropDuplicates([\"match_id\"]) \\\n",
    "  .groupBy(\"year\", \"match_winning_team\") \\\n",
    "  .agg(count(\"*\").alias(\"wins\")) \\\n",
    "  .orderBy(\"match_winning_team\", \"year\") \\\n",
    "  .show()\n"
   ]
  },
  {
   "cell_type": "code",
   "execution_count": 0,
   "metadata": {
    "application/vnd.databricks.v1+cell": {
     "cellMetadata": {
      "byteLimit": 2048000,
      "rowLimit": 10000
     },
     "inputWidgets": {},
     "nuid": "d7e09bc2-f1c6-44fd-b4a7-2c6fcc00daab",
     "showTitle": false,
     "tableResultSettingsMap": {},
     "title": ""
    }
   },
   "outputs": [
    {
     "output_type": "stream",
     "name": "stdout",
     "output_type": "stream",
     "text": [
      "+--------+----------+-----------------+-----------------+\n|match_id|team1_name|batsmen_list     |batsmen_set      |\n+--------+----------+-----------------+-----------------+\n|114960  |KKR       |[de Kock]        |[de Kock]        |\n|114967  |SRH       |[Abhishek Sharma]|[Abhishek Sharma]|\n|114976  |MI        |[Rohit]          |[Rohit]          |\n|114985  |LSG       |[Markram]        |[Markram]        |\n|114987  |PBKS      |[Priyansh Arya]  |[Priyansh Arya]  |\n|114996  |RR        |[Jaiswal]        |[Jaiswal]        |\n|115005  |SRH       |[Head]           |[Head]           |\n|115012  |RCB       |[Phil Salt]      |[Phil Salt]      |\n|18121   |SRH       |[Warner]         |[Warner]         |\n|18122   |MI        |[Parthiv Patel]  |[Parthiv Patel]  |\n|18123   |GL        |[Roy]            |[Roy]            |\n|18124   |RPS       |[Rahane]         |[Rahane]         |\n|18125   |RCB       |[Gayle]          |[Gayle]          |\n|18126   |GL        |[Roy]            |[Roy]            |\n|18127   |KKR       |[Gambhir]        |[Gambhir]        |\n|18128   |RCB       |[Watson]         |[Watson]         |\n|18129   |DC        |[Tare]           |[Tare]           |\n|18130   |SRH       |[Dhawan]         |[Dhawan]         |\n|18131   |PBKS      |[Amla]           |[Amla]           |\n|18132   |RCB       |[Gayle]          |[Gayle]          |\n+--------+----------+-----------------+-----------------+\nonly showing top 20 rows\n\n"
     ]
    }
   ],
   "source": [
    "df_batsman = df.withColumn(\"batsman\", regexp_extract(col(\"ball_commentary\"), r\"to ([^,]+),\", 1))\n",
    "\n",
    "df_batsman.groupBy(\"match_id\", \"team1_name\") \\\n",
    "          .agg(collect_list(\"batsman\").alias(\"batsmen_list\"),\n",
    "               collect_set(\"batsman\").alias(\"batsmen_set\")) \\\n",
    "          .show(truncate=False)\n"
   ]
  }
 ],
 "metadata": {
  "application/vnd.databricks.v1+notebook": {
   "computePreferences": null,
   "dashboards": [],
   "environmentMetadata": {
    "base_environment": "",
    "environment_version": "1"
   },
   "inputWidgetPreferences": null,
   "language": "python",
   "notebookMetadata": {
    "pythonIndentUnit": 4
   },
   "notebookName": "aggregations",
   "widgets": {}
  }
 },
 "nbformat": 4,
 "nbformat_minor": 0
}