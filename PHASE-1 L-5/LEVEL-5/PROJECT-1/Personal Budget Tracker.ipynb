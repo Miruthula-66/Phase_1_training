{
 "cells": [
  {
   "cell_type": "code",
   "execution_count": 3,
   "metadata": {},
   "outputs": [
    {
     "name": "stdout",
     "output_type": "stream",
     "text": [
      "Income: 4200, Expenses: 2000, Balance: 2200\n"
     ]
    }
   ],
   "source": [
    "income = {\"salary\": 3000, \"freelance\": 1200}\n",
    "expenses = {\"rent\": 1200, \"food\": 500, \"entertainment\": 300}\n",
    "\n",
    "total_income = sum(income.values())\n",
    "total_expenses = sum(expenses.values())\n",
    "\n",
    "print(f\"Income: {total_income}, Expenses: {total_expenses}, Balance: {total_income - total_expenses}\")\n"
   ]
  }
 ],
 "metadata": {
  "kernelspec": {
   "display_name": "Python 3",
   "language": "python",
   "name": "python3"
  },
  "language_info": {
   "codemirror_mode": {
    "name": "ipython",
    "version": 3
   },
   "file_extension": ".py",
   "mimetype": "text/x-python",
   "name": "python",
   "nbconvert_exporter": "python",
   "pygments_lexer": "ipython3",
   "version": "3.13.2"
  }
 },
 "nbformat": 4,
 "nbformat_minor": 2
}
