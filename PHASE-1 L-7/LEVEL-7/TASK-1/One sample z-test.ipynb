{
 "cells": [
  {
   "cell_type": "code",
   "execution_count": 1,
   "metadata": {},
   "outputs": [
    {
     "name": "stdout",
     "output_type": "stream",
     "text": [
      "Z-score: 14.61\n",
      "P-value: 0.00000\n",
      "Reject H₀: The medication significantly affects IQ (likely increases it).\n"
     ]
    }
   ],
   "source": [
    "import numpy as np\n",
    "from scipy.stats import norm\n",
    "sample_mean = 140 \n",
    "population_mean = 100\n",
    "population_std = 15 \n",
    "sample_size = 30 \n",
    "z_score = (sample_mean - population_mean) / (population_std / np.sqrt(sample_size))\n",
    "p_value = 2 * (1 - norm.cdf(abs(z_score)))\n",
    "alpha = 0.05\n",
    "if p_value < alpha:\n",
    "    result = \"Reject H₀: The medication significantly affects IQ (likely increases it).\"\n",
    "else:\n",
    "    result = \"Fail to reject H₀: No significant effect of medication on IQ.\"\n",
    "print(f\"Z-score: {z_score:.2f}\")\n",
    "print(f\"P-value: {p_value:.5f}\")\n",
    "print(result)"
   ]
  }
 ],
 "metadata": {
  "kernelspec": {
   "display_name": "Python 3",
   "language": "python",
   "name": "python3"
  },
  "language_info": {
   "codemirror_mode": {
    "name": "ipython",
    "version": 3
   },
   "file_extension": ".py",
   "mimetype": "text/x-python",
   "name": "python",
   "nbconvert_exporter": "python",
   "pygments_lexer": "ipython3",
   "version": "3.13.2"
  }
 },
 "nbformat": 4,
 "nbformat_minor": 2
}
