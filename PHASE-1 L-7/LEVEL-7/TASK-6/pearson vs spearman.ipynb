{
 "cells": [
  {
   "cell_type": "code",
   "execution_count": 1,
   "metadata": {},
   "outputs": [
    {
     "name": "stdout",
     "output_type": "stream",
     "text": [
      "Pearson ≈ 0.83, Spearman ≈ 0.80, Both show positive correlation; Pearson higher due to near-linear relationship.\n"
     ]
    }
   ],
   "source": [
    "import scipy.stats as stats\n",
    "height = [160, 170, 180, 175]\n",
    "weight = [60, 70, 75, 65]\n",
    "pearson_corr, _ = stats.pearsonr(height, weight)\n",
    "spearman_corr, _ = stats.spearmanr(height, weight)\n",
    "print(f\"Pearson ≈ {pearson_corr:.2f}, Spearman ≈ {spearman_corr:.2f}, \"\n",
    "      f\"Both show positive correlation; Pearson higher due to near-linear relationship.\")\n"
   ]
  }
 ],
 "metadata": {
  "kernelspec": {
   "display_name": "Python 3",
   "language": "python",
   "name": "python3"
  },
  "language_info": {
   "codemirror_mode": {
    "name": "ipython",
    "version": 3
   },
   "file_extension": ".py",
   "mimetype": "text/x-python",
   "name": "python",
   "nbconvert_exporter": "python",
   "pygments_lexer": "ipython3",
   "version": "3.13.2"
  }
 },
 "nbformat": 4,
 "nbformat_minor": 2
}
