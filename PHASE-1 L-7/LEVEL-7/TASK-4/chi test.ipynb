{
 "cells": [
  {
   "cell_type": "code",
   "execution_count": 4,
   "metadata": {},
   "outputs": [
    {
     "name": "stdout",
     "output_type": "stream",
     "text": [
      "p-value: 0.00000\n",
      "Reject H₀; medication increases IQ (mean = 140 > 100).\n",
      "Chi-square statistic: 232.49\n",
      "p-value: 0.00000\n",
      "Reject H₀; age distribution changed.\n"
     ]
    }
   ],
   "source": [
    "import numpy as np\n",
    "import scipy.stats as stats\n",
    "pop_mean = 100  \n",
    "sample_mean = 140  \n",
    "sample_sd = 20  \n",
    "n = 30  \n",
    "alpha = 0.05\n",
    "np.random.seed(42) \n",
    "data = np.random.normal(sample_mean, sample_sd, n)\n",
    "t_stat, p_value = stats.ttest_1samp(data, pop_mean)\n",
    "if p_value < alpha:\n",
    "    decision = \"Reject H₀; medication increases IQ (mean = 140 > 100).\"\n",
    "else:\n",
    "    decision = \"Fail to reject H₀; no significant evidence that medication increases IQ.\"\n",
    "print(f\"p-value: {p_value:.5f}\")\n",
    "print(decision)\n",
    "observed = [121, 288, 91]\n",
    "expected = [100, 150, 250] \n",
    "chi2_stat, chi2_p_value = stats.chisquare(observed, expected)\n",
    "if chi2_p_value < alpha:\n",
    "    chi2_decision = \"Reject H₀; age distribution changed.\"\n",
    "else:\n",
    "    chi2_decision = \"Fail to reject H₀; no significant change in age distribution.\"\n",
    "print(f\"Chi-square statistic: {chi2_stat:.2f}\")\n",
    "print(f\"p-value: {chi2_p_value:.5f}\")\n",
    "print(chi2_decision)\n"
   ]
  }
 ],
 "metadata": {
  "kernelspec": {
   "display_name": "Python 3",
   "language": "python",
   "name": "python3"
  },
  "language_info": {
   "codemirror_mode": {
    "name": "ipython",
    "version": 3
   },
   "file_extension": ".py",
   "mimetype": "text/x-python",
   "name": "python",
   "nbconvert_exporter": "python",
   "pygments_lexer": "ipython3",
   "version": "3.13.2"
  }
 },
 "nbformat": 4,
 "nbformat_minor": 2
}
