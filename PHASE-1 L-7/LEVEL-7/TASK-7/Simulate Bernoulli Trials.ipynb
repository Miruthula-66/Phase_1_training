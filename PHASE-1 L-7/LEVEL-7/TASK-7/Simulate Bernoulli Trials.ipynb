{
 "cells": [
  {
   "cell_type": "code",
   "execution_count": 8,
   "metadata": {},
   "outputs": [
    {
     "name": "stdout",
     "output_type": "stream",
     "text": [
      "Matches theoretical P = 0.3 for Bernoulli trial.\n"
     ]
    }
   ],
   "source": [
    "import numpy as np\n",
    "num_trials = 1000\n",
    "p_success = 0.3\n",
    "trials = np.random.binomial(n=1, p=p_success, size=num_trials)\n",
    "simulated_p = np.mean(trials)\n",
    "print(\"Matches theoretical P = 0.3 for Bernoulli trial.\" if np.isclose(simulated_p, p_success, atol=0.05) else \"Does not match theoretical P.\")\n"
   ]
  }
 ],
 "metadata": {
  "kernelspec": {
   "display_name": "Python 3",
   "language": "python",
   "name": "python3"
  },
  "language_info": {
   "codemirror_mode": {
    "name": "ipython",
    "version": 3
   },
   "file_extension": ".py",
   "mimetype": "text/x-python",
   "name": "python",
   "nbconvert_exporter": "python",
   "pygments_lexer": "ipython3",
   "version": "3.13.2"
  }
 },
 "nbformat": 4,
 "nbformat_minor": 2
}
