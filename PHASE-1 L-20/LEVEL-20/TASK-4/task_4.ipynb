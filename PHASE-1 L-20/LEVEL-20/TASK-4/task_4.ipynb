{
 "cells": [
  {
   "cell_type": "code",
   "execution_count": 1,
   "id": "52581307-dc9e-485c-bcdf-a790d6bb4054",
   "metadata": {},
   "outputs": [
    {
     "name": "stdout",
     "output_type": "stream",
     "text": [
      "Defaulting to user installation because normal site-packages is not writeable\n",
      "Requirement already satisfied: selenium in c:\\users\\loges\\appdata\\roaming\\python\\python312\\site-packages (4.29.0)\n",
      "Requirement already satisfied: pandas in c:\\programdata\\anaconda3\\lib\\site-packages (2.2.2)\n",
      "Requirement already satisfied: beautifulsoup4 in c:\\programdata\\anaconda3\\lib\\site-packages (4.12.3)\n",
      "Requirement already satisfied: urllib3<3,>=1.26 in c:\\programdata\\anaconda3\\lib\\site-packages (from urllib3[socks]<3,>=1.26->selenium) (2.2.2)\n",
      "Requirement already satisfied: trio~=0.17 in c:\\users\\loges\\appdata\\roaming\\python\\python312\\site-packages (from selenium) (0.29.0)\n",
      "Requirement already satisfied: trio-websocket~=0.9 in c:\\users\\loges\\appdata\\roaming\\python\\python312\\site-packages (from selenium) (0.12.1)\n",
      "Requirement already satisfied: certifi>=2021.10.8 in c:\\programdata\\anaconda3\\lib\\site-packages (from selenium) (2024.6.2)\n",
      "Requirement already satisfied: typing_extensions~=4.9 in c:\\users\\loges\\appdata\\roaming\\python\\python312\\site-packages (from selenium) (4.12.2)\n",
      "Requirement already satisfied: websocket-client~=1.8 in c:\\programdata\\anaconda3\\lib\\site-packages (from selenium) (1.8.0)\n",
      "Requirement already satisfied: numpy>=1.26.0 in c:\\programdata\\anaconda3\\lib\\site-packages (from pandas) (1.26.4)\n",
      "Requirement already satisfied: python-dateutil>=2.8.2 in c:\\programdata\\anaconda3\\lib\\site-packages (from pandas) (2.9.0.post0)\n",
      "Requirement already satisfied: pytz>=2020.1 in c:\\programdata\\anaconda3\\lib\\site-packages (from pandas) (2024.1)\n",
      "Requirement already satisfied: tzdata>=2022.7 in c:\\programdata\\anaconda3\\lib\\site-packages (from pandas) (2023.3)\n",
      "Requirement already satisfied: soupsieve>1.2 in c:\\programdata\\anaconda3\\lib\\site-packages (from beautifulsoup4) (2.5)\n",
      "Requirement already satisfied: six>=1.5 in c:\\programdata\\anaconda3\\lib\\site-packages (from python-dateutil>=2.8.2->pandas) (1.16.0)\n",
      "Requirement already satisfied: attrs>=23.2.0 in c:\\users\\loges\\appdata\\roaming\\python\\python312\\site-packages (from trio~=0.17->selenium) (25.1.0)\n",
      "Requirement already satisfied: sortedcontainers in c:\\programdata\\anaconda3\\lib\\site-packages (from trio~=0.17->selenium) (2.4.0)\n",
      "Requirement already satisfied: idna in c:\\programdata\\anaconda3\\lib\\site-packages (from trio~=0.17->selenium) (3.7)\n",
      "Requirement already satisfied: outcome in c:\\users\\loges\\appdata\\roaming\\python\\python312\\site-packages (from trio~=0.17->selenium) (1.3.0.post0)\n",
      "Requirement already satisfied: sniffio>=1.3.0 in c:\\users\\loges\\appdata\\roaming\\python\\python312\\site-packages (from trio~=0.17->selenium) (1.3.1)\n",
      "Requirement already satisfied: cffi>=1.14 in c:\\programdata\\anaconda3\\lib\\site-packages (from trio~=0.17->selenium) (1.16.0)\n",
      "Requirement already satisfied: wsproto>=0.14 in c:\\users\\loges\\appdata\\roaming\\python\\python312\\site-packages (from trio-websocket~=0.9->selenium) (1.2.0)\n",
      "Requirement already satisfied: pysocks!=1.5.7,<2.0,>=1.5.6 in c:\\programdata\\anaconda3\\lib\\site-packages (from urllib3[socks]<3,>=1.26->selenium) (1.7.1)\n",
      "Requirement already satisfied: pycparser in c:\\programdata\\anaconda3\\lib\\site-packages (from cffi>=1.14->trio~=0.17->selenium) (2.21)\n",
      "Requirement already satisfied: h11<1,>=0.9.0 in c:\\users\\loges\\appdata\\roaming\\python\\python312\\site-packages (from wsproto>=0.14->trio-websocket~=0.9->selenium) (0.14.0)\n"
     ]
    }
   ],
   "source": [
    "!pip install selenium pandas beautifulsoup4\n",
    "\n"
   ]
  },
  {
   "cell_type": "code",
   "execution_count": 2,
   "id": "e09191c2-777f-4c9e-9c43-0c24cffddd62",
   "metadata": {},
   "outputs": [],
   "source": [
    "MATCH_URL = \"https://www.cricbuzz.com/live-cricket-scorecard/32781/mi-vs-rcb-1st-match-indian-premier-league-2021\"\n",
    "OUTPUT_PATH = \"match_data.csv\""
   ]
  },
  {
   "cell_type": "code",
   "execution_count": 10,
   "id": "7d54cd6b-8038-446f-85b8-078b1030f249",
   "metadata": {},
   "outputs": [],
   "source": [
    "from selenium import webdriver\n",
    "from selenium.webdriver.chrome.service import Service\n",
    "from selenium.webdriver.chrome.options import Options\n",
    "\n"
   ]
  },
  {
   "cell_type": "code",
   "execution_count": 14,
   "id": "7cc55168-1eaf-41df-b9f0-dc4fc0a3252b",
   "metadata": {},
   "outputs": [],
   "source": [
    "def extract_html(url):\n",
    "    \n",
    "    options = Options()\n",
    "    options.add_argument('--headless')  \n",
    "    options.add_argument('--disable-gpu')  \n",
    "    options.add_argument('--window-size=1920,1080')\n",
    "\n",
    "    \n",
    "    service = Service(executable_path=r\"C:\\Users\\loges\\Downloads\\chromedriver-win64 (1)\\chromedriver-win64\\chromedriver.exe\")\n",
    "\n",
    "  \n",
    "    driver = webdriver.Chrome(service=service, options=options)\n",
    "\n",
    "    print(\"[INFO] Accessing Cricbuzz...\")\n",
    "    driver.get(url)\n",
    "\n",
    "    html = driver.page_source\n",
    "    driver.quit()\n",
    "    return html"
   ]
  },
  {
   "cell_type": "code",
   "execution_count": 15,
   "id": "003e2ffb-23eb-4ddb-9138-fd82a9bf95b3",
   "metadata": {},
   "outputs": [
    {
     "name": "stdout",
     "output_type": "stream",
     "text": [
      "[INFO] Accessing Cricbuzz...\n",
      "<html lang=\"en\" itemscope=\"\" itemtype=\"http://schema.org/WebPage\"><head><style>@charset \"UTF-8\";[ng\\:cloak],[ng-cloak],[data-ng-cloak],[x-ng-cloak],.ng-cloak,.x-ng-cloak,.ng-hide:not(.ng-hide-animate){display:none !important;}ng\\:form{display:block;}.ng-animate-shim{visibility:hidden;}.ng-anchor{position:absolute;}</style><meta charset=\"utf-8\"><script type=\"text/javascript\" async=\"\" src=\"https://sb.scorecardresearch.com/c2/6036484/cs.js\"></script><script type=\"text/javascript\" async=\"\" src=\"http\n"
     ]
    }
   ],
   "source": [
    "MATCH_URL = \"https://www.cricbuzz.com/live-cricket-scorecard/34438/mi-vs-rcb-1st-match-indian-premier-league-2021\"\n",
    "html = extract_html(MATCH_URL)\n",
    "print(html[:500])  "
   ]
  },
  {
   "cell_type": "code",
   "execution_count": 16,
   "id": "09788c1d-5193-4532-a8c7-c7061c1cc424",
   "metadata": {},
   "outputs": [],
   "source": [
    "from bs4 import BeautifulSoup\n",
    "import pandas as pd\n"
   ]
  },
  {
   "cell_type": "code",
   "execution_count": 17,
   "id": "29c99e9f-812d-45c9-95c4-d7d929033030",
   "metadata": {},
   "outputs": [],
   "source": [
    "def transform_html(html):\n",
    "    soup = BeautifulSoup(html, 'html.parser')\n",
    "\n",
    "    all_overs = soup.find_all(\"div\", class_=\"cb-col cb-col-100 cb-col cb-com-ln\")\n",
    "\n",
    "    commentary_data = []\n",
    "    for over in all_overs:\n",
    "        try:\n",
    "            over_number = over.find(\"div\", class_=\"cb-col cb-col-8 text-bold\").text.strip()\n",
    "            ball_description = over.find(\"div\", class_=\"cb-col cb-col-90 cb-com-ln\").text.strip()\n",
    "            commentary_data.append({\"over\": over_number, \"description\": ball_description})\n",
    "        except Exception as e:\n",
    "            continue\n",
    "\n",
    " \n",
    "    df = pd.DataFrame(commentary_data)\n",
    "    return df"
   ]
  },
  {
   "cell_type": "code",
   "execution_count": 19,
   "id": "781e3ea5-64b5-4c69-9ef3-5eb21c0efd9a",
   "metadata": {},
   "outputs": [
    {
     "data": {
      "text/html": [
       "<div>\n",
       "<style scoped>\n",
       "    .dataframe tbody tr th:only-of-type {\n",
       "        vertical-align: middle;\n",
       "    }\n",
       "\n",
       "    .dataframe tbody tr th {\n",
       "        vertical-align: top;\n",
       "    }\n",
       "\n",
       "    .dataframe thead th {\n",
       "        text-align: right;\n",
       "    }\n",
       "</style>\n",
       "<table border=\"1\" class=\"dataframe\">\n",
       "  <thead>\n",
       "    <tr style=\"text-align: right;\">\n",
       "      <th></th>\n",
       "    </tr>\n",
       "  </thead>\n",
       "  <tbody>\n",
       "  </tbody>\n",
       "</table>\n",
       "</div>"
      ],
      "text/plain": [
       "Empty DataFrame\n",
       "Columns: []\n",
       "Index: []"
      ]
     },
     "execution_count": 19,
     "metadata": {},
     "output_type": "execute_result"
    }
   ],
   "source": [
    "df = transform_html(html)\n",
    "df.head() "
   ]
  },
  {
   "cell_type": "code",
   "execution_count": 20,
   "id": "0a6d05c9-90d3-4226-a243-da22c9521e51",
   "metadata": {},
   "outputs": [],
   "source": [
    "\n",
    "\n",
    "def load_to_csv(df, path):\n",
    "    df.to_csv(path, index=False)\n",
    "    print(f\"[SUCCESS] Data saved to: {path}\")\n"
   ]
  },
  {
   "cell_type": "code",
   "execution_count": 21,
   "id": "66a91934-0006-45fe-9fc8-78fffeefdf9d",
   "metadata": {},
   "outputs": [
    {
     "name": "stdout",
     "output_type": "stream",
     "text": [
      "[SUCCESS] Data saved to: match_data.csv\n"
     ]
    }
   ],
   "source": [
    "load_to_csv(df, OUTPUT_PATH)\n"
   ]
  },
  {
   "cell_type": "code",
   "execution_count": 28,
   "id": "2f6c192c-3e1c-4f1a-bf59-78d096191a20",
   "metadata": {},
   "outputs": [
    {
     "name": "stdout",
     "output_type": "stream",
     "text": [
      "[INFO] Accessing Cricbuzz...\n",
      "<html lang=\"en\" itemscope=\"\" itemtype=\"http://schema.org/WebPage\"><head><style>@charset \"UTF-8\";[ng\\:cloak],[ng-cloak],[data-ng-cloak],[x-ng-cloak],.ng-cloak,.x-ng-cloak,.ng-hide:not(.ng-hide-animate){display:none !important;}ng\\:form{display:block;}.ng-animate-shim{visibility:hidden;}.ng-anchor{position:absolute;}</style><meta charset=\"utf-8\"><script type=\"text/javascript\" async=\"\" src=\"https://sb.scorecardresearch.com/c2/6036484/cs.js\"></script><script type=\"text/javascript\" async=\"\" src=\"https://d2r1yp2w7bby2u.cloudfront.net/js/clevertap.min.js\"></script><script type=\"text/javascript\" async=\"\" src=\"https://www.googletagmanager.com/gtag/js?id=G-4H06J8XXQH&amp;l=dataLayer&amp;cx=c&amp;gtm=45He54g3h1v71840711za200&amp;tag_exp=102803279~102813109~102887800~102926062~103027016~103051953~103055465~103077950~103106314~103106316\"></script><script async=\"\" type=\"text/javascript\" src=\"https://www.googletagservices.com/tag/js/gpt.js\"></script><script type=\"text/javascript\" async=\"\" src=\"https:\n"
     ]
    }
   ],
   "source": [
    "html = extract_html(MATCH_URL)\n",
    "print(html[:1000]) \n"
   ]
  },
  {
   "cell_type": "code",
   "execution_count": 40,
   "id": "253860d8-8a7b-47ba-a135-0c79848dc4db",
   "metadata": {},
   "outputs": [],
   "source": [
    "from bs4 import BeautifulSoup\n",
    "import pandas as pd\n",
    "\n",
    "def scrape_commentary(html):\n",
    "    soup = BeautifulSoup(html, \"html.parser\")\n",
    "    \n",
    "    commentary_blocks = soup.select(\"div.cb-col.cb-col-100.cb-com-ln\")\n",
    "    \n",
    "    data_list = []\n",
    "    for block in commentary_blocks:\n",
    "        try:\n",
    "            over = block.select_one(\"span.cb-col.cb-col-8.text-bold\").text.strip()\n",
    "            desc = block.select_one(\"div.cb-col.cb-col-92.cb-com-ln\").text.strip()\n",
    "            data_list.append({\"over\": over, \"description\": desc})\n",
    "        except AttributeError:\n",
    "            continue\n",
    "\n",
    "    return data_list\n",
    "\n"
   ]
  },
  {
   "cell_type": "code",
   "execution_count": 41,
   "id": "34197d21-4502-41f3-9449-8d208d9c920f",
   "metadata": {},
   "outputs": [
    {
     "name": "stdout",
     "output_type": "stream",
     "text": [
      "[INFO] Accessing Cricbuzz...\n"
     ]
    }
   ],
   "source": [
    "MATCH_URL = \"https://www.cricbuzz.com/live-cricket-scorecard/34438/mi-vs-rcb-1st-match-indian-premier-league-2021\"\n",
    "\n",
    "html = extract_html(MATCH_URL)\n",
    "data_list = scrape_commentary(html)\n"
   ]
  },
  {
   "cell_type": "code",
   "execution_count": 42,
   "id": "fd88ee01-522a-4929-be2b-412c30572a17",
   "metadata": {},
   "outputs": [
    {
     "data": {
      "text/html": [
       "<div>\n",
       "<style scoped>\n",
       "    .dataframe tbody tr th:only-of-type {\n",
       "        vertical-align: middle;\n",
       "    }\n",
       "\n",
       "    .dataframe tbody tr th {\n",
       "        vertical-align: top;\n",
       "    }\n",
       "\n",
       "    .dataframe thead th {\n",
       "        text-align: right;\n",
       "    }\n",
       "</style>\n",
       "<table border=\"1\" class=\"dataframe\">\n",
       "  <thead>\n",
       "    <tr style=\"text-align: right;\">\n",
       "      <th></th>\n",
       "    </tr>\n",
       "  </thead>\n",
       "  <tbody>\n",
       "  </tbody>\n",
       "</table>\n",
       "</div>"
      ],
      "text/plain": [
       "Empty DataFrame\n",
       "Columns: []\n",
       "Index: []"
      ]
     },
     "execution_count": 42,
     "metadata": {},
     "output_type": "execute_result"
    }
   ],
   "source": [
    "df = pd.DataFrame(data_list)\n",
    "df.to_csv(\"match_commentary.csv\", index=False)\n",
    "df.head()\n",
    "\n",
    "\n"
   ]
  },
  {
   "cell_type": "code",
   "execution_count": 43,
   "id": "650b1dc6-d757-415c-87e4-b9dc87a2b8ad",
   "metadata": {},
   "outputs": [
    {
     "name": "stdout",
     "output_type": "stream",
     "text": [
      "[SUCCESS] Data saved to: match_data.csv\n"
     ]
    }
   ],
   "source": [
    "load_to_csv(df, OUTPUT_PATH)\n"
   ]
  },
  {
   "cell_type": "code",
   "execution_count": 44,
   "id": "53af0c0f-5015-461a-9533-7a880905485d",
   "metadata": {},
   "outputs": [
    {
     "name": "stdout",
     "output_type": "stream",
     "text": [
      "[START] Running IPL Match ETL Pipeline...\n",
      "\n",
      "[INFO] Accessing Cricbuzz...\n",
      "[SUCCESS] Data saved to: match_data.csv\n",
      "\n",
      "[COMPLETE] ETL Pipeline finished!\n"
     ]
    }
   ],
   "source": [
    "\n",
    "\n",
    "def run_pipeline():\n",
    "    print(\"[START] Running IPL Match ETL Pipeline...\\n\")\n",
    "\n",
    "    \n",
    "    html = extract_html(MATCH_URL)\n",
    "\n",
    "   \n",
    "    df = transform_html(html)\n",
    "\n",
    "  \n",
    "    load_to_csv(df, OUTPUT_PATH)\n",
    "\n",
    "    print(\"\\n[COMPLETE] ETL Pipeline finished!\")\n",
    "\n",
    "\n",
    "run_pipeline()\n"
   ]
  },
  {
   "cell_type": "code",
   "execution_count": null,
   "id": "0fe2a13a-21bb-49f3-8aec-853c6dc1775b",
   "metadata": {},
   "outputs": [],
   "source": [
    "\n"
   ]
  },
  {
   "cell_type": "code",
   "execution_count": null,
   "id": "38d01270-c9b3-47fa-8afd-b2fc69a9b505",
   "metadata": {},
   "outputs": [],
   "source": []
  }
 ],
 "metadata": {
  "kernelspec": {
   "display_name": "Python 3 (ipykernel)",
   "language": "python",
   "name": "python3"
  },
  "language_info": {
   "codemirror_mode": {
    "name": "ipython",
    "version": 3
   },
   "file_extension": ".py",
   "mimetype": "text/x-python",
   "name": "python",
   "nbconvert_exporter": "python",
   "pygments_lexer": "ipython3",
   "version": "3.12.4"
  }
 },
 "nbformat": 4,
 "nbformat_minor": 5
}
