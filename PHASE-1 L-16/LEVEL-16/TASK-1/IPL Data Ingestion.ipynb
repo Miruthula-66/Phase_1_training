{
 "cells": [
  {
   "cell_type": "code",
   "execution_count": 0,
   "metadata": {
    "application/vnd.databricks.v1+cell": {
     "cellMetadata": {
      "byteLimit": 2048000,
      "rowLimit": 10000
     },
     "inputWidgets": {},
     "nuid": "29480c68-c3fb-4f83-a117-8bdcaa8c202c",
     "showTitle": false,
     "tableResultSettingsMap": {},
     "title": ""
    }
   },
   "outputs": [
    {
     "output_type": "display_data",
     "data": {
      "text/html": [
       "\n",
       "            <div>\n",
       "                <p><b>SparkSession - hive</b></p>\n",
       "                \n",
       "        <div>\n",
       "            <p><b>SparkContext</b></p>\n",
       "\n",
       "            <p><a href=\"/?o=1587595827030467#setting/sparkui/0503-102030-sm4p7nsl/driver-2589377777780187145\">Spark UI</a></p>\n",
       "\n",
       "            <dl>\n",
       "              <dt>Version</dt>\n",
       "                <dd><code>v3.3.2</code></dd>\n",
       "              <dt>Master</dt>\n",
       "                <dd><code>local[8]</code></dd>\n",
       "              <dt>AppName</dt>\n",
       "                <dd><code>Databricks Shell</code></dd>\n",
       "            </dl>\n",
       "        </div>\n",
       "        \n",
       "            </div>\n",
       "        "
      ]
     },
     "metadata": {
      "application/vnd.databricks.v1+output": {
       "addedWidgets": {},
       "arguments": {},
       "data": "\n            <div>\n                <p><b>SparkSession - hive</b></p>\n                \n        <div>\n            <p><b>SparkContext</b></p>\n\n            <p><a href=\"/?o=1587595827030467#setting/sparkui/0503-102030-sm4p7nsl/driver-2589377777780187145\">Spark UI</a></p>\n\n            <dl>\n              <dt>Version</dt>\n                <dd><code>v3.3.2</code></dd>\n              <dt>Master</dt>\n                <dd><code>local[8]</code></dd>\n              <dt>AppName</dt>\n                <dd><code>Databricks Shell</code></dd>\n            </dl>\n        </div>\n        \n            </div>\n        ",
       "datasetInfos": [],
       "metadata": {},
       "removedWidgets": [],
       "textData": null,
       "type": "htmlSandbox"
      }
     },
     "output_type": "display_data"
    }
   ],
   "source": [
    "from pyspark.sql import SparkSession\n",
    "spark = SparkSession.builder.appName(\"IPL Data Ingestion\").getOrCreate()\n",
    "spark\n"
   ]
  },
  {
   "cell_type": "code",
   "execution_count": 0,
   "metadata": {
    "application/vnd.databricks.v1+cell": {
     "cellMetadata": {
      "byteLimit": 2048000,
      "rowLimit": 10000
     },
     "inputWidgets": {},
     "nuid": "5be17bac-16d3-455a-aea9-9093cd9a7c7f",
     "showTitle": false,
     "tableResultSettingsMap": {},
     "title": ""
    }
   },
   "outputs": [],
   "source": [
    "from pyspark.sql import SparkSession\n",
    "spark = SparkSession.builder.appName(\"IPL Data Pipeline\").getOrCreate()\n"
   ]
  },
  {
   "cell_type": "code",
   "execution_count": 0,
   "metadata": {
    "application/vnd.databricks.v1+cell": {
     "cellMetadata": {
      "byteLimit": 2048000,
      "rowLimit": 10000
     },
     "inputWidgets": {},
     "nuid": "924653d5-7a19-4337-b902-36558b162a61",
     "showTitle": false,
     "tableResultSettingsMap": {},
     "title": ""
    }
   },
   "outputs": [],
   "source": [
    "from pyspark.sql.types import StringType\n",
    "string_schema = StringType()\n"
   ]
  },
  {
   "cell_type": "code",
   "execution_count": 0,
   "metadata": {
    "application/vnd.databricks.v1+cell": {
     "cellMetadata": {
      "byteLimit": 2048000,
      "rowLimit": 10000
     },
     "inputWidgets": {},
     "nuid": "4bb14f1f-ba11-4b3a-8614-c2a4caa21c3e",
     "showTitle": false,
     "tableResultSettingsMap": {},
     "title": ""
    }
   },
   "outputs": [
    {
     "output_type": "stream",
     "name": "stdout",
     "output_type": "stream",
     "text": [
      "+------+-------+----------+----------+----------+---------------+--------------------+--------------------+--------------------+--------------------+-------------+--------------------+-------+-------------+-----------+------------+----------+------+---------+--------------+\n|    id| season|      city|      date|match_type|player_of_match|               venue|               team1|               team2|         toss_winner|toss_decision|              winner| result|result_margin|target_runs|target_overs|super_over|method|  umpire1|       umpire2|\n+------+-------+----------+----------+----------+---------------+--------------------+--------------------+--------------------+--------------------+-------------+--------------------+-------+-------------+-----------+------------+----------+------+---------+--------------+\n|335982|2007/08| Bangalore|2008-04-18|    League|    BB McCullum|M Chinnaswamy Sta...|Royal Challengers...|Kolkata Knight Ri...|Royal Challengers...|        field|Kolkata Knight Ri...|   runs|          140|        223|          20|         N|    NA|Asad Rauf|   RE Koertzen|\n|335983|2007/08|Chandigarh|2008-04-19|    League|     MEK Hussey|Punjab Cricket As...|     Kings XI Punjab| Chennai Super Kings| Chennai Super Kings|          bat| Chennai Super Kings|   runs|           33|        241|          20|         N|    NA|MR Benson|    SL Shastri|\n|335984|2007/08|     Delhi|2008-04-19|    League|    MF Maharoof|    Feroz Shah Kotla|    Delhi Daredevils|    Rajasthan Royals|    Rajasthan Royals|          bat|    Delhi Daredevils|wickets|            9|        130|          20|         N|    NA|Aleem Dar|GA Pratapkumar|\n|335985|2007/08|    Mumbai|2008-04-20|    League|     MV Boucher|    Wankhede Stadium|      Mumbai Indians|Royal Challengers...|      Mumbai Indians|          bat|Royal Challengers...|wickets|            5|        166|          20|         N|    NA| SJ Davis|     DJ Harper|\n|335986|2007/08|   Kolkata|2008-04-20|    League|      DJ Hussey|        Eden Gardens|Kolkata Knight Ri...|     Deccan Chargers|     Deccan Chargers|          bat|Kolkata Knight Ri...|wickets|            5|        111|          20|         N|    NA|BF Bowden|   K Hariharan|\n+------+-------+----------+----------+----------+---------------+--------------------+--------------------+--------------------+--------------------+-------------+--------------------+-------+-------------+-----------+------------+----------+------+---------+--------------+\nonly showing top 5 rows\n\n"
     ]
    }
   ],
   "source": [
    "from pyspark.sql.types import StructType, StructField, StringType\n",
    "string_schema = StructType([\n",
    "    StructField(\"id\", StringType(), True),\n",
    "    StructField(\"season\", StringType(), True),\n",
    "    StructField(\"city\", StringType(), True),\n",
    "    StructField(\"date\", StringType(), True),\n",
    "    StructField(\"match_type\", StringType(), True),\n",
    "    StructField(\"player_of_match\", StringType(), True),\n",
    "    StructField(\"venue\", StringType(), True),\n",
    "    StructField(\"team1\", StringType(), True),\n",
    "    StructField(\"team2\", StringType(), True),\n",
    "    StructField(\"toss_winner\", StringType(), True),\n",
    "    StructField(\"toss_decision\", StringType(), True),\n",
    "    StructField(\"winner\", StringType(), True),\n",
    "    StructField(\"result\", StringType(), True),\n",
    "    StructField(\"result_margin\", StringType(), True),\n",
    "    StructField(\"target_runs\", StringType(), True),\n",
    "    StructField(\"target_overs\", StringType(), True),\n",
    "    StructField(\"super_over\", StringType(), True),\n",
    "    StructField(\"method\", StringType(), True),\n",
    "    StructField(\"umpire1\", StringType(), True),\n",
    "    StructField(\"umpire2\", StringType(), True)\n",
    "])\n",
    "ipl_raw_data_string = spark.read.option(\"header\", \"true\").schema(string_schema).csv(\"/FileStore/tables/matches.csv\")\n",
    "ipl_raw_data_string.show(5)\n"
   ]
  },
  {
   "cell_type": "code",
   "execution_count": 0,
   "metadata": {
    "application/vnd.databricks.v1+cell": {
     "cellMetadata": {
      "byteLimit": 2048000,
      "rowLimit": 10000
     },
     "inputWidgets": {},
     "nuid": "04f75786-d6f1-4bf6-ad02-f31fa5a19c08",
     "showTitle": false,
     "tableResultSettingsMap": {},
     "title": ""
    }
   },
   "outputs": [
    {
     "output_type": "stream",
     "name": "stdout",
     "output_type": "stream",
     "text": [
      "+------+------+----------+----------+----------+---------------+--------------------+--------------------+--------------------+--------------------+-------------+--------------------+-------+-------------+-----------+------------+----------+------+---------+--------------+\n|    id|season|      city|      date|match_type|player_of_match|               venue|               team1|               team2|         toss_winner|toss_decision|              winner| result|result_margin|target_runs|target_overs|super_over|method|  umpire1|       umpire2|\n+------+------+----------+----------+----------+---------------+--------------------+--------------------+--------------------+--------------------+-------------+--------------------+-------+-------------+-----------+------------+----------+------+---------+--------------+\n|335982|  null| Bangalore|2008-04-18|    League|    BB McCullum|M Chinnaswamy Sta...|Royal Challengers...|Kolkata Knight Ri...|Royal Challengers...|        field|Kolkata Knight Ri...|   runs|          140|        223|          20|         N|    NA|Asad Rauf|   RE Koertzen|\n|335983|  null|Chandigarh|2008-04-19|    League|     MEK Hussey|Punjab Cricket As...|     Kings XI Punjab| Chennai Super Kings| Chennai Super Kings|          bat| Chennai Super Kings|   runs|           33|        241|          20|         N|    NA|MR Benson|    SL Shastri|\n|335984|  null|     Delhi|2008-04-19|    League|    MF Maharoof|    Feroz Shah Kotla|    Delhi Daredevils|    Rajasthan Royals|    Rajasthan Royals|          bat|    Delhi Daredevils|wickets|            9|        130|          20|         N|    NA|Aleem Dar|GA Pratapkumar|\n|335985|  null|    Mumbai|2008-04-20|    League|     MV Boucher|    Wankhede Stadium|      Mumbai Indians|Royal Challengers...|      Mumbai Indians|          bat|Royal Challengers...|wickets|            5|        166|          20|         N|    NA| SJ Davis|     DJ Harper|\n|335986|  null|   Kolkata|2008-04-20|    League|      DJ Hussey|        Eden Gardens|Kolkata Knight Ri...|     Deccan Chargers|     Deccan Chargers|          bat|Kolkata Knight Ri...|wickets|            5|        111|          20|         N|    NA|BF Bowden|   K Hariharan|\n+------+------+----------+----------+----------+---------------+--------------------+--------------------+--------------------+--------------------+-------------+--------------------+-------+-------------+-----------+------------+----------+------+---------+--------------+\nonly showing top 5 rows\n\n"
     ]
    }
   ],
   "source": [
    "from pyspark.sql.types import StructType, StructField, StringType, IntegerType, DateType\n",
    "struct_schema = StructType([\n",
    "    StructField(\"id\", IntegerType(), True),\n",
    "    StructField(\"season\", IntegerType(), True),\n",
    "    StructField(\"city\", StringType(), True),\n",
    "    StructField(\"date\", DateType(), True),\n",
    "    StructField(\"match_type\", StringType(), True),\n",
    "    StructField(\"player_of_match\", StringType(), True),\n",
    "    StructField(\"venue\", StringType(), True),\n",
    "    StructField(\"team1\", StringType(), True),\n",
    "    StructField(\"team2\", StringType(), True),\n",
    "    StructField(\"toss_winner\", StringType(), True),\n",
    "    StructField(\"toss_decision\", StringType(), True),\n",
    "    StructField(\"winner\", StringType(), True),\n",
    "    StructField(\"result\", StringType(), True),\n",
    "    StructField(\"result_margin\", IntegerType(), True),\n",
    "    StructField(\"target_runs\", IntegerType(), True),\n",
    "    StructField(\"target_overs\", IntegerType(), True),\n",
    "    StructField(\"super_over\", StringType(), True),\n",
    "    StructField(\"method\", StringType(), True),\n",
    "    StructField(\"umpire1\", StringType(), True),\n",
    "    StructField(\"umpire2\", StringType(), True)\n",
    "])\n",
    "\n",
    "ipl_raw_data_struct = spark.read.option(\"header\", \"true\").schema(struct_schema).csv(\"/FileStore/tables/matches.csv\")\n",
    "ipl_raw_data_struct.show(5)\n"
   ]
  },
  {
   "cell_type": "code",
   "execution_count": 0,
   "metadata": {
    "application/vnd.databricks.v1+cell": {
     "cellMetadata": {
      "byteLimit": 2048000,
      "rowLimit": 10000
     },
     "inputWidgets": {},
     "nuid": "8d4d250f-7ba9-42a5-8dc1-8218fc0a33c6",
     "showTitle": false,
     "tableResultSettingsMap": {},
     "title": ""
    }
   },
   "outputs": [
    {
     "output_type": "stream",
     "name": "stdout",
     "output_type": "stream",
     "text": [
      "+------+-------+----------+----------+----------+---------------+--------------------+--------------------+--------------------+--------------------+-------------+--------------------+-------+-------------+-----------+------------+----------+------+---------+--------------+\n|    id| season|      city|      date|match_type|player_of_match|               venue|               team1|               team2|         toss_winner|toss_decision|              winner| result|result_margin|target_runs|target_overs|super_over|method|  umpire1|       umpire2|\n+------+-------+----------+----------+----------+---------------+--------------------+--------------------+--------------------+--------------------+-------------+--------------------+-------+-------------+-----------+------------+----------+------+---------+--------------+\n|335982|2007/08| Bangalore|2008-04-18|    League|    BB McCullum|M Chinnaswamy Sta...|Royal Challengers...|Kolkata Knight Ri...|Royal Challengers...|        field|Kolkata Knight Ri...|   runs|          140|        223|          20|         N|    NA|Asad Rauf|   RE Koertzen|\n|335983|2007/08|Chandigarh|2008-04-19|    League|     MEK Hussey|Punjab Cricket As...|     Kings XI Punjab| Chennai Super Kings| Chennai Super Kings|          bat| Chennai Super Kings|   runs|           33|        241|          20|         N|    NA|MR Benson|    SL Shastri|\n|335984|2007/08|     Delhi|2008-04-19|    League|    MF Maharoof|    Feroz Shah Kotla|    Delhi Daredevils|    Rajasthan Royals|    Rajasthan Royals|          bat|    Delhi Daredevils|wickets|            9|        130|          20|         N|    NA|Aleem Dar|GA Pratapkumar|\n|335985|2007/08|    Mumbai|2008-04-20|    League|     MV Boucher|    Wankhede Stadium|      Mumbai Indians|Royal Challengers...|      Mumbai Indians|          bat|Royal Challengers...|wickets|            5|        166|          20|         N|    NA| SJ Davis|     DJ Harper|\n|335986|2007/08|   Kolkata|2008-04-20|    League|      DJ Hussey|        Eden Gardens|Kolkata Knight Ri...|     Deccan Chargers|     Deccan Chargers|          bat|Kolkata Knight Ri...|wickets|            5|        111|          20|         N|    NA|BF Bowden|   K Hariharan|\n+------+-------+----------+----------+----------+---------------+--------------------+--------------------+--------------------+--------------------+-------------+--------------------+-------+-------------+-----------+------------+----------+------+---------+--------------+\nonly showing top 5 rows\n\n"
     ]
    }
   ],
   "source": [
    "\n",
    "raw_data_check = spark.read.option(\"header\", \"true\").csv(\"/FileStore/tables/matches.csv\")\n",
    "raw_data_check.show(5)\n"
   ]
  },
  {
   "cell_type": "code",
   "execution_count": 0,
   "metadata": {
    "application/vnd.databricks.v1+cell": {
     "cellMetadata": {
      "byteLimit": 2048000,
      "rowLimit": 10000
     },
     "inputWidgets": {},
     "nuid": "f6a4b43c-6817-4586-b40f-79dbc6c4ce12",
     "showTitle": false,
     "tableResultSettingsMap": {},
     "title": ""
    }
   },
   "outputs": [
    {
     "output_type": "stream",
     "name": "stdout",
     "output_type": "stream",
     "text": [
      "+------+------+--------------+----------+----------+---------------+----------------+--------------------+--------------------+--------------------+-------------+--------------------+-------+-------------+-----------+------------+----------+------+-----------+-----------+\n|    id|season|          city|      date|match_type|player_of_match|           venue|               team1|               team2|         toss_winner|toss_decision|              winner| result|result_margin|target_runs|target_overs|super_over|method|    umpire1|    umpire2|\n+------+------+--------------+----------+----------+---------------+----------------+--------------------+--------------------+--------------------+-------------+--------------------+-------+-------------+-----------+------------+----------+------+-----------+-----------+\n|392181|  2009|     Cape Town|2009-04-18|    League|   SR Tendulkar|        Newlands| Chennai Super Kings|      Mumbai Indians| Chennai Super Kings|        field|      Mumbai Indians|   runs|           19|        166|          20|         N|    NA|BR Doctrove|K Hariharan|\n|392182|  2009|     Cape Town|2009-04-18|    League|       R Dravid|        Newlands|Royal Challengers...|    Rajasthan Royals|Royal Challengers...|          bat|Royal Challengers...|   runs|           75|        134|          20|         N|    NA|BR Doctrove|  RB Tiffin|\n|392183|  2009|     Cape Town|2009-04-19|    League|     DL Vettori|        Newlands|    Delhi Daredevils|     Kings XI Punjab|    Delhi Daredevils|        field|    Delhi Daredevils|wickets|           10|         54|           6|         N|   D/L|  MR Benson|  SD Ranade|\n|392184|  2009|     Cape Town|2009-04-19|    League|       RP Singh|        Newlands|     Deccan Chargers|Kolkata Knight Ri...|Kolkata Knight Ri...|          bat|     Deccan Chargers|wickets|            8|        102|          20|         N|    NA|  MR Benson|BR Doctrove|\n|392185|  2009|Port Elizabeth|2009-04-20|    League| M Muralitharan|St George's Park|Royal Challengers...| Chennai Super Kings| Chennai Super Kings|          bat| Chennai Super Kings|   runs|           92|        180|          20|         N|    NA| BG Jerling| SJA Taufel|\n+------+------+--------------+----------+----------+---------------+----------------+--------------------+--------------------+--------------------+-------------+--------------------+-------+-------------+-----------+------------+----------+------+-----------+-----------+\nonly showing top 5 rows\n\n"
     ]
    }
   ],
   "source": [
    "\n",
    "ipl_raw_data_struct_clean = ipl_raw_data_struct.filter(ipl_raw_data_struct[\"season\"].isNotNull())\n",
    "ipl_raw_data_struct_clean.show(5)\n"
   ]
  },
  {
   "cell_type": "code",
   "execution_count": 0,
   "metadata": {
    "application/vnd.databricks.v1+cell": {
     "cellMetadata": {
      "byteLimit": 2048000,
      "rowLimit": 10000
     },
     "inputWidgets": {},
     "nuid": "98fde3e6-f674-40fc-ac9d-3f45e9d69ec5",
     "showTitle": false,
     "tableResultSettingsMap": {},
     "title": ""
    }
   },
   "outputs": [
    {
     "output_type": "stream",
     "name": "stdout",
     "output_type": "stream",
     "text": [
      "+------+------+----------+----------+----------+---------------+--------------------+--------------------+--------------------+--------------------+-------------+--------------------+-------+-------------+-----------+------------+----------+------+---------+--------------+\n|    id|season|      city|      date|match_type|player_of_match|               venue|               team1|               team2|         toss_winner|toss_decision|              winner| result|result_margin|target_runs|target_overs|super_over|method|  umpire1|       umpire2|\n+------+------+----------+----------+----------+---------------+--------------------+--------------------+--------------------+--------------------+-------------+--------------------+-------+-------------+-----------+------------+----------+------+---------+--------------+\n|335982|  null| Bangalore|2008-04-18|    League|    BB McCullum|M Chinnaswamy Sta...|Royal Challengers...|Kolkata Knight Ri...|Royal Challengers...|        field|Kolkata Knight Ri...|   runs|          140|        223|          20|         N|    NA|Asad Rauf|   RE Koertzen|\n|335983|  null|Chandigarh|2008-04-19|    League|     MEK Hussey|Punjab Cricket As...|     Kings XI Punjab| Chennai Super Kings| Chennai Super Kings|          bat| Chennai Super Kings|   runs|           33|        241|          20|         N|    NA|MR Benson|    SL Shastri|\n|335984|  null|     Delhi|2008-04-19|    League|    MF Maharoof|    Feroz Shah Kotla|    Delhi Daredevils|    Rajasthan Royals|    Rajasthan Royals|          bat|    Delhi Daredevils|wickets|            9|        130|          20|         N|    NA|Aleem Dar|GA Pratapkumar|\n|335985|  null|    Mumbai|2008-04-20|    League|     MV Boucher|    Wankhede Stadium|      Mumbai Indians|Royal Challengers...|      Mumbai Indians|          bat|Royal Challengers...|wickets|            5|        166|          20|         N|    NA| SJ Davis|     DJ Harper|\n|335986|  null|   Kolkata|2008-04-20|    League|      DJ Hussey|        Eden Gardens|Kolkata Knight Ri...|     Deccan Chargers|     Deccan Chargers|          bat|Kolkata Knight Ri...|wickets|            5|        111|          20|         N|    NA|BF Bowden|   K Hariharan|\n+------+------+----------+----------+----------+---------------+--------------------+--------------------+--------------------+--------------------+-------------+--------------------+-------+-------------+-----------+------------+----------+------+---------+--------------+\nonly showing top 5 rows\n\n"
     ]
    }
   ],
   "source": [
    "\n",
    "ipl_raw_data_struct_fixed = ipl_raw_data_struct.withColumn(\"season\", ipl_raw_data_struct[\"season\"].cast(IntegerType()))\n",
    "ipl_raw_data_struct_fixed.show(5)\n"
   ]
  },
  {
   "cell_type": "code",
   "execution_count": 0,
   "metadata": {
    "application/vnd.databricks.v1+cell": {
     "cellMetadata": {
      "byteLimit": 2048000,
      "rowLimit": 10000
     },
     "inputWidgets": {},
     "nuid": "050cbc17-f8f5-4a04-9eee-3e2fa87d2ca7",
     "showTitle": false,
     "tableResultSettingsMap": {},
     "title": ""
    }
   },
   "outputs": [
    {
     "output_type": "stream",
     "name": "stdout",
     "output_type": "stream",
     "text": [
      "+------+-------+----------+----------+----------+---------------+------------------------------------------+---------------------------+---------------------------+---------------------------+-------------+---------------------------+-------+-------------+-----------+------------+----------+------+---------+--------------+\n|id    |season |city      |date      |match_type|player_of_match|venue                                     |team1                      |team2                      |toss_winner                |toss_decision|winner                     |result |result_margin|target_runs|target_overs|super_over|method|umpire1  |umpire2       |\n+------+-------+----------+----------+----------+---------------+------------------------------------------+---------------------------+---------------------------+---------------------------+-------------+---------------------------+-------+-------------+-----------+------------+----------+------+---------+--------------+\n|id    |season |city      |date      |match_type|player_of_match|venue                                     |team1                      |team2                      |toss_winner                |toss_decision|winner                     |result |result_margin|target_runs|target_overs|super_over|method|umpire1  |umpire2       |\n|335982|2007/08|Bangalore |2008-04-18|League    |BB McCullum    |M Chinnaswamy Stadium                     |Royal Challengers Bangalore|Kolkata Knight Riders      |Royal Challengers Bangalore|field        |Kolkata Knight Riders      |runs   |140          |223        |20          |N         |NA    |Asad Rauf|RE Koertzen   |\n|335983|2007/08|Chandigarh|2008-04-19|League    |MEK Hussey     |Punjab Cricket Association Stadium, Mohali|Kings XI Punjab            |Chennai Super Kings        |Chennai Super Kings        |bat          |Chennai Super Kings        |runs   |33           |241        |20          |N         |NA    |MR Benson|SL Shastri    |\n|335984|2007/08|Delhi     |2008-04-19|League    |MF Maharoof    |Feroz Shah Kotla                          |Delhi Daredevils           |Rajasthan Royals           |Rajasthan Royals           |bat          |Delhi Daredevils           |wickets|9            |130        |20          |N         |NA    |Aleem Dar|GA Pratapkumar|\n|335985|2007/08|Mumbai    |2008-04-20|League    |MV Boucher     |Wankhede Stadium                          |Mumbai Indians             |Royal Challengers Bangalore|Mumbai Indians             |bat          |Royal Challengers Bangalore|wickets|5            |166        |20          |N         |NA    |SJ Davis |DJ Harper     |\n+------+-------+----------+----------+----------+---------------+------------------------------------------+---------------------------+---------------------------+---------------------------+-------------+---------------------------+-------+-------------+-----------+------------+----------+------+---------+--------------+\nonly showing top 5 rows\n\n"
     ]
    }
   ],
   "source": [
    "\n",
    "string_schema = \"id STRING, season STRING, city STRING, date STRING, match_type STRING, player_of_match STRING, venue STRING, team1 STRING, team2 STRING, toss_winner STRING, toss_decision STRING, winner STRING, result STRING, result_margin STRING, target_runs STRING, target_overs STRING, super_over STRING, method STRING, umpire1 STRING, umpire2 STRING\"\n",
    "raw_data_string = spark.read.schema(string_schema).csv('/FileStore/tables/matches.csv')\n",
    "raw_data_string.show(5, truncate=False)\n"
   ]
  },
  {
   "cell_type": "code",
   "execution_count": 0,
   "metadata": {
    "application/vnd.databricks.v1+cell": {
     "cellMetadata": {
      "byteLimit": 2048000,
      "rowLimit": 10000
     },
     "inputWidgets": {},
     "nuid": "6e541235-6a7e-4b90-a97b-a5b71fa0d605",
     "showTitle": false,
     "tableResultSettingsMap": {},
     "title": ""
    }
   },
   "outputs": [
    {
     "output_type": "stream",
     "name": "stdout",
     "output_type": "stream",
     "text": [
      "+------+-------+----------+----------+----------+---------------+--------------------+--------------------+--------------------+--------------------+-------------+--------------------+-------+-------------+-----------+------------+----------+------+---------+--------------+\n|    id| season|      city|      date|match_type|player_of_match|               venue|               team1|               team2|         toss_winner|toss_decision|              winner| result|result_margin|target_runs|target_overs|super_over|method|  umpire1|       umpire2|\n+------+-------+----------+----------+----------+---------------+--------------------+--------------------+--------------------+--------------------+-------------+--------------------+-------+-------------+-----------+------------+----------+------+---------+--------------+\n|    id| season|      city|      date|match_type|player_of_match|               venue|               team1|               team2|         toss_winner|toss_decision|              winner| result|         null|       null|        null|super_over|method|  umpire1|       umpire2|\n|335982|2007/08| Bangalore|2008-04-18|    League|    BB McCullum|M Chinnaswamy Sta...|Royal Challengers...|Kolkata Knight Ri...|Royal Challengers...|        field|Kolkata Knight Ri...|   runs|          140|        223|          20|         N|    NA|Asad Rauf|   RE Koertzen|\n|335983|2007/08|Chandigarh|2008-04-19|    League|     MEK Hussey|Punjab Cricket As...|     Kings XI Punjab| Chennai Super Kings| Chennai Super Kings|          bat| Chennai Super Kings|   runs|           33|        241|          20|         N|    NA|MR Benson|    SL Shastri|\n|335984|2007/08|     Delhi|2008-04-19|    League|    MF Maharoof|    Feroz Shah Kotla|    Delhi Daredevils|    Rajasthan Royals|    Rajasthan Royals|          bat|    Delhi Daredevils|wickets|            9|        130|          20|         N|    NA|Aleem Dar|GA Pratapkumar|\n|335985|2007/08|    Mumbai|2008-04-20|    League|     MV Boucher|    Wankhede Stadium|      Mumbai Indians|Royal Challengers...|      Mumbai Indians|          bat|Royal Challengers...|wickets|            5|        166|          20|         N|    NA| SJ Davis|     DJ Harper|\n+------+-------+----------+----------+----------+---------------+--------------------+--------------------+--------------------+--------------------+-------------+--------------------+-------+-------------+-----------+------------+----------+------+---------+--------------+\nonly showing top 5 rows\n\n"
     ]
    }
   ],
   "source": [
    "from pyspark.sql.types import StructType, StructField, StringType, IntegerType\n",
    "structured_schema = StructType([\n",
    "    StructField(\"id\", StringType(), True),\n",
    "    StructField(\"season\", StringType(), True),\n",
    "    StructField(\"city\", StringType(), True),\n",
    "    StructField(\"date\", StringType(), True),\n",
    "    StructField(\"match_type\", StringType(), True),\n",
    "    StructField(\"player_of_match\", StringType(), True),\n",
    "    StructField(\"venue\", StringType(), True),\n",
    "    StructField(\"team1\", StringType(), True),\n",
    "    StructField(\"team2\", StringType(), True),\n",
    "    StructField(\"toss_winner\", StringType(), True),\n",
    "    StructField(\"toss_decision\", StringType(), True),\n",
    "    StructField(\"winner\", StringType(), True),\n",
    "    StructField(\"result\", StringType(), True),\n",
    "    StructField(\"result_margin\", IntegerType(), True),\n",
    "    StructField(\"target_runs\", IntegerType(), True),\n",
    "    StructField(\"target_overs\", IntegerType(), True),\n",
    "    StructField(\"super_over\", StringType(), True),\n",
    "    StructField(\"method\", StringType(), True),\n",
    "    StructField(\"umpire1\", StringType(), True),\n",
    "    StructField(\"umpire2\", StringType(), True)\n",
    "])\n",
    "raw_data_struct = spark.read.schema(structured_schema).csv('/FileStore/tables/matches.csv')\n",
    "raw_data_struct.show(5)\n"
   ]
  },
  {
   "cell_type": "code",
   "execution_count": 0,
   "metadata": {
    "application/vnd.databricks.v1+cell": {
     "cellMetadata": {
      "byteLimit": 2048000,
      "rowLimit": 10000
     },
     "inputWidgets": {},
     "nuid": "f5d9a686-9dae-429f-a50a-db9f00a1f1dd",
     "showTitle": false,
     "tableResultSettingsMap": {},
     "title": ""
    }
   },
   "outputs": [
    {
     "output_type": "stream",
     "name": "stdout",
     "output_type": "stream",
     "text": [
      "+------+-------+----------+----------+----------+---------------+--------------------+--------------------+--------------------+--------------------+-------------+--------------------+-------+-------------+-----------+------------+----------+------+---------+--------------+\n|    id| season|      city|      date|match_type|player_of_match|               venue|               team1|               team2|         toss_winner|toss_decision|              winner| result|result_margin|target_runs|target_overs|super_over|method|  umpire1|       umpire2|\n+------+-------+----------+----------+----------+---------------+--------------------+--------------------+--------------------+--------------------+-------------+--------------------+-------+-------------+-----------+------------+----------+------+---------+--------------+\n|    id| season|      city|      date|match_type|player_of_match|               venue|               team1|               team2|         toss_winner|toss_decision|              winner| result|         null|       null|        null|super_over|method|  umpire1|       umpire2|\n|335982|2007/08| Bangalore|2008-04-18|    League|    BB McCullum|M Chinnaswamy Sta...|Royal Challengers...|Kolkata Knight Ri...|Royal Challengers...|        field|Kolkata Knight Ri...|   runs|          140|        223|          20|         N|    NA|Asad Rauf|   RE Koertzen|\n|335983|2007/08|Chandigarh|2008-04-19|    League|     MEK Hussey|Punjab Cricket As...|     Kings XI Punjab| Chennai Super Kings| Chennai Super Kings|          bat| Chennai Super Kings|   runs|           33|        241|          20|         N|    NA|MR Benson|    SL Shastri|\n|335984|2007/08|     Delhi|2008-04-19|    League|    MF Maharoof|    Feroz Shah Kotla|    Delhi Daredevils|    Rajasthan Royals|    Rajasthan Royals|          bat|    Delhi Daredevils|wickets|            9|        130|          20|         N|    NA|Aleem Dar|GA Pratapkumar|\n|335985|2007/08|    Mumbai|2008-04-20|    League|     MV Boucher|    Wankhede Stadium|      Mumbai Indians|Royal Challengers...|      Mumbai Indians|          bat|Royal Challengers...|wickets|            5|        166|          20|         N|    NA| SJ Davis|     DJ Harper|\n+------+-------+----------+----------+----------+---------------+--------------------+--------------------+--------------------+--------------------+-------------+--------------------+-------+-------------+-----------+------------+----------+------+---------+--------------+\nonly showing top 5 rows\n\n"
     ]
    }
   ],
   "source": [
    "\n",
    "cleaned_data = raw_data_struct.dropna(subset=[\"id\", \"season\", \"city\"])\n",
    "cleaned_data.show(5)\n"
   ]
  },
  {
   "cell_type": "code",
   "execution_count": 0,
   "metadata": {
    "application/vnd.databricks.v1+cell": {
     "cellMetadata": {
      "byteLimit": 2048000,
      "rowLimit": 10000
     },
     "inputWidgets": {},
     "nuid": "017cd96a-91b0-44c4-9ced-39da59e7dc08",
     "showTitle": false,
     "tableResultSettingsMap": {},
     "title": ""
    }
   },
   "outputs": [
    {
     "output_type": "stream",
     "name": "stdout",
     "output_type": "stream",
     "text": [
      "+------+-------+----------+----------+----------+---------------+--------------------+--------------------+--------------------+--------------------+-------------+--------------------+-------+-------------+-----------+------------+----------+------+---------+--------------+\n|    id| season|      city|      date|match_type|player_of_match|               venue|               team1|               team2|         toss_winner|toss_decision|              winner| result|result_margin|target_runs|target_overs|super_over|method|  umpire1|       umpire2|\n+------+-------+----------+----------+----------+---------------+--------------------+--------------------+--------------------+--------------------+-------------+--------------------+-------+-------------+-----------+------------+----------+------+---------+--------------+\n|    id| season|      city|      date|match_type|player_of_match|               venue|               team1|               team2|         toss_winner|toss_decision|              winner| result|         null|       null|        null|super_over|method|  umpire1|       umpire2|\n|335982|2007/08| Bangalore|2008-04-18|    League|    BB McCullum|M Chinnaswamy Sta...|Royal Challengers...|Kolkata Knight Ri...|Royal Challengers...|        field|Kolkata Knight Ri...|   runs|          140|        223|          20|         N|    NA|Asad Rauf|   RE Koertzen|\n|335983|2007/08|Chandigarh|2008-04-19|    League|     MEK Hussey|Punjab Cricket As...|     Kings XI Punjab| Chennai Super Kings| Chennai Super Kings|          bat| Chennai Super Kings|   runs|           33|        241|          20|         N|    NA|MR Benson|    SL Shastri|\n|335984|2007/08|     Delhi|2008-04-19|    League|    MF Maharoof|    Feroz Shah Kotla|    Delhi Daredevils|    Rajasthan Royals|    Rajasthan Royals|          bat|    Delhi Daredevils|wickets|            9|        130|          20|         N|    NA|Aleem Dar|GA Pratapkumar|\n|335985|2007/08|    Mumbai|2008-04-20|    League|     MV Boucher|    Wankhede Stadium|      Mumbai Indians|Royal Challengers...|      Mumbai Indians|          bat|Royal Challengers...|wickets|            5|        166|          20|         N|    NA| SJ Davis|     DJ Harper|\n+------+-------+----------+----------+----------+---------------+--------------------+--------------------+--------------------+--------------------+-------------+--------------------+-------+-------------+-----------+------------+----------+------+---------+--------------+\nonly showing top 5 rows\n\n"
     ]
    }
   ],
   "source": [
    "from pyspark.sql.functions import col\n",
    "\n",
    "cleaned_data = cleaned_data.withColumn(\"target_runs\", col(\"target_runs\").cast(IntegerType()))\n",
    "cleaned_data.show(5)\n"
   ]
  },
  {
   "cell_type": "code",
   "execution_count": 0,
   "metadata": {
    "application/vnd.databricks.v1+cell": {
     "cellMetadata": {
      "byteLimit": 2048000,
      "rowLimit": 10000
     },
     "inputWidgets": {},
     "nuid": "fd6b3df7-e608-456b-a7a2-967dc0788292",
     "showTitle": false,
     "tableResultSettingsMap": {},
     "title": ""
    }
   },
   "outputs": [],
   "source": [
    "cleaned_data.write.option(\"header\", \"true\").csv(\"/FileStore/tables/cleaned_matches.csv\")\n"
   ]
  },
  {
   "cell_type": "code",
   "execution_count": 0,
   "metadata": {
    "application/vnd.databricks.v1+cell": {
     "cellMetadata": {
      "byteLimit": 2048000,
      "rowLimit": 10000
     },
     "inputWidgets": {},
     "nuid": "fc970c72-3d58-472f-ae3a-ba7dfd7ec61d",
     "showTitle": false,
     "tableResultSettingsMap": {},
     "title": ""
    }
   },
   "outputs": [],
   "source": [
    "cleaned_data.write.format(\"delta\").save(\"/FileStore/tables/cleaned_matches_delta\")\n"
   ]
  },
  {
   "cell_type": "code",
   "execution_count": 0,
   "metadata": {
    "application/vnd.databricks.v1+cell": {
     "cellMetadata": {
      "byteLimit": 2048000,
      "rowLimit": 10000
     },
     "inputWidgets": {},
     "nuid": "6285af00-1dfb-46fb-8b6f-071d18e42930",
     "showTitle": false,
     "tableResultSettingsMap": {},
     "title": ""
    }
   },
   "outputs": [
    {
     "output_type": "stream",
     "name": "stdout",
     "output_type": "stream",
     "text": [
      "+------+-------+----------+----------+----------+---------------+--------------------+--------------------+--------------------+--------------------+-------------+--------------------+-------+-------------+-----------+------------+----------+------+---------+--------------+\n|    id| season|      city|      date|match_type|player_of_match|               venue|               team1|               team2|         toss_winner|toss_decision|              winner| result|result_margin|target_runs|target_overs|super_over|method|  umpire1|       umpire2|\n+------+-------+----------+----------+----------+---------------+--------------------+--------------------+--------------------+--------------------+-------------+--------------------+-------+-------------+-----------+------------+----------+------+---------+--------------+\n|    id| season|      city|      date|match_type|player_of_match|               venue|               team1|               team2|         toss_winner|toss_decision|              winner| result|         null|       null|        null|super_over|method|  umpire1|       umpire2|\n|335982|2007/08| Bangalore|2008-04-18|    League|    BB McCullum|M Chinnaswamy Sta...|Royal Challengers...|Kolkata Knight Ri...|Royal Challengers...|        field|Kolkata Knight Ri...|   runs|          140|        223|          20|         N|    NA|Asad Rauf|   RE Koertzen|\n|335983|2007/08|Chandigarh|2008-04-19|    League|     MEK Hussey|Punjab Cricket As...|     Kings XI Punjab| Chennai Super Kings| Chennai Super Kings|          bat| Chennai Super Kings|   runs|           33|        241|          20|         N|    NA|MR Benson|    SL Shastri|\n|335984|2007/08|     Delhi|2008-04-19|    League|    MF Maharoof|    Feroz Shah Kotla|    Delhi Daredevils|    Rajasthan Royals|    Rajasthan Royals|          bat|    Delhi Daredevils|wickets|            9|        130|          20|         N|    NA|Aleem Dar|GA Pratapkumar|\n|335985|2007/08|    Mumbai|2008-04-20|    League|     MV Boucher|    Wankhede Stadium|      Mumbai Indians|Royal Challengers...|      Mumbai Indians|          bat|Royal Challengers...|wickets|            5|        166|          20|         N|    NA| SJ Davis|     DJ Harper|\n+------+-------+----------+----------+----------+---------------+--------------------+--------------------+--------------------+--------------------+-------------+--------------------+-------+-------------+-----------+------------+----------+------+---------+--------------+\nonly showing top 5 rows\n\n"
     ]
    }
   ],
   "source": [
    "delta_df = spark.read.format(\"delta\").load(\"/FileStore/tables/cleaned_matches_delta\")\n",
    "delta_df.show(5)\n"
   ]
  }
 ],
 "metadata": {
  "application/vnd.databricks.v1+notebook": {
   "computePreferences": null,
   "dashboards": [],
   "environmentMetadata": {
    "base_environment": "",
    "environment_version": "1"
   },
   "inputWidgetPreferences": null,
   "language": "python",
   "notebookMetadata": {
    "pythonIndentUnit": 4
   },
   "notebookName": "IPL Data Ingestion",
   "widgets": {}
  }
 },
 "nbformat": 4,
 "nbformat_minor": 0
}