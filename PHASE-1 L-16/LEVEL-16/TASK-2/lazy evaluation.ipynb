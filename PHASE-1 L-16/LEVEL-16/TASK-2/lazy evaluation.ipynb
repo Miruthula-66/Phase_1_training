{
 "cells": [
  {
   "cell_type": "code",
   "execution_count": 0,
   "metadata": {
    "application/vnd.databricks.v1+cell": {
     "cellMetadata": {
      "byteLimit": 2048000,
      "rowLimit": 10000
     },
     "inputWidgets": {},
     "nuid": "195a3034-7709-4073-be27-09df8e52966f",
     "showTitle": false,
     "tableResultSettingsMap": {},
     "title": ""
    }
   },
   "outputs": [],
   "source": [
    "df = spark.read.option(\"header\", True).option(\"inferSchema\", True).csv(\"/FileStore/cleaned_matches_csv/\")\n"
   ]
  },
  {
   "cell_type": "code",
   "execution_count": 0,
   "metadata": {
    "application/vnd.databricks.v1+cell": {
     "cellMetadata": {
      "byteLimit": 2048000,
      "rowLimit": 10000
     },
     "inputWidgets": {},
     "nuid": "89a01780-fb56-4f56-bef8-45e4f3966434",
     "showTitle": false,
     "tableResultSettingsMap": {},
     "title": ""
    }
   },
   "outputs": [],
   "source": [
    "filtered_df = df.filter(\"result_margin > 50\")\n"
   ]
  },
  {
   "cell_type": "code",
   "execution_count": 0,
   "metadata": {
    "application/vnd.databricks.v1+cell": {
     "cellMetadata": {
      "byteLimit": 2048000,
      "rowLimit": 10000
     },
     "inputWidgets": {},
     "nuid": "814edb18-189c-483c-a5b4-1201e05c58e2",
     "showTitle": false,
     "tableResultSettingsMap": {},
     "title": ""
    }
   },
   "outputs": [
    {
     "output_type": "stream",
     "name": "stdout",
     "output_type": "stream",
     "text": [
      "DataFrame[id: string, season: string, city: string, date: string, match_type: string, player_of_match: string, venue: string, team1: string, team2: string, toss_winner: string, toss_decision: string, winner: string, result: string, result_margin: int, target_runs: int, target_overs: int, super_over: string, method: string, umpire1: string, umpire2: string]\n"
     ]
    }
   ],
   "source": [
    "print(filtered_df)\n"
   ]
  },
  {
   "cell_type": "code",
   "execution_count": 0,
   "metadata": {
    "application/vnd.databricks.v1+cell": {
     "cellMetadata": {
      "byteLimit": 2048000,
      "rowLimit": 10000
     },
     "inputWidgets": {},
     "nuid": "363f28aa-5064-425b-8e54-060ff39b3da5",
     "showTitle": false,
     "tableResultSettingsMap": {},
     "title": ""
    }
   },
   "outputs": [
    {
     "output_type": "stream",
     "name": "stdout",
     "output_type": "stream",
     "text": [
      "+------+-------+----------+----------+----------+---------------+--------------------+--------------------+--------------------+--------------------+-------------+--------------------+------+-------------+-----------+------------+----------+------+-----------+-----------+\n|    id| season|      city|      date|match_type|player_of_match|               venue|               team1|               team2|         toss_winner|toss_decision|              winner|result|result_margin|target_runs|target_overs|super_over|method|    umpire1|    umpire2|\n+------+-------+----------+----------+----------+---------------+--------------------+--------------------+--------------------+--------------------+-------------+--------------------+------+-------------+-----------+------------+----------+------+-----------+-----------+\n|335982|2007/08| Bangalore|2008-04-18|    League|    BB McCullum|M Chinnaswamy Sta...|Royal Challengers...|Kolkata Knight Ri...|Royal Challengers...|        field|Kolkata Knight Ri...|  runs|          140|        223|          20|         N|    NA|  Asad Rauf|RE Koertzen|\n|335991|2007/08|Chandigarh|2008-04-25|    League|  KC Sangakkara|Punjab Cricket As...|     Kings XI Punjab|      Mumbai Indians|      Mumbai Indians|        field|     Kings XI Punjab|  runs|           66|        183|          20|         N|    NA|  Aleem Dar|  AM Saheba|\n|336023|2007/08|    Jaipur|2008-05-17|    League|       GC Smith|Sawai Mansingh St...|    Rajasthan Royals|Royal Challengers...|Royal Challengers...|        field|    Rajasthan Royals|  runs|           65|        198|          20|         N|    NA|  BF Bowden| SL Shastri|\n|336038|2007/08|    Mumbai|2008-05-30|Semi Final|      SR Watson|    Wankhede Stadium|    Delhi Daredevils|    Rajasthan Royals|    Delhi Daredevils|        field|    Rajasthan Royals|  runs|          105|        193|          20|         N|    NA|  BF Bowden|RE Koertzen|\n|392182|   2009| Cape Town|2009-04-18|    League|       R Dravid|            Newlands|Royal Challengers...|    Rajasthan Royals|Royal Challengers...|          bat|Royal Challengers...|  runs|           75|        134|          20|         N|    NA|BR Doctrove|  RB Tiffin|\n+------+-------+----------+----------+----------+---------------+--------------------+--------------------+--------------------+--------------------+-------------+--------------------+------+-------------+-----------+------------+----------+------+-----------+-----------+\nonly showing top 5 rows\n\n"
     ]
    }
   ],
   "source": [
    "filtered_df.show(5)\n"
   ]
  },
  {
   "cell_type": "code",
   "execution_count": 0,
   "metadata": {
    "application/vnd.databricks.v1+cell": {
     "cellMetadata": {
      "byteLimit": 2048000,
      "rowLimit": 10000
     },
     "inputWidgets": {},
     "nuid": "c6e18b4e-bbce-44fd-9dfa-865ae322e9de",
     "showTitle": false,
     "tableResultSettingsMap": {},
     "title": ""
    }
   },
   "outputs": [
    {
     "output_type": "stream",
     "name": "stdout",
     "output_type": "stream",
     "text": [
      "== Physical Plan ==\n*(1) Filter (isnotnull(result_margin#3248) AND (result_margin#3248 > 50))\n+- FileScan csv [id#3235,season#3236,city#3237,date#3238,match_type#3239,player_of_match#3240,venue#3241,team1#3242,team2#3243,toss_winner#3244,toss_decision#3245,winner#3246,result#3247,result_margin#3248,target_runs#3249,target_overs#3250,super_over#3251,method#3252,umpire1#3253,umpire2#3254] Batched: false, DataFilters: [isnotnull(result_margin#3248), (result_margin#3248 > 50)], Format: CSV, Location: InMemoryFileIndex(1 paths)[dbfs:/FileStore/cleaned_matches_csv], PartitionFilters: [], PushedFilters: [IsNotNull(result_margin), GreaterThan(result_margin,50)], ReadSchema: struct<id:string,season:string,city:string,date:string,match_type:string,player_of_match:string,v...\n\n\n"
     ]
    }
   ],
   "source": [
    "filtered_df.explain()\n"
   ]
  },
  {
   "cell_type": "code",
   "execution_count": 0,
   "metadata": {
    "application/vnd.databricks.v1+cell": {
     "cellMetadata": {
      "byteLimit": 2048000,
      "rowLimit": 10000
     },
     "inputWidgets": {},
     "nuid": "61810313-2c6d-49b9-a4b2-b0eaef0cdfdc",
     "showTitle": false,
     "tableResultSettingsMap": {},
     "title": ""
    }
   },
   "outputs": [
    {
     "output_type": "stream",
     "name": "stdout",
     "output_type": "stream",
     "text": [
      "== Parsed Logical Plan ==\n'Filter ('result_margin > 50)\n+- Relation [id#3235,season#3236,city#3237,date#3238,match_type#3239,player_of_match#3240,venue#3241,team1#3242,team2#3243,toss_winner#3244,toss_decision#3245,winner#3246,result#3247,result_margin#3248,target_runs#3249,target_overs#3250,super_over#3251,method#3252,umpire1#3253,umpire2#3254] csv\n\n== Analyzed Logical Plan ==\nid: string, season: string, city: string, date: string, match_type: string, player_of_match: string, venue: string, team1: string, team2: string, toss_winner: string, toss_decision: string, winner: string, result: string, result_margin: int, target_runs: int, target_overs: int, super_over: string, method: string, umpire1: string, umpire2: string\nFilter (result_margin#3248 > 50)\n+- Relation [id#3235,season#3236,city#3237,date#3238,match_type#3239,player_of_match#3240,venue#3241,team1#3242,team2#3243,toss_winner#3244,toss_decision#3245,winner#3246,result#3247,result_margin#3248,target_runs#3249,target_overs#3250,super_over#3251,method#3252,umpire1#3253,umpire2#3254] csv\n\n== Optimized Logical Plan ==\nFilter (isnotnull(result_margin#3248) AND (result_margin#3248 > 50))\n+- Relation [id#3235,season#3236,city#3237,date#3238,match_type#3239,player_of_match#3240,venue#3241,team1#3242,team2#3243,toss_winner#3244,toss_decision#3245,winner#3246,result#3247,result_margin#3248,target_runs#3249,target_overs#3250,super_over#3251,method#3252,umpire1#3253,umpire2#3254] csv\n\n== Physical Plan ==\n*(1) Filter (isnotnull(result_margin#3248) AND (result_margin#3248 > 50))\n+- FileScan csv [id#3235,season#3236,city#3237,date#3238,match_type#3239,player_of_match#3240,venue#3241,team1#3242,team2#3243,toss_winner#3244,toss_decision#3245,winner#3246,result#3247,result_margin#3248,target_runs#3249,target_overs#3250,super_over#3251,method#3252,umpire1#3253,umpire2#3254] Batched: false, DataFilters: [isnotnull(result_margin#3248), (result_margin#3248 > 50)], Format: CSV, Location: InMemoryFileIndex(1 paths)[dbfs:/FileStore/cleaned_matches_csv], PartitionFilters: [], PushedFilters: [IsNotNull(result_margin), GreaterThan(result_margin,50)], ReadSchema: struct<id:string,season:string,city:string,date:string,match_type:string,player_of_match:string,v...\n\n"
     ]
    }
   ],
   "source": [
    "filtered_df.explain(mode='extended')\n"
   ]
  },
  {
   "cell_type": "code",
   "execution_count": 0,
   "metadata": {
    "application/vnd.databricks.v1+cell": {
     "cellMetadata": {
      "byteLimit": 2048000,
      "rowLimit": 10000
     },
     "inputWidgets": {},
     "nuid": "cb8defda-336d-41e3-8329-22b7226404d5",
     "showTitle": false,
     "tableResultSettingsMap": {},
     "title": ""
    }
   },
   "outputs": [
    {
     "output_type": "stream",
     "name": "stdout",
     "output_type": "stream",
     "text": [
      "Found 1 WholeStageCodegen subtrees.\n== Subtree 1 / 1 (maxMethodCodeSize:1275; maxConstantPoolSize:112(0.17% used); numInnerClasses:0) ==\n*(1) Filter (isnotnull(result_margin#3248) AND (result_margin#3248 > 50))\n+- FileScan csv [id#3235,season#3236,city#3237,date#3238,match_type#3239,player_of_match#3240,venue#3241,team1#3242,team2#3243,toss_winner#3244,toss_decision#3245,winner#3246,result#3247,result_margin#3248,target_runs#3249,target_overs#3250,super_over#3251,method#3252,umpire1#3253,umpire2#3254] Batched: false, DataFilters: [isnotnull(result_margin#3248), (result_margin#3248 > 50)], Format: CSV, Location: InMemoryFileIndex(1 paths)[dbfs:/FileStore/cleaned_matches_csv], PartitionFilters: [], PushedFilters: [IsNotNull(result_margin), GreaterThan(result_margin,50)], ReadSchema: struct<id:string,season:string,city:string,date:string,match_type:string,player_of_match:string,v...\n\nGenerated code:\n/* 001 */ public Object generate(Object[] references) {\n/* 002 */   return new GeneratedIteratorForCodegenStage1(references);\n/* 003 */ }\n/* 004 */\n/* 005 */ // codegenStageId=1\n/* 006 */ final class GeneratedIteratorForCodegenStage1 extends org.apache.spark.sql.execution.BufferedRowIterator {\n/* 007 */   private Object[] references;\n/* 008 */   private scala.collection.Iterator[] inputs;\n/* 009 */   private scala.collection.Iterator inputadapter_input_0;\n/* 010 */   private org.apache.spark.sql.catalyst.expressions.codegen.UnsafeRowWriter[] filter_mutableStateArray_0 = new org.apache.spark.sql.catalyst.expressions.codegen.UnsafeRowWriter[1];\n/* 011 */\n/* 012 */   public GeneratedIteratorForCodegenStage1(Object[] references) {\n/* 013 */     this.references = references;\n/* 014 */   }\n/* 015 */\n/* 016 */   public void init(int index, scala.collection.Iterator[] inputs) {\n/* 017 */     partitionIndex = index;\n/* 018 */     this.inputs = inputs;\n/* 019 */     inputadapter_input_0 = inputs[0];\n/* 020 */     filter_mutableStateArray_0[0] = new org.apache.spark.sql.catalyst.expressions.codegen.UnsafeRowWriter(20, 544);\n/* 021 */\n/* 022 */   }\n/* 023 */\n/* 024 */   protected void processNext() throws java.io.IOException {\n/* 025 */     while ( inputadapter_input_0.hasNext()) {\n/* 026 */       InternalRow inputadapter_row_0 = (InternalRow) inputadapter_input_0.next();\n/* 027 */\n/* 028 */       do {\n/* 029 */         final boolean inputadapter_isNull_13 = (inputadapter_row_0.isNullAt(13));\n/* 030 */         final int inputadapter_value_13 = (inputadapter_isNull_13 ? -1 : (inputadapter_row_0.getInt(13)));\n/* 031 */\n/* 032 */         if (!!inputadapter_isNull_13) continue;\n/* 033 */\n/* 034 */         if (!(inputadapter_value_13 > 50)) continue;\n/* 035 */\n/* 036 */         ((org.apache.spark.sql.execution.metric.SQLMetric) references[0] /* numOutputRows */).add(1);\n/* 037 */\n/* 038 */         final boolean inputadapter_isNull_0 = (inputadapter_row_0.isNullAt(0));\n/* 039 */         final UTF8String inputadapter_value_0 = (inputadapter_isNull_0 ? null : (inputadapter_row_0.getUTF8String(0)));\n/* 040 */         final boolean inputadapter_isNull_1 = (inputadapter_row_0.isNullAt(1));\n/* 041 */         final UTF8String inputadapter_value_1 = (inputadapter_isNull_1 ? null : (inputadapter_row_0.getUTF8String(1)));\n/* 042 */         final boolean inputadapter_isNull_2 = (inputadapter_row_0.isNullAt(2));\n/* 043 */         final UTF8String inputadapter_value_2 = (inputadapter_isNull_2 ? null : (inputadapter_row_0.getUTF8String(2)));\n/* 044 */         final boolean inputadapter_isNull_3 = (inputadapter_row_0.isNullAt(3));\n/* 045 */         final UTF8String inputadapter_value_3 = (inputadapter_isNull_3 ? null : (inputadapter_row_0.getUTF8String(3)));\n/* 046 */         final boolean inputadapter_isNull_4 = (inputadapter_row_0.isNullAt(4));\n/* 047 */         final UTF8String inputadapter_value_4 = (inputadapter_isNull_4 ? null : (inputadapter_row_0.getUTF8String(4)));\n/* 048 */         final boolean inputadapter_isNull_5 = (inputadapter_row_0.isNullAt(5));\n/* 049 */         final UTF8String inputadapter_value_5 = (inputadapter_isNull_5 ? null : (inputadapter_row_0.getUTF8String(5)));\n/* 050 */         final boolean inputadapter_isNull_6 = (inputadapter_row_0.isNullAt(6));\n/* 051 */         final UTF8String inputadapter_value_6 = (inputadapter_isNull_6 ? null : (inputadapter_row_0.getUTF8String(6)));\n/* 052 */         final boolean inputadapter_isNull_7 = (inputadapter_row_0.isNullAt(7));\n/* 053 */         final UTF8String inputadapter_value_7 = (inputadapter_isNull_7 ? null : (inputadapter_row_0.getUTF8String(7)));\n/* 054 */         final boolean inputadapter_isNull_8 = (inputadapter_row_0.isNullAt(8));\n/* 055 */         final UTF8String inputadapter_value_8 = (inputadapter_isNull_8 ? null : (inputadapter_row_0.getUTF8String(8)));\n/* 056 */         final boolean inputadapter_isNull_9 = (inputadapter_row_0.isNullAt(9));\n/* 057 */         final UTF8String inputadapter_value_9 = (inputadapter_isNull_9 ? null : (inputadapter_row_0.getUTF8String(9)));\n/* 058 */         final boolean inputadapter_isNull_10 = (inputadapter_row_0.isNullAt(10));\n/* 059 */         final UTF8String inputadapter_value_10 = (inputadapter_isNull_10 ? null : (inputadapter_row_0.getUTF8String(10)));\n/* 060 */         final boolean inputadapter_isNull_11 = (inputadapter_row_0.isNullAt(11));\n/* 061 */         final UTF8String inputadapter_value_11 = (inputadapter_isNull_11 ? null : (inputadapter_row_0.getUTF8String(11)));\n/* 062 */         final boolean inputadapter_isNull_12 = (inputadapter_row_0.isNullAt(12));\n/* 063 */         final UTF8String inputadapter_value_12 = (inputadapter_isNull_12 ? null : (inputadapter_row_0.getUTF8String(12)));\n/* 064 */         final boolean inputadapter_isNull_14 = (inputadapter_row_0.isNullAt(14));\n/* 065 */         final int inputadapter_value_14 = (inputadapter_isNull_14 ? -1 : (inputadapter_row_0.getInt(14)));\n/* 066 */         final boolean inputadapter_isNull_15 = (inputadapter_row_0.isNullAt(15));\n/* 067 */         final int inputadapter_value_15 = (inputadapter_isNull_15 ? -1 : (inputadapter_row_0.getInt(15)));\n/* 068 */         final boolean inputadapter_isNull_16 = (inputadapter_row_0.isNullAt(16));\n/* 069 */         final UTF8String inputadapter_value_16 = (inputadapter_isNull_16 ? null : (inputadapter_row_0.getUTF8String(16)));\n/* 070 */         final boolean inputadapter_isNull_17 = (inputadapter_row_0.isNullAt(17));\n/* 071 */         final UTF8String inputadapter_value_17 = (inputadapter_isNull_17 ? null : (inputadapter_row_0.getUTF8String(17)));\n/* 072 */         final boolean inputadapter_isNull_18 = (inputadapter_row_0.isNullAt(18));\n/* 073 */         final UTF8String inputadapter_value_18 = (inputadapter_isNull_18 ? null : (inputadapter_row_0.getUTF8String(18)));\n/* 074 */         final boolean inputadapter_isNull_19 = (inputadapter_row_0.isNullAt(19));\n/* 075 */         final UTF8String inputadapter_value_19 = (inputadapter_isNull_19 ? null : (inputadapter_row_0.getUTF8String(19)));\n/* 076 */         filter_mutableStateArray_0[0].reset();\n/* 077 */\n/* 078 */         filter_mutableStateArray_0[0].zeroOutNullBytes();\n/* 079 */\n/* 080 */         if (inputadapter_isNull_0) {\n/* 081 */           filter_mutableStateArray_0[0].setNullAt(0);\n/* 082 */         } else {\n/* 083 */           filter_mutableStateArray_0[0].write(0, inputadapter_value_0);\n/* 084 */         }\n/* 085 */\n/* 086 */         if (inputadapter_isNull_1) {\n/* 087 */           filter_mutableStateArray_0[0].setNullAt(1);\n/* 088 */         } else {\n/* 089 */           filter_mutableStateArray_0[0].write(1, inputadapter_value_1);\n/* 090 */         }\n/* 091 */\n/* 092 */         if (inputadapter_isNull_2) {\n/* 093 */           filter_mutableStateArray_0[0].setNullAt(2);\n/* 094 */         } else {\n/* 095 */           filter_mutableStateArray_0[0].write(2, inputadapter_value_2);\n/* 096 */         }\n/* 097 */\n/* 098 */         if (inputadapter_isNull_3) {\n/* 099 */           filter_mutableStateArray_0[0].setNullAt(3);\n/* 100 */         } else {\n/* 101 */           filter_mutableStateArray_0[0].write(3, inputadapter_value_3);\n/* 102 */         }\n/* 103 */\n/* 104 */         if (inputadapter_isNull_4) {\n/* 105 */           filter_mutableStateArray_0[0].setNullAt(4);\n/* 106 */         } else {\n/* 107 */           filter_mutableStateArray_0[0].write(4, inputadapter_value_4);\n/* 108 */         }\n/* 109 */\n/* 110 */         if (inputadapter_isNull_5) {\n/* 111 */           filter_mutableStateArray_0[0].setNullAt(5);\n/* 112 */         } else {\n/* 113 */           filter_mutableStateArray_0[0].write(5, inputadapter_value_5);\n/* 114 */         }\n/* 115 */\n/* 116 */         if (inputadapter_isNull_6) {\n/* 117 */           filter_mutableStateArray_0[0].setNullAt(6);\n/* 118 */         } else {\n/* 119 */           filter_mutableStateArray_0[0].write(6, inputadapter_value_6);\n/* 120 */         }\n/* 121 */\n/* 122 */         if (inputadapter_isNull_7) {\n/* 123 */           filter_mutableStateArray_0[0].setNullAt(7);\n/* 124 */         } else {\n/* 125 */           filter_mutableStateArray_0[0].write(7, inputadapter_value_7);\n/* 126 */         }\n/* 127 */\n/* 128 */         if (inputadapter_isNull_8) {\n/* 129 */           filter_mutableStateArray_0[0].setNullAt(8);\n/* 130 */         } else {\n/* 131 */           filter_mutableStateArray_0[0].write(8, inputadapter_value_8);\n/* 132 */         }\n/* 133 */\n/* 134 */         if (inputadapter_isNull_9) {\n/* 135 */           filter_mutableStateArray_0[0].setNullAt(9);\n/* 136 */         } else {\n/* 137 */           filter_mutableStateArray_0[0].write(9, inputadapter_value_9);\n/* 138 */         }\n/* 139 */\n/* 140 */         if (inputadapter_isNull_10) {\n/* 141 */           filter_mutableStateArray_0[0].setNullAt(10);\n/* 142 */         } else {\n/* 143 */           filter_mutableStateArray_0[0].write(10, inputadapter_value_10);\n/* 144 */         }\n/* 145 */\n/* 146 */         if (inputadapter_isNull_11) {\n/* 147 */           filter_mutableStateArray_0[0].setNullAt(11);\n/* 148 */         } else {\n/* 149 */           filter_mutableStateArray_0[0].write(11, inputadapter_value_11);\n/* 150 */         }\n/* 151 */\n/* 152 */         if (inputadapter_isNull_12) {\n/* 153 */           filter_mutableStateArray_0[0].setNullAt(12);\n/* 154 */         } else {\n/* 155 */           filter_mutableStateArray_0[0].write(12, inputadapter_value_12);\n/* 156 */         }\n/* 157 */\n/* 158 */         filter_mutableStateArray_0[0].write(13, inputadapter_value_13);\n/* 159 */\n/* 160 */         if (inputadapter_isNull_14) {\n/* 161 */           filter_mutableStateArray_0[0].setNullAt(14);\n/* 162 */         } else {\n/* 163 */           filter_mutableStateArray_0[0].write(14, inputadapter_value_14);\n/* 164 */         }\n/* 165 */\n/* 166 */         if (inputadapter_isNull_15) {\n/* 167 */           filter_mutableStateArray_0[0].setNullAt(15);\n/* 168 */         } else {\n/* 169 */           filter_mutableStateArray_0[0].write(15, inputadapter_value_15);\n/* 170 */         }\n/* 171 */\n/* 172 */         if (inputadapter_isNull_16) {\n/* 173 */           filter_mutableStateArray_0[0].setNullAt(16);\n/* 174 */         } else {\n/* 175 */           filter_mutableStateArray_0[0].write(16, inputadapter_value_16);\n/* 176 */         }\n/* 177 */\n/* 178 */         if (inputadapter_isNull_17) {\n/* 179 */           filter_mutableStateArray_0[0].setNullAt(17);\n/* 180 */         } else {\n/* 181 */           filter_mutableStateArray_0[0].write(17, inputadapter_value_17);\n/* 182 */         }\n/* 183 */\n/* 184 */         if (inputadapter_isNull_18) {\n/* 185 */           filter_mutableStateArray_0[0].setNullAt(18);\n/* 186 */         } else {\n/* 187 */           filter_mutableStateArray_0[0].write(18, inputadapter_value_18);\n/* 188 */         }\n/* 189 */\n/* 190 */         if (inputadapter_isNull_19) {\n/* 191 */           filter_mutableStateArray_0[0].setNullAt(19);\n/* 192 */         } else {\n/* 193 */           filter_mutableStateArray_0[0].write(19, inputadapter_value_19);\n/* 194 */         }\n/* 195 */         append((filter_mutableStateArray_0[0].getRow()));\n/* 196 */\n/* 197 */       } while(false);\n/* 198 */       if (shouldStop()) return;\n/* 199 */     }\n/* 200 */   }\n/* 201 */\n/* 202 */ }\n\n\n"
     ]
    }
   ],
   "source": [
    "filtered_df.explain(mode='codegen')\n"
   ]
  }
 ],
 "metadata": {
  "application/vnd.databricks.v1+notebook": {
   "computePreferences": null,
   "dashboards": [],
   "environmentMetadata": {
    "base_environment": "",
    "environment_version": "1"
   },
   "inputWidgetPreferences": null,
   "language": "python",
   "notebookMetadata": {
    "pythonIndentUnit": 4
   },
   "notebookName": "lazy evaluation",
   "widgets": {}
  }
 },
 "nbformat": 4,
 "nbformat_minor": 0
}