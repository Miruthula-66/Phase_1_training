{
 "cells": [
  {
   "cell_type": "code",
   "execution_count": 0,
   "metadata": {
    "application/vnd.databricks.v1+cell": {
     "cellMetadata": {
      "byteLimit": 2048000,
      "rowLimit": 10000
     },
     "inputWidgets": {},
     "nuid": "b48b7182-d1ec-4fdd-b5c2-0c83c7318f87",
     "showTitle": false,
     "tableResultSettingsMap": {},
     "title": ""
    }
   },
   "outputs": [
    {
     "output_type": "stream",
     "name": "stdout",
     "output_type": "stream",
     "text": [
      "root\n |-- id: string (nullable = true)\n |-- season: string (nullable = true)\n |-- city: string (nullable = true)\n |-- date: string (nullable = true)\n |-- match_type: string (nullable = true)\n |-- player_of_match: string (nullable = true)\n |-- venue: string (nullable = true)\n |-- team1: string (nullable = true)\n |-- team2: string (nullable = true)\n |-- toss_winner: string (nullable = true)\n |-- toss_decision: string (nullable = true)\n |-- winner: string (nullable = true)\n |-- result: string (nullable = true)\n |-- result_margin: string (nullable = true)\n |-- target_runs: string (nullable = true)\n |-- target_overs: string (nullable = true)\n |-- super_over: string (nullable = true)\n |-- method: string (nullable = true)\n |-- umpire1: string (nullable = true)\n |-- umpire2: string (nullable = true)\n\n+------+-------+----------+----------+----------+---------------+--------------------+--------------------+--------------------+--------------------+-------------+--------------------+-------+-------------+-----------+------------+----------+------+---------+--------------+\n|    id| season|      city|      date|match_type|player_of_match|               venue|               team1|               team2|         toss_winner|toss_decision|              winner| result|result_margin|target_runs|target_overs|super_over|method|  umpire1|       umpire2|\n+------+-------+----------+----------+----------+---------------+--------------------+--------------------+--------------------+--------------------+-------------+--------------------+-------+-------------+-----------+------------+----------+------+---------+--------------+\n|335982|2007/08| Bangalore|2008-04-18|    League|    BB McCullum|M Chinnaswamy Sta...|Royal Challengers...|Kolkata Knight Ri...|Royal Challengers...|        field|Kolkata Knight Ri...|   runs|          140|        223|          20|         N|    NA|Asad Rauf|   RE Koertzen|\n|335983|2007/08|Chandigarh|2008-04-19|    League|     MEK Hussey|Punjab Cricket As...|     Kings XI Punjab| Chennai Super Kings| Chennai Super Kings|          bat| Chennai Super Kings|   runs|           33|        241|          20|         N|    NA|MR Benson|    SL Shastri|\n|335984|2007/08|     Delhi|2008-04-19|    League|    MF Maharoof|    Feroz Shah Kotla|    Delhi Daredevils|    Rajasthan Royals|    Rajasthan Royals|          bat|    Delhi Daredevils|wickets|            9|        130|          20|         N|    NA|Aleem Dar|GA Pratapkumar|\n|335985|2007/08|    Mumbai|2008-04-20|    League|     MV Boucher|    Wankhede Stadium|      Mumbai Indians|Royal Challengers...|      Mumbai Indians|          bat|Royal Challengers...|wickets|            5|        166|          20|         N|    NA| SJ Davis|     DJ Harper|\n|335986|2007/08|   Kolkata|2008-04-20|    League|      DJ Hussey|        Eden Gardens|Kolkata Knight Ri...|     Deccan Chargers|     Deccan Chargers|          bat|Kolkata Knight Ri...|wickets|            5|        111|          20|         N|    NA|BF Bowden|   K Hariharan|\n+------+-------+----------+----------+----------+---------------+--------------------+--------------------+--------------------+--------------------+-------------+--------------------+-------+-------------+-----------+------------+----------+------+---------+--------------+\nonly showing top 5 rows\n\n"
     ]
    }
   ],
   "source": [
    "%python\n",
    "file_location = \"/FileStore/tables/matches.csv\"\n",
    "df_matches = spark.read.option(\"header\", \"true\").csv(file_location)\n",
    "df_matches.printSchema()\n",
    "df_matches.show(5)\n"
   ]
  },
  {
   "cell_type": "code",
   "execution_count": 0,
   "metadata": {
    "application/vnd.databricks.v1+cell": {
     "cellMetadata": {
      "byteLimit": 2048000,
      "rowLimit": 10000
     },
     "inputWidgets": {},
     "nuid": "da5b68f5-66b1-4b62-be11-145f1d0c0c73",
     "showTitle": false,
     "tableResultSettingsMap": {},
     "title": ""
    }
   },
   "outputs": [
    {
     "output_type": "stream",
     "name": "stdout",
     "output_type": "stream",
     "text": [
      "+------+-------+-------+----------+----------+---------------+--------------------+-------------------+--------------------+--------------------+-------------+--------------------+-------+-------------+-----------+------------+----------+------+---------------+--------------+\n|    id| season|   city|      date|match_type|player_of_match|               venue|              team1|               team2|         toss_winner|toss_decision|              winner| result|result_margin|target_runs|target_overs|super_over|method|        umpire1|       umpire2|\n+------+-------+-------+----------+----------+---------------+--------------------+-------------------+--------------------+--------------------+-------------+--------------------+-------+-------------+-----------+------------+----------+------+---------------+--------------+\n|335989|2007/08|Chennai|2008-04-23|    League|      ML Hayden|MA Chidambaram St...|Chennai Super Kings|      Mumbai Indians|      Mumbai Indians|        field| Chennai Super Kings|   runs|            6|        209|          20|         N|    NA|      DJ Harper|GA Pratapkumar|\n|335993|2007/08|Chennai|2008-04-26|    League|       JDP Oram|MA Chidambaram St...|Chennai Super Kings|Kolkata Knight Ri...|Kolkata Knight Ri...|          bat| Chennai Super Kings|wickets|            9|        148|          20|         N|    NA|      BF Bowden|AV Jayaprakash|\n|336001|2007/08|Chennai|2008-05-02|    League|       V Sehwag|MA Chidambaram St...|Chennai Super Kings|    Delhi Daredevils| Chennai Super Kings|          bat|    Delhi Daredevils|wickets|            8|        170|          20|         N|    NA|      BF Bowden|   K Hariharan|\n|336007|2007/08|Chennai|2008-05-06|    League|   AC Gilchrist|MA Chidambaram St...|Chennai Super Kings|     Deccan Chargers|     Deccan Chargers|        field|     Deccan Chargers|wickets|            7|        145|          20|         N|    NA|      MR Benson|     RB Tiffin|\n|336013|2007/08|Chennai|2008-05-10|    League|       L Balaji|MA Chidambaram St...|Chennai Super Kings|     Kings XI Punjab|     Kings XI Punjab|        field| Chennai Super Kings|   runs|           18|        182|          20|         N|    NA| AV Jayaprakash|    BG Jerling|\n|336029|2007/08|Chennai|2008-05-21|    League|       A Kumble|MA Chidambaram St...|Chennai Super Kings|Royal Challengers...|Royal Challengers...|          bat|Royal Challengers...|   runs|           14|        127|          20|         N|    NA|      DJ Harper|     I Shivram|\n|336033|2007/08|Chennai|2008-05-24|    League|      JA Morkel|MA Chidambaram St...|Chennai Super Kings|    Rajasthan Royals|    Rajasthan Royals|          bat|    Rajasthan Royals|   runs|           10|        212|          20|         N|    NA|      DJ Harper|    SL Shastri|\n|419110|2009/10|Chennai|2010-03-14|    League|     WPUJC Vaas|MA Chidambaram St...|Chennai Super Kings|     Deccan Chargers|     Deccan Chargers|          bat|     Deccan Chargers|   runs|           31|        191|          20|         N|    NA|    K Hariharan|     DJ Harper|\n|419121|2009/10|Chennai|2010-03-21|    League|       J Theron|MA Chidambaram St...|Chennai Super Kings|     Kings XI Punjab| Chennai Super Kings|        field|     Kings XI Punjab|    tie|           NA|        137|          20|         Y|    NA|    K Hariharan|     DJ Harper|\n|419133|2009/10|Chennai|2010-03-31|    League|        M Vijay|MA Chidambaram St...|Chennai Super Kings|Royal Challengers...|Royal Challengers...|          bat| Chennai Super Kings|wickets|            5|        162|          20|         N|    NA|     BG Jerling|   RE Koertzen|\n|419137|2009/10|Chennai|2010-04-03|    League|        M Vijay|MA Chidambaram St...|Chennai Super Kings|    Rajasthan Royals| Chennai Super Kings|          bat| Chennai Super Kings|   runs|           23|        247|          20|         N|    NA|    RE Koertzen|     RB Tiffin|\n|419142|2009/10|Chennai|2010-04-06|    League|       SK Raina|MA Chidambaram St...|Chennai Super Kings|      Mumbai Indians| Chennai Super Kings|          bat| Chennai Super Kings|   runs|           24|        166|          20|         N|    NA|       S Asnani|     DJ Harper|\n|419153|2009/10|Chennai|2010-04-13|    League|       R Ashwin|MA Chidambaram St...|Chennai Super Kings|Kolkata Knight Ri...|Kolkata Knight Ri...|          bat| Chennai Super Kings|wickets|            9|        140|          20|         N|    NA|      SS Hazare|    SJA Taufel|\n|419155|2009/10|Chennai|2010-04-15|    League|      G Gambhir|MA Chidambaram St...|Chennai Super Kings|    Delhi Daredevils| Chennai Super Kings|          bat|    Delhi Daredevils|wickets|            6|        113|          20|         N|    NA|HDPK Dharmasena|     SS Hazare|\n|501198|   2011|Chennai|2011-04-08|    League|     S Anirudha|MA Chidambaram St...|Chennai Super Kings|Kolkata Knight Ri...| Chennai Super Kings|          bat| Chennai Super Kings|   runs|            2|        154|          20|         N|    NA|    BR Doctrove|    PR Reiffel|\n|501211|   2011|Chennai|2011-04-16|    League|     MEK Hussey|MA Chidambaram St...|Chennai Super Kings|Royal Challengers...| Chennai Super Kings|          bat| Chennai Super Kings|   runs|           21|        184|          20|         N|    NA|HDPK Dharmasena|       AL Hill|\n|501226|   2011|Chennai|2011-04-25|    League|     MEK Hussey|MA Chidambaram St...|Chennai Super Kings|       Pune Warriors|       Pune Warriors|        field| Chennai Super Kings|   runs|           25|        143|          20|         N|    NA|      Aleem Dar|     RB Tiffin|\n|501236|   2011|Chennai|2011-05-01|    League|      JA Morkel|MA Chidambaram St...|Chennai Super Kings|     Deccan Chargers| Chennai Super Kings|          bat| Chennai Super Kings|   runs|           19|        166|          20|         N|    NA|      Aleem Dar|     RB Tiffin|\n|501240|   2011|Chennai|2011-05-04|    League|     MEK Hussey|MA Chidambaram St...|Chennai Super Kings|    Rajasthan Royals|    Rajasthan Royals|          bat| Chennai Super Kings|wickets|            8|        148|          20|         N|    NA|      SS Hazare|     RB Tiffin|\n|501253|   2011|Chennai|2011-05-12|    League|       MS Dhoni|MA Chidambaram St...|Chennai Super Kings|    Delhi Daredevils| Chennai Super Kings|          bat| Chennai Super Kings|   runs|           18|        177|          20|         N|    NA|      AM Saheba|    SL Shastri|\n+------+-------+-------+----------+----------+---------------+--------------------+-------------------+--------------------+--------------------+-------------+--------------------+-------+-------------+-----------+------------+----------+------+---------------+--------------+\nonly showing top 20 rows\n\n"
     ]
    }
   ],
   "source": [
    "%python\n",
    "df_filtered = df_matches.filter(df_matches[\"city\"] == \"Chennai\")\n",
    "df_filtered.show()\n"
   ]
  },
  {
   "cell_type": "code",
   "execution_count": 0,
   "metadata": {
    "application/vnd.databricks.v1+cell": {
     "cellMetadata": {
      "byteLimit": 2048000,
      "rowLimit": 10000
     },
     "inputWidgets": {},
     "nuid": "fc48881b-8626-4fd5-b777-c2f46ec3e770",
     "showTitle": false,
     "tableResultSettingsMap": {},
     "title": ""
    }
   },
   "outputs": [
    {
     "output_type": "stream",
     "name": "stdout",
     "output_type": "stream",
     "text": [
      "+-------+-----+\n| season|count|\n+-------+-----+\n|2009/10|    7|\n|   2012|   10|\n|   2019|    8|\n|   2013|    8|\n|   2018|    1|\n|   2011|    9|\n|2007/08|    7|\n|   2023|    9|\n|   2021|   10|\n|   2024|    9|\n|   2015|    7|\n+-------+-----+\n\n"
     ]
    }
   ],
   "source": [
    "%python\n",
    "df_grouped = df_filtered.groupBy(\"season\").count()\n",
    "df_grouped.show()\n"
   ]
  },
  {
   "cell_type": "code",
   "execution_count": 0,
   "metadata": {
    "application/vnd.databricks.v1+cell": {
     "cellMetadata": {
      "byteLimit": 2048000,
      "rowLimit": 10000
     },
     "inputWidgets": {},
     "nuid": "ed9dfb84-7c5a-4c83-ae56-4d7d90f103ea",
     "showTitle": false,
     "tableResultSettingsMap": {},
     "title": ""
    }
   },
   "outputs": [
    {
     "output_type": "stream",
     "name": "stdout",
     "output_type": "stream",
     "text": [
      "+-------+-----+\n| season|count|\n+-------+-----+\n|2009/10|   60|\n|   2016|   60|\n|   2012|   74|\n|   2019|   60|\n|   2017|   59|\n|   2014|   60|\n|   2013|   76|\n|2020/21|   60|\n|   2009|   57|\n|   2018|   60|\n|   2011|   73|\n|   2022|   74|\n|2007/08|   58|\n|   2023|   74|\n|   2021|   60|\n|   2024|   71|\n|   2015|   59|\n+-------+-----+\n\n"
     ]
    }
   ],
   "source": [
    "%python\n",
    "df_matches.groupBy(\"season\").count().show()"
   ]
  }
 ],
 "metadata": {
  "application/vnd.databricks.v1+notebook": {
   "computePreferences": null,
   "dashboards": [],
   "environmentMetadata": {
    "base_environment": "",
    "environment_version": "1"
   },
   "inputWidgetPreferences": null,
   "language": "python",
   "notebookMetadata": {
    "pythonIndentUnit": 4
   },
   "notebookName": "DAG",
   "widgets": {}
  }
 },
 "nbformat": 4,
 "nbformat_minor": 0
}