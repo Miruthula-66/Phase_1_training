{
 "cells": [
  {
   "cell_type": "code",
   "execution_count": 4,
   "id": "5897f262-e80b-46e0-8883-7bd52ea6b237",
   "metadata": {},
   "outputs": [
    {
     "name": "stdout",
     "output_type": "stream",
     "text": [
      "Requirement already satisfied: pandas in c:\\users\\hp\\anaconda3\\lib\\site-packages (2.2.2)\n",
      "Requirement already satisfied: plotly in c:\\users\\hp\\anaconda3\\lib\\site-packages (5.22.0)\n",
      "Requirement already satisfied: numpy>=1.26.0 in c:\\users\\hp\\anaconda3\\lib\\site-packages (from pandas) (1.26.4)\n",
      "Requirement already satisfied: python-dateutil>=2.8.2 in c:\\users\\hp\\appdata\\roaming\\python\\python312\\site-packages (from pandas) (2.9.0.post0)\n",
      "Requirement already satisfied: pytz>=2020.1 in c:\\users\\hp\\anaconda3\\lib\\site-packages (from pandas) (2024.1)\n",
      "Requirement already satisfied: tzdata>=2022.7 in c:\\users\\hp\\anaconda3\\lib\\site-packages (from pandas) (2023.3)\n",
      "Requirement already satisfied: tenacity>=6.2.0 in c:\\users\\hp\\anaconda3\\lib\\site-packages (from plotly) (8.2.2)\n",
      "Requirement already satisfied: packaging in c:\\users\\hp\\appdata\\roaming\\python\\python312\\site-packages (from plotly) (24.1)\n",
      "Requirement already satisfied: six>=1.5 in c:\\users\\hp\\appdata\\roaming\\python\\python312\\site-packages (from python-dateutil>=2.8.2->pandas) (1.16.0)\n"
     ]
    }
   ],
   "source": [
    "!pip install pandas plotly"
   ]
  },
  {
   "cell_type": "code",
   "execution_count": 1,
   "id": "e0b81926-c085-4475-9017-c54b942d779c",
   "metadata": {},
   "outputs": [],
   "source": [
    "import pandas as pd\n",
    "import plotly.express as px\n",
    "import plotly.io as pio"
   ]
  },
  {
   "cell_type": "code",
   "execution_count": 2,
   "id": "17e55b1b-fd10-4dcf-9253-573a0dc1b871",
   "metadata": {},
   "outputs": [],
   "source": [
    "pio.renderers.default = \"iframe_connected\" "
   ]
  },
  {
   "cell_type": "code",
   "execution_count": 3,
   "id": "2b7650ac-e1df-44ad-b75d-ff1b8ab164c0",
   "metadata": {},
   "outputs": [],
   "source": [
    "df = px.data.gapminder()[['country', 'iso_alpha', 'year', 'pop']]\n",
    "df = df.rename(columns={\"pop\": \"population\"})"
   ]
  },
  {
   "cell_type": "code",
   "execution_count": 4,
   "id": "aa1ae2c8-fd31-4e72-b620-31b93f75e8f2",
   "metadata": {},
   "outputs": [
    {
     "name": "stdout",
     "output_type": "stream",
     "text": [
      "          country iso_alpha  year  population\n",
      "0     Afghanistan       AFG  1952     8425333\n",
      "1     Afghanistan       AFG  1957     9240934\n",
      "2     Afghanistan       AFG  1962    10267083\n",
      "3     Afghanistan       AFG  1967    11537966\n",
      "4     Afghanistan       AFG  1972    13079460\n",
      "...           ...       ...   ...         ...\n",
      "1699     Zimbabwe       ZWE  1987     9216418\n",
      "1700     Zimbabwe       ZWE  1992    10704340\n",
      "1701     Zimbabwe       ZWE  1997    11404948\n",
      "1702     Zimbabwe       ZWE  2002    11926563\n",
      "1703     Zimbabwe       ZWE  2007    12311143\n",
      "\n",
      "[1704 rows x 4 columns]\n"
     ]
    }
   ],
   "source": [
    "print(df)"
   ]
  },
  {
   "cell_type": "code",
   "execution_count": 5,
   "id": "91ed253e-725d-4b78-b5ed-20e4631ee38a",
   "metadata": {},
   "outputs": [
    {
     "name": "stdout",
     "output_type": "stream",
     "text": [
      "60011\n",
      "1318683096\n"
     ]
    }
   ],
   "source": [
    "min_pop = df['population'].min()\n",
    "max_pop = df['population'].max()\n",
    "print(min_pop)\n",
    "print(max_pop)"
   ]
  },
  {
   "cell_type": "code",
   "execution_count": 17,
   "id": "96596e66-1478-45df-8be4-a34f29290eeb",
   "metadata": {},
   "outputs": [],
   "source": [
    "fig = px.choropleth(\n",
    "    df,\n",
    "    locations=\"iso_alpha\",\n",
    "    color=\"population\",\n",
    "    hover_name=\"country\",\n",
    "    animation_frame=\"year\",\n",
    "    color_continuous_scale=\"Viridis\",\n",
    "    range_color=[min_pop, max_pop],\n",
    "    projection=\"natural earth\",\n",
    "    title=\" World Population by Country (Animated Over Years)\",\n",
    "    labels={'population': 'Population'}\n",
    ")"
   ]
  },
  {
   "cell_type": "code",
   "execution_count": 15,
   "id": "196e585d-c69c-4cc4-95ee-a5444149028c",
   "metadata": {},
   "outputs": [
    {
     "data": {
      "text/html": [
       "<iframe\n",
       "    scrolling=\"no\"\n",
       "    width=\"100%\"\n",
       "    height=\"545px\"\n",
       "    src=\"iframe_figures/figure_15.html\"\n",
       "    frameborder=\"0\"\n",
       "    allowfullscreen\n",
       "></iframe>\n"
      ]
     },
     "metadata": {},
     "output_type": "display_data"
    }
   ],
   "source": [
    "fig.update_layout(\n",
    "    coloraxis_colorbar=dict(\n",
    "        title=\"Population\",\n",
    "        tickformat=\".2s\"\n",
    "    ),\n",
    "    margin={\"r\":0,\"t\":50,\"l\":0,\"b\":0},\n",
    "    geo=dict(\n",
    "        showframe=False,\n",
    "        showcoastlines=True,\n",
    "        projection_type='natural earth'\n",
    "    )\n",
    ")\n",
    "fig.show()\n"
   ]
  },
  {
   "cell_type": "code",
   "execution_count": null,
   "id": "25219cd4-4f18-4515-8578-75815e4162f7",
   "metadata": {},
   "outputs": [],
   "source": []
  }
 ],
 "metadata": {
  "kernelspec": {
   "display_name": "Python 3 (ipykernel)",
   "language": "python",
   "name": "python3"
  },
  "language_info": {
   "codemirror_mode": {
    "name": "ipython",
    "version": 3
   },
   "file_extension": ".py",
   "mimetype": "text/x-python",
   "name": "python",
   "nbconvert_exporter": "python",
   "pygments_lexer": "ipython3",
   "version": "3.12.4"
  }
 },
 "nbformat": 4,
 "nbformat_minor": 5
}
