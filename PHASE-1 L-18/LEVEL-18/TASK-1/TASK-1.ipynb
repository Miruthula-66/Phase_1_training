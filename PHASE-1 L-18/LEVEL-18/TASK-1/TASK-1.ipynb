{
 "cells": [
  {
   "cell_type": "code",
   "execution_count": 0,
   "metadata": {
    "application/vnd.databricks.v1+cell": {
     "cellMetadata": {
      "byteLimit": 2048000,
      "rowLimit": 10000
     },
     "inputWidgets": {},
     "nuid": "0b3f7c19-ec72-4762-98e0-bdc1f0815d7b",
     "showTitle": false,
     "tableResultSettingsMap": {},
     "title": ""
    }
   },
   "outputs": [
    {
     "output_type": "stream",
     "name": "stdout",
     "output_type": "stream",
     "text": [
      "Number of rows: 260920\n"
     ]
    }
   ],
   "source": [
    "print(f\"Number of rows: {df.count()}\")\n"
   ]
  },
  {
   "cell_type": "code",
   "execution_count": 0,
   "metadata": {
    "application/vnd.databricks.v1+cell": {
     "cellMetadata": {
      "byteLimit": 2048000,
      "rowLimit": 10000
     },
     "inputWidgets": {},
     "nuid": "5c63eb56-9d77-4534-b731-61f535fadb32",
     "showTitle": false,
     "tableResultSettingsMap": {},
     "title": ""
    }
   },
   "outputs": [
    {
     "output_type": "display_data",
     "data": {
      "text/html": [
       "<style scoped>\n",
       "  .table-result-container {\n",
       "    max-height: 300px;\n",
       "    overflow: auto;\n",
       "  }\n",
       "  table, th, td {\n",
       "    border: 1px solid black;\n",
       "    border-collapse: collapse;\n",
       "  }\n",
       "  th, td {\n",
       "    padding: 5px;\n",
       "  }\n",
       "  th {\n",
       "    text-align: left;\n",
       "  }\n",
       "</style><div class='table-result-container'><table class='table-result'><thead style='background-color: white'><tr><th>path</th><th>name</th><th>size</th><th>modificationTime</th></tr></thead><tbody><tr><td>dbfs:/FileStore/tables/IPL Data Ingestion/</td><td>IPL Data Ingestion/</td><td>0</td><td>0</td></tr><tr><td>dbfs:/FileStore/tables/aggregated_deliveries_delta/</td><td>aggregated_deliveries_delta/</td><td>0</td><td>0</td></tr><tr><td>dbfs:/FileStore/tables/commentary_csv/</td><td>commentary_csv/</td><td>0</td><td>0</td></tr><tr><td>dbfs:/FileStore/tables/commentary_parquet/</td><td>commentary_parquet/</td><td>0</td><td>0</td></tr><tr><td>dbfs:/FileStore/tables/deliveries.csv</td><td>deliveries.csv</td><td>27019953</td><td>1744175298000</td></tr><tr><td>dbfs:/FileStore/tables/deliveries_csv/</td><td>deliveries_csv/</td><td>0</td><td>0</td></tr><tr><td>dbfs:/FileStore/tables/deliveries_parquet/</td><td>deliveries_parquet/</td><td>0</td><td>0</td></tr><tr><td>dbfs:/FileStore/tables/delta_deliveries/</td><td>delta_deliveries/</td><td>0</td><td>0</td></tr><tr><td>dbfs:/FileStore/tables/file formats/</td><td>file formats/</td><td>0</td><td>0</td></tr><tr><td>dbfs:/FileStore/tables/matches.csv</td><td>matches.csv</td><td>225266</td><td>1744175129000</td></tr></tbody></table></div>"
      ]
     },
     "metadata": {
      "application/vnd.databricks.v1+output": {
       "addedWidgets": {},
       "aggData": [],
       "aggError": "",
       "aggOverflow": false,
       "aggSchema": [],
       "aggSeriesLimitReached": false,
       "aggType": "",
       "arguments": {},
       "columnCustomDisplayInfos": {},
       "data": [
        [
         "dbfs:/FileStore/tables/IPL Data Ingestion/",
         "IPL Data Ingestion/",
         0,
         0
        ],
        [
         "dbfs:/FileStore/tables/aggregated_deliveries_delta/",
         "aggregated_deliveries_delta/",
         0,
         0
        ],
        [
         "dbfs:/FileStore/tables/commentary_csv/",
         "commentary_csv/",
         0,
         0
        ],
        [
         "dbfs:/FileStore/tables/commentary_parquet/",
         "commentary_parquet/",
         0,
         0
        ],
        [
         "dbfs:/FileStore/tables/deliveries.csv",
         "deliveries.csv",
         27019953,
         1744175298000
        ],
        [
         "dbfs:/FileStore/tables/deliveries_csv/",
         "deliveries_csv/",
         0,
         0
        ],
        [
         "dbfs:/FileStore/tables/deliveries_parquet/",
         "deliveries_parquet/",
         0,
         0
        ],
        [
         "dbfs:/FileStore/tables/delta_deliveries/",
         "delta_deliveries/",
         0,
         0
        ],
        [
         "dbfs:/FileStore/tables/file formats/",
         "file formats/",
         0,
         0
        ],
        [
         "dbfs:/FileStore/tables/matches.csv",
         "matches.csv",
         225266,
         1744175129000
        ]
       ],
       "datasetInfos": [],
       "dbfsResultPath": null,
       "isJsonSchema": true,
       "metadata": {},
       "overflow": false,
       "plotOptions": {
        "customPlotOptions": {},
        "displayType": "table",
        "pivotAggregation": null,
        "pivotColumns": null,
        "xColumns": null,
        "yColumns": null
       },
       "removedWidgets": [],
       "schema": [
        {
         "metadata": "{}",
         "name": "path",
         "type": "\"string\""
        },
        {
         "metadata": "{}",
         "name": "name",
         "type": "\"string\""
        },
        {
         "metadata": "{}",
         "name": "size",
         "type": "\"long\""
        },
        {
         "metadata": "{}",
         "name": "modificationTime",
         "type": "\"long\""
        }
       ],
       "type": "table"
      }
     },
     "output_type": "display_data"
    }
   ],
   "source": [
    "display(dbutils.fs.ls(\"/FileStore/tables/\"))\n"
   ]
  },
  {
   "cell_type": "code",
   "execution_count": 0,
   "metadata": {
    "application/vnd.databricks.v1+cell": {
     "cellMetadata": {
      "byteLimit": 2048000,
      "rowLimit": 10000
     },
     "inputWidgets": {},
     "nuid": "24fa8827-4fd6-464d-b20e-721b7a2d0eb4",
     "showTitle": false,
     "tableResultSettingsMap": {},
     "title": ""
    }
   },
   "outputs": [
    {
     "output_type": "stream",
     "name": "stdout",
     "output_type": "stream",
     "text": [
      "Number of rows: 260920\nCSV file size: 26137.35 KB\nParquet file size: 1056.41 KB\nParquet format reduced the size by: 95.96%\n"
     ]
    }
   ],
   "source": [
    "df = spark.read.option(\"header\", \"true\").csv(\"/FileStore/tables/deliveries.csv\")\n",
    "print(f\"Number of rows: {df.count()}\")\n",
    "csv_path = \"/FileStore/tables/commentary_csv\"\n",
    "df.write.mode(\"overwrite\").option(\"header\", \"true\").csv(csv_path)\n",
    "parquet_path = \"/FileStore/tables/commentary_parquet\"\n",
    "df.write.mode(\"overwrite\").parquet(parquet_path)\n",
    "def get_folder_size(path):\n",
    "    files = dbutils.fs.ls(path)\n",
    "    return sum([f.size for f in files if not f.path.endswith(\"/\")])\n",
    "csv_size = get_folder_size(csv_path)\n",
    "parquet_size = get_folder_size(parquet_path)\n",
    "csv_size_kb = csv_size / 1024\n",
    "parquet_size_kb = parquet_size / 1024\n",
    "\n",
    "print(f\"CSV file size: {csv_size_kb:.2f} KB\")\n",
    "print(f\"Parquet file size: {parquet_size_kb:.2f} KB\")\n",
    "if csv_size > 0:\n",
    "    reduction_percentage = ((csv_size - parquet_size) / csv_size) * 100\n",
    "    print(f\"Parquet format reduced the size by: {reduction_percentage:.2f}%\")\n",
    "else:\n",
    "    print(\"CSV size is zero. Cannot compute reduction percentage.\")\n"
   ]
  },
  {
   "cell_type": "code",
   "execution_count": 0,
   "metadata": {
    "application/vnd.databricks.v1+cell": {
     "cellMetadata": {},
     "inputWidgets": {},
     "nuid": "4471e914-51d9-49d9-9a5f-03f94df68abe",
     "showTitle": false,
     "tableResultSettingsMap": {},
     "title": ""
    }
   },
   "outputs": [],
   "source": []
  }
 ],
 "metadata": {
  "application/vnd.databricks.v1+notebook": {
   "computePreferences": null,
   "dashboards": [],
   "environmentMetadata": {
    "base_environment": "",
    "environment_version": "1"
   },
   "inputWidgetPreferences": null,
   "language": "python",
   "notebookMetadata": {
    "pythonIndentUnit": 4
   },
   "notebookName": "file formats",
   "widgets": {}
  }
 },
 "nbformat": 4,
 "nbformat_minor": 0
}