{
 "cells": [
  {
   "cell_type": "code",
   "execution_count": 0,
   "metadata": {
    "application/vnd.databricks.v1+cell": {
     "cellMetadata": {
      "byteLimit": 2048000,
      "rowLimit": 10000
     },
     "inputWidgets": {},
     "nuid": "49b09001-58c0-4107-b3a8-9bcb85926265",
     "showTitle": false,
     "tableResultSettingsMap": {},
     "title": ""
    }
   },
   "outputs": [
    {
     "output_type": "stream",
     "name": "stdout",
     "output_type": "stream",
     "text": [
      "+--------+------+--------------------+--------------------+----+----+-----------+-------+-----------+------------+----------+----------+-----------+---------+----------------+--------------+-------+\n|match_id|inning|        batting_team|        bowling_team|over|ball|     batter| bowler|non_striker|batsman_runs|extra_runs|total_runs|extras_type|is_wicket|player_dismissed|dismissal_kind|fielder|\n+--------+------+--------------------+--------------------+----+----+-----------+-------+-----------+------------+----------+----------+-----------+---------+----------------+--------------+-------+\n|  335982|     1|Kolkata Knight Ri...|Royal Challengers...|   0|   1| SC Ganguly|P Kumar|BB McCullum|           0|         1|         1|    legbyes|        0|              NA|            NA|     NA|\n|  335982|     1|Kolkata Knight Ri...|Royal Challengers...|   0|   2|BB McCullum|P Kumar| SC Ganguly|           0|         0|         0|       null|        0|              NA|            NA|     NA|\n|  335982|     1|Kolkata Knight Ri...|Royal Challengers...|   0|   3|BB McCullum|P Kumar| SC Ganguly|           0|         1|         1|      wides|        0|              NA|            NA|     NA|\n|  335982|     1|Kolkata Knight Ri...|Royal Challengers...|   0|   4|BB McCullum|P Kumar| SC Ganguly|           0|         0|         0|       null|        0|              NA|            NA|     NA|\n|  335982|     1|Kolkata Knight Ri...|Royal Challengers...|   0|   5|BB McCullum|P Kumar| SC Ganguly|           0|         0|         0|       null|        0|              NA|            NA|     NA|\n+--------+------+--------------------+--------------------+----+----+-----------+-------+-----------+------------+----------+----------+-----------+---------+----------------+--------------+-------+\nonly showing top 5 rows\n\n"
     ]
    }
   ],
   "source": [
    "commentary_df = spark.read.csv(\"dbfs:/FileStore/tables/deliveries.csv\", header=True, inferSchema=True)\n",
    "commentary_df.show(5)\n"
   ]
  },
  {
   "cell_type": "code",
   "execution_count": 0,
   "metadata": {
    "application/vnd.databricks.v1+cell": {
     "cellMetadata": {
      "byteLimit": 2048000,
      "rowLimit": 10000
     },
     "inputWidgets": {},
     "nuid": "a53ce5d3-2399-436f-bfdc-b4f3b88acc50",
     "showTitle": false,
     "tableResultSettingsMap": {},
     "title": ""
    }
   },
   "outputs": [],
   "source": [
    "commentary_df.write.mode(\"overwrite\").saveAsTable(\"managed_commentary\")\n"
   ]
  },
  {
   "cell_type": "code",
   "execution_count": 0,
   "metadata": {
    "application/vnd.databricks.v1+cell": {
     "cellMetadata": {
      "byteLimit": 2048000,
      "rowLimit": 10000
     },
     "inputWidgets": {},
     "nuid": "a8f44e64-685b-4ff0-9141-191125f24a22",
     "showTitle": false,
     "tableResultSettingsMap": {},
     "title": ""
    }
   },
   "outputs": [
    {
     "output_type": "stream",
     "name": "stdout",
     "output_type": "stream",
     "text": [
      "+--------+-------------------+-----------+\n|database|          tableName|isTemporary|\n+--------+-------------------+-----------+\n| default|     deliveries_csv|      false|\n| default|external_commentary|      false|\n| default| managed_commentary|      false|\n+--------+-------------------+-----------+\n\n"
     ]
    }
   ],
   "source": [
    "spark.sql(\"SHOW TABLES\").show()\n"
   ]
  },
  {
   "cell_type": "code",
   "execution_count": 0,
   "metadata": {
    "application/vnd.databricks.v1+cell": {
     "cellMetadata": {
      "byteLimit": 2048000,
      "rowLimit": 10000
     },
     "inputWidgets": {},
     "nuid": "99763d17-c115-41da-949b-de6449eaf86e",
     "showTitle": false,
     "tableResultSettingsMap": {},
     "title": ""
    }
   },
   "outputs": [],
   "source": [
    "external_path = \"dbfs:/FileStore/tables/external_commentary\"\n",
    "\n",
    "commentary_df.write.mode(\"overwrite\").option(\"path\", external_path).saveAsTable(\"external_commentary\")\n"
   ]
  },
  {
   "cell_type": "code",
   "execution_count": 0,
   "metadata": {
    "application/vnd.databricks.v1+cell": {
     "cellMetadata": {
      "byteLimit": 2048000,
      "rowLimit": 10000
     },
     "inputWidgets": {},
     "nuid": "fa88d183-1da7-4131-a3ba-b0ab4c812e1d",
     "showTitle": false,
     "tableResultSettingsMap": {},
     "title": ""
    }
   },
   "outputs": [
    {
     "output_type": "stream",
     "name": "stdout",
     "output_type": "stream",
     "text": [
      "+--------+-------------------+-----------+\n|database|          tableName|isTemporary|\n+--------+-------------------+-----------+\n| default|     deliveries_csv|      false|\n| default|external_commentary|      false|\n| default| managed_commentary|      false|\n+--------+-------------------+-----------+\n\n"
     ]
    }
   ],
   "source": [
    "spark.sql(\"SHOW TABLES\").show()\n"
   ]
  },
  {
   "cell_type": "code",
   "execution_count": 0,
   "metadata": {
    "application/vnd.databricks.v1+cell": {
     "cellMetadata": {
      "byteLimit": 2048000,
      "rowLimit": 10000
     },
     "inputWidgets": {},
     "nuid": "ff2d7257-3850-4a37-b273-5aa106aa643c",
     "showTitle": false,
     "tableResultSettingsMap": {},
     "title": ""
    }
   },
   "outputs": [
    {
     "output_type": "stream",
     "name": "stdout",
     "output_type": "stream",
     "text": [
      "Out[17]: DataFrame[]"
     ]
    }
   ],
   "source": [
    "spark.sql(\"DROP TABLE managed_commentary\")\n",
    "spark.sql(\"DROP TABLE external_commentary\")\n"
   ]
  },
  {
   "cell_type": "code",
   "execution_count": 0,
   "metadata": {
    "application/vnd.databricks.v1+cell": {
     "cellMetadata": {
      "byteLimit": 2048000,
      "rowLimit": 10000
     },
     "inputWidgets": {},
     "nuid": "36526613-1434-4291-a50a-78cfec1b5703",
     "showTitle": false,
     "tableResultSettingsMap": {},
     "title": ""
    }
   },
   "outputs": [
    {
     "output_type": "stream",
     "name": "stdout",
     "output_type": "stream",
     "text": [
      "+--------+--------------+-----------+\n|database|     tableName|isTemporary|\n+--------+--------------+-----------+\n| default|deliveries_csv|      false|\n+--------+--------------+-----------+\n\n"
     ]
    }
   ],
   "source": [
    "spark.sql(\"SHOW TABLES\").show()\n"
   ]
  },
  {
   "cell_type": "code",
   "execution_count": 0,
   "metadata": {
    "application/vnd.databricks.v1+cell": {
     "cellMetadata": {
      "byteLimit": 2048000,
      "rowLimit": 10000
     },
     "inputWidgets": {},
     "nuid": "1d929a2c-06fb-4e3b-a3ec-d706f7f81920",
     "showTitle": false,
     "tableResultSettingsMap": {},
     "title": ""
    }
   },
   "outputs": [
    {
     "output_type": "display_data",
     "data": {
      "text/html": [
       "<style scoped>\n",
       "  .ansiout {\n",
       "    display: block;\n",
       "    unicode-bidi: embed;\n",
       "    white-space: pre-wrap;\n",
       "    word-wrap: break-word;\n",
       "    word-break: break-all;\n",
       "    font-family: \"Menlo\", \"Monaco\", \"Consolas\", \"Ubuntu Mono\", \"Source Code Pro\", monospace;\n",
       "    font-size: 13px;\n",
       "    color: #555;\n",
       "    margin-left: 4px;\n",
       "    line-height: 19px;\n",
       "  }\n",
       "</style>\n",
       "<div class=\"ansiout\"></div>"
      ]
     },
     "metadata": {
      "application/vnd.databricks.v1+output": {
       "addedWidgets": {},
       "arguments": {},
       "data": "<div class=\"ansiout\"></div>",
       "datasetInfos": [],
       "metadata": {
        "isDbfsCommandResult": false
       },
       "removedWidgets": [],
       "type": "html"
      }
     },
     "output_type": "display_data"
    },
    {
     "output_type": "display_data",
     "data": {
      "text/html": [
       "<style scoped>\n",
       "  .ansiout {\n",
       "    display: block;\n",
       "    unicode-bidi: embed;\n",
       "    white-space: pre-wrap;\n",
       "    word-wrap: break-word;\n",
       "    word-break: break-all;\n",
       "    font-family: \"Menlo\", \"Monaco\", \"Consolas\", \"Ubuntu Mono\", \"Source Code Pro\", monospace;\n",
       "    font-size: 13px;\n",
       "    color: #555;\n",
       "    margin-left: 4px;\n",
       "    line-height: 19px;\n",
       "  }\n",
       "</style>\n",
       "<div class=\"ansiout\">\tat com.databricks.backend.daemon.data.client.DbfsClient.send0(DbfsClient.scala:121)\n",
       "\tat com.databricks.backend.daemon.data.client.DbfsClient.sendIdempotent(DbfsClient.scala:69)\n",
       "\tat com.databricks.backend.daemon.data.client.DatabricksFileSystemV1.listStatus(DatabricksFileSystemV1.scala:179)\n",
       "\tat com.databricks.backend.daemon.data.client.DatabricksFileSystem.listStatus(DatabricksFileSystem.scala:161)\n",
       "\tat com.databricks.backend.daemon.dbutils.FSUtils.lsWithLimit(DBUtilsCore.scala:274)\n",
       "\tat com.databricks.backend.daemon.dbutils.FSUtils.$anonfun$lsImpl$4(DBUtilsCore.scala:243)\n",
       "\tat com.databricks.backend.daemon.dbutils.FSUtils.withFsSafetyCheck(DBUtilsCore.scala:149)\n",
       "\tat com.databricks.backend.daemon.dbutils.FSUtils.$anonfun$lsImpl$3(DBUtilsCore.scala:243)\n",
       "\tat com.databricks.backend.daemon.dbutils.FSUtils.checkPermission(DBUtilsCore.scala:144)\n",
       "\tat com.databricks.backend.daemon.dbutils.FSUtils.lsImpl(DBUtilsCore.scala:242)\n",
       "\tat com.databricks.backend.daemon.dbutils.FSUtils.$anonfun$ls$1(DBUtilsCore.scala:215)\n",
       "\tat com.databricks.logging.UsageLogging.$anonfun$recordOperation$1(UsageLogging.scala:560)\n",
       "\tat com.databricks.logging.UsageLogging.executeThunkAndCaptureResultTags$1(UsageLogging.scala:657)\n",
       "\tat com.databricks.logging.UsageLogging.$anonfun$recordOperationWithResultTags$4(UsageLogging.scala:678)\n",
       "\tat com.databricks.logging.UsageLogging.$anonfun$withAttributionContext$1(UsageLogging.scala:414)\n",
       "\tat scala.util.DynamicVariable.withValue(DynamicVariable.scala:62)\n",
       "\tat com.databricks.logging.AttributionContext$.withValue(AttributionContext.scala:158)\n",
       "\tat com.databricks.logging.UsageLogging.withAttributionContext(UsageLogging.scala:412)\n",
       "\tat com.databricks.logging.UsageLogging.withAttributionContext$(UsageLogging.scala:409)\n",
       "\tat com.databricks.backend.daemon.dbutils.FSUtils.withAttributionContext(DBUtilsCore.scala:71)\n",
       "\tat com.databricks.logging.UsageLogging.withAttributionTags(UsageLogging.scala:457)\n",
       "\tat com.databricks.logging.UsageLogging.withAttributionTags$(UsageLogging.scala:442)\n",
       "\tat com.databricks.backend.daemon.dbutils.FSUtils.withAttributionTags(DBUtilsCore.scala:71)\n",
       "\tat com.databricks.logging.UsageLogging.recordOperationWithResultTags(UsageLogging.scala:652)\n",
       "\tat com.databricks.logging.UsageLogging.recordOperationWithResultTags$(UsageLogging.scala:569)\n",
       "\tat com.databricks.backend.daemon.dbutils.FSUtils.recordOperationWithResultTags(DBUtilsCore.scala:71)\n",
       "\tat com.databricks.logging.UsageLogging.recordOperation(UsageLogging.scala:560)\n",
       "\tat com.databricks.logging.UsageLogging.recordOperation$(UsageLogging.scala:528)\n",
       "\tat com.databricks.backend.daemon.dbutils.FSUtils.recordOperation(DBUtilsCore.scala:71)\n",
       "\tat com.databricks.backend.daemon.dbutils.FSUtils.recordDbutilsFsOp(DBUtilsCore.scala:135)\n",
       "\tat com.databricks.backend.daemon.dbutils.FSUtils.ls(DBUtilsCore.scala:215)\n",
       "\tat com.databricks.dbutils_v1.impl.DbfsUtilsImpl.ls(DbfsUtilsImpl.scala:67)\n",
       "\tat $line0612460741ec47c9b94d1474e5d704d525.$read$$iw$$iw$$iw$$iw$$iw$$iw.&lt;init&gt;(command-776583913739549:1)\n",
       "\tat $line0612460741ec47c9b94d1474e5d704d525.$read$$iw$$iw$$iw$$iw$$iw.&lt;init&gt;(command-776583913739549:43)\n",
       "\tat $line0612460741ec47c9b94d1474e5d704d525.$read$$iw$$iw$$iw$$iw.&lt;init&gt;(command-776583913739549:45)\n",
       "\tat $line0612460741ec47c9b94d1474e5d704d525.$read$$iw$$iw$$iw.&lt;init&gt;(command-776583913739549:47)\n",
       "\tat $line0612460741ec47c9b94d1474e5d704d525.$read$$iw$$iw.&lt;init&gt;(command-776583913739549:49)\n",
       "\tat $line0612460741ec47c9b94d1474e5d704d525.$read$$iw.&lt;init&gt;(command-776583913739549:51)\n",
       "\tat $line0612460741ec47c9b94d1474e5d704d525.$read.&lt;init&gt;(command-776583913739549:53)\n",
       "\tat $line0612460741ec47c9b94d1474e5d704d525.$read$.&lt;init&gt;(command-776583913739549:57)\n",
       "\tat $line0612460741ec47c9b94d1474e5d704d525.$read$.&lt;clinit&gt;(command-776583913739549)\n",
       "\tat $line0612460741ec47c9b94d1474e5d704d525.$eval$.$print$lzycompute(&lt;notebook&gt;:7)\n",
       "\tat $line0612460741ec47c9b94d1474e5d704d525.$eval$.$print(&lt;notebook&gt;:6)\n",
       "\tat $line0612460741ec47c9b94d1474e5d704d525.$eval.$print(&lt;notebook&gt;)\n",
       "\tat sun.reflect.NativeMethodAccessorImpl.invoke0(Native Method)\n",
       "\tat sun.reflect.NativeMethodAccessorImpl.invoke(NativeMethodAccessorImpl.java:62)\n",
       "\tat sun.reflect.DelegatingMethodAccessorImpl.invoke(DelegatingMethodAccessorImpl.java:43)\n",
       "\tat java.lang.reflect.Method.invoke(Method.java:498)\n",
       "\tat scala.tools.nsc.interpreter.IMain$ReadEvalPrint.call(IMain.scala:747)\n",
       "\tat scala.tools.nsc.interpreter.IMain$Request.loadAndRun(IMain.scala:1020)\n",
       "\tat scala.tools.nsc.interpreter.IMain.$anonfun$interpret$1(IMain.scala:568)\n",
       "\tat scala.reflect.internal.util.ScalaClassLoader.asContext(ScalaClassLoader.scala:36)\n",
       "\tat scala.reflect.internal.util.ScalaClassLoader.asContext$(ScalaClassLoader.scala:116)\n",
       "\tat scala.reflect.internal.util.AbstractFileClassLoader.asContext(AbstractFileClassLoader.scala:41)\n",
       "\tat scala.tools.nsc.interpreter.IMain.loadAndRunReq$1(IMain.scala:567)\n",
       "\tat scala.tools.nsc.interpreter.IMain.interpret(IMain.scala:594)\n",
       "\tat scala.tools.nsc.interpreter.IMain.interpret(IMain.scala:564)\n",
       "\tat com.databricks.backend.daemon.driver.DriverILoop.execute(DriverILoop.scala:223)\n",
       "\tat com.databricks.backend.daemon.driver.ScalaDriverLocal.$anonfun$repl$1(ScalaDriverLocal.scala:227)\n",
       "\tat scala.runtime.java8.JFunction0$mcV$sp.apply(JFunction0$mcV$sp.java:23)\n",
       "\tat com.databricks.backend.daemon.driver.DriverLocal$TrapExitInternal$.trapExit(DriverLocal.scala:1323)\n",
       "\tat com.databricks.backend.daemon.driver.DriverLocal$TrapExit$.apply(DriverLocal.scala:1276)\n",
       "\tat com.databricks.backend.daemon.driver.ScalaDriverLocal.repl(ScalaDriverLocal.scala:227)\n",
       "\tat com.databricks.backend.daemon.driver.DriverLocal.$anonfun$execute$27(DriverLocal.scala:929)\n",
       "\tat com.databricks.unity.EmptyHandle$.runWith(UCSHandle.scala:125)\n",
       "\tat com.databricks.backend.daemon.driver.DriverLocal.$anonfun$execute$24(DriverLocal.scala:920)\n",
       "\tat com.databricks.logging.UsageLogging.$anonfun$withAttributionContext$1(UsageLogging.scala:414)\n",
       "\tat scala.util.DynamicVariable.withValue(DynamicVariable.scala:62)\n",
       "\tat com.databricks.logging.AttributionContext$.withValue(AttributionContext.scala:158)\n",
       "\tat com.databricks.logging.UsageLogging.withAttributionContext(UsageLogging.scala:412)\n",
       "\tat com.databricks.logging.UsageLogging.withAttributionContext$(UsageLogging.scala:409)\n",
       "\tat com.databricks.backend.daemon.driver.DriverLocal.withAttributionContext(DriverLocal.scala:77)\n",
       "\tat com.databricks.logging.UsageLogging.withAttributionTags(UsageLogging.scala:457)\n",
       "\tat com.databricks.logging.UsageLogging.withAttributionTags$(UsageLogging.scala:442)\n",
       "\tat com.databricks.backend.daemon.driver.DriverLocal.withAttributionTags(DriverLocal.scala:77)\n",
       "\tat com.databricks.backend.daemon.driver.DriverLocal.execute(DriverLocal.scala:889)\n",
       "\tat com.databricks.backend.daemon.driver.DriverWrapper.$anonfun$tryExecutingCommand$2(DriverWrapper.scala:719)\n",
       "\tat scala.util.Try$.apply(Try.scala:213)\n",
       "\tat com.databricks.backend.daemon.driver.DriverWrapper.$anonfun$tryExecutingCommand$1(DriverWrapper.scala:711)\n",
       "\tat com.databricks.backend.daemon.driver.DriverWrapper.tryExecutingCommand(DriverWrapper.scala:739)\n",
       "\tat com.databricks.backend.daemon.driver.DriverWrapper.executeCommandAndGetError(DriverWrapper.scala:628)\n",
       "\tat com.databricks.backend.daemon.driver.DriverWrapper.executeCommand(DriverWrapper.scala:663)\n",
       "\tat com.databricks.backend.daemon.driver.DriverWrapper.runInnerLoop(DriverWrapper.scala:499)\n",
       "\tat com.databricks.backend.daemon.driver.DriverWrapper.runInner(DriverWrapper.scala:438)\n",
       "\tat com.databricks.backend.daemon.driver.DriverWrapper.run(DriverWrapper.scala:262)\n",
       "\tat java.lang.Thread.run(Thread.java:750)</div>"
      ]
     },
     "metadata": {
      "application/vnd.databricks.v1+output": {
       "arguments": {},
       "data": "<div class=\"ansiout\">\tat com.databricks.backend.daemon.data.client.DbfsClient.send0(DbfsClient.scala:121)\n\tat com.databricks.backend.daemon.data.client.DbfsClient.sendIdempotent(DbfsClient.scala:69)\n\tat com.databricks.backend.daemon.data.client.DatabricksFileSystemV1.listStatus(DatabricksFileSystemV1.scala:179)\n\tat com.databricks.backend.daemon.data.client.DatabricksFileSystem.listStatus(DatabricksFileSystem.scala:161)\n\tat com.databricks.backend.daemon.dbutils.FSUtils.lsWithLimit(DBUtilsCore.scala:274)\n\tat com.databricks.backend.daemon.dbutils.FSUtils.$anonfun$lsImpl$4(DBUtilsCore.scala:243)\n\tat com.databricks.backend.daemon.dbutils.FSUtils.withFsSafetyCheck(DBUtilsCore.scala:149)\n\tat com.databricks.backend.daemon.dbutils.FSUtils.$anonfun$lsImpl$3(DBUtilsCore.scala:243)\n\tat com.databricks.backend.daemon.dbutils.FSUtils.checkPermission(DBUtilsCore.scala:144)\n\tat com.databricks.backend.daemon.dbutils.FSUtils.lsImpl(DBUtilsCore.scala:242)\n\tat com.databricks.backend.daemon.dbutils.FSUtils.$anonfun$ls$1(DBUtilsCore.scala:215)\n\tat com.databricks.logging.UsageLogging.$anonfun$recordOperation$1(UsageLogging.scala:560)\n\tat com.databricks.logging.UsageLogging.executeThunkAndCaptureResultTags$1(UsageLogging.scala:657)\n\tat com.databricks.logging.UsageLogging.$anonfun$recordOperationWithResultTags$4(UsageLogging.scala:678)\n\tat com.databricks.logging.UsageLogging.$anonfun$withAttributionContext$1(UsageLogging.scala:414)\n\tat scala.util.DynamicVariable.withValue(DynamicVariable.scala:62)\n\tat com.databricks.logging.AttributionContext$.withValue(AttributionContext.scala:158)\n\tat com.databricks.logging.UsageLogging.withAttributionContext(UsageLogging.scala:412)\n\tat com.databricks.logging.UsageLogging.withAttributionContext$(UsageLogging.scala:409)\n\tat com.databricks.backend.daemon.dbutils.FSUtils.withAttributionContext(DBUtilsCore.scala:71)\n\tat com.databricks.logging.UsageLogging.withAttributionTags(UsageLogging.scala:457)\n\tat com.databricks.logging.UsageLogging.withAttributionTags$(UsageLogging.scala:442)\n\tat com.databricks.backend.daemon.dbutils.FSUtils.withAttributionTags(DBUtilsCore.scala:71)\n\tat com.databricks.logging.UsageLogging.recordOperationWithResultTags(UsageLogging.scala:652)\n\tat com.databricks.logging.UsageLogging.recordOperationWithResultTags$(UsageLogging.scala:569)\n\tat com.databricks.backend.daemon.dbutils.FSUtils.recordOperationWithResultTags(DBUtilsCore.scala:71)\n\tat com.databricks.logging.UsageLogging.recordOperation(UsageLogging.scala:560)\n\tat com.databricks.logging.UsageLogging.recordOperation$(UsageLogging.scala:528)\n\tat com.databricks.backend.daemon.dbutils.FSUtils.recordOperation(DBUtilsCore.scala:71)\n\tat com.databricks.backend.daemon.dbutils.FSUtils.recordDbutilsFsOp(DBUtilsCore.scala:135)\n\tat com.databricks.backend.daemon.dbutils.FSUtils.ls(DBUtilsCore.scala:215)\n\tat com.databricks.dbutils_v1.impl.DbfsUtilsImpl.ls(DbfsUtilsImpl.scala:67)\n\tat $line0612460741ec47c9b94d1474e5d704d525.$read$$iw$$iw$$iw$$iw$$iw$$iw.&lt;init&gt;(command-776583913739549:1)\n\tat $line0612460741ec47c9b94d1474e5d704d525.$read$$iw$$iw$$iw$$iw$$iw.&lt;init&gt;(command-776583913739549:43)\n\tat $line0612460741ec47c9b94d1474e5d704d525.$read$$iw$$iw$$iw$$iw.&lt;init&gt;(command-776583913739549:45)\n\tat $line0612460741ec47c9b94d1474e5d704d525.$read$$iw$$iw$$iw.&lt;init&gt;(command-776583913739549:47)\n\tat $line0612460741ec47c9b94d1474e5d704d525.$read$$iw$$iw.&lt;init&gt;(command-776583913739549:49)\n\tat $line0612460741ec47c9b94d1474e5d704d525.$read$$iw.&lt;init&gt;(command-776583913739549:51)\n\tat $line0612460741ec47c9b94d1474e5d704d525.$read.&lt;init&gt;(command-776583913739549:53)\n\tat $line0612460741ec47c9b94d1474e5d704d525.$read$.&lt;init&gt;(command-776583913739549:57)\n\tat $line0612460741ec47c9b94d1474e5d704d525.$read$.&lt;clinit&gt;(command-776583913739549)\n\tat $line0612460741ec47c9b94d1474e5d704d525.$eval$.$print$lzycompute(&lt;notebook&gt;:7)\n\tat $line0612460741ec47c9b94d1474e5d704d525.$eval$.$print(&lt;notebook&gt;:6)\n\tat $line0612460741ec47c9b94d1474e5d704d525.$eval.$print(&lt;notebook&gt;)\n\tat sun.reflect.NativeMethodAccessorImpl.invoke0(Native Method)\n\tat sun.reflect.NativeMethodAccessorImpl.invoke(NativeMethodAccessorImpl.java:62)\n\tat sun.reflect.DelegatingMethodAccessorImpl.invoke(DelegatingMethodAccessorImpl.java:43)\n\tat java.lang.reflect.Method.invoke(Method.java:498)\n\tat scala.tools.nsc.interpreter.IMain$ReadEvalPrint.call(IMain.scala:747)\n\tat scala.tools.nsc.interpreter.IMain$Request.loadAndRun(IMain.scala:1020)\n\tat scala.tools.nsc.interpreter.IMain.$anonfun$interpret$1(IMain.scala:568)\n\tat scala.reflect.internal.util.ScalaClassLoader.asContext(ScalaClassLoader.scala:36)\n\tat scala.reflect.internal.util.ScalaClassLoader.asContext$(ScalaClassLoader.scala:116)\n\tat scala.reflect.internal.util.AbstractFileClassLoader.asContext(AbstractFileClassLoader.scala:41)\n\tat scala.tools.nsc.interpreter.IMain.loadAndRunReq$1(IMain.scala:567)\n\tat scala.tools.nsc.interpreter.IMain.interpret(IMain.scala:594)\n\tat scala.tools.nsc.interpreter.IMain.interpret(IMain.scala:564)\n\tat com.databricks.backend.daemon.driver.DriverILoop.execute(DriverILoop.scala:223)\n\tat com.databricks.backend.daemon.driver.ScalaDriverLocal.$anonfun$repl$1(ScalaDriverLocal.scala:227)\n\tat scala.runtime.java8.JFunction0$mcV$sp.apply(JFunction0$mcV$sp.java:23)\n\tat com.databricks.backend.daemon.driver.DriverLocal$TrapExitInternal$.trapExit(DriverLocal.scala:1323)\n\tat com.databricks.backend.daemon.driver.DriverLocal$TrapExit$.apply(DriverLocal.scala:1276)\n\tat com.databricks.backend.daemon.driver.ScalaDriverLocal.repl(ScalaDriverLocal.scala:227)\n\tat com.databricks.backend.daemon.driver.DriverLocal.$anonfun$execute$27(DriverLocal.scala:929)\n\tat com.databricks.unity.EmptyHandle$.runWith(UCSHandle.scala:125)\n\tat com.databricks.backend.daemon.driver.DriverLocal.$anonfun$execute$24(DriverLocal.scala:920)\n\tat com.databricks.logging.UsageLogging.$anonfun$withAttributionContext$1(UsageLogging.scala:414)\n\tat scala.util.DynamicVariable.withValue(DynamicVariable.scala:62)\n\tat com.databricks.logging.AttributionContext$.withValue(AttributionContext.scala:158)\n\tat com.databricks.logging.UsageLogging.withAttributionContext(UsageLogging.scala:412)\n\tat com.databricks.logging.UsageLogging.withAttributionContext$(UsageLogging.scala:409)\n\tat com.databricks.backend.daemon.driver.DriverLocal.withAttributionContext(DriverLocal.scala:77)\n\tat com.databricks.logging.UsageLogging.withAttributionTags(UsageLogging.scala:457)\n\tat com.databricks.logging.UsageLogging.withAttributionTags$(UsageLogging.scala:442)\n\tat com.databricks.backend.daemon.driver.DriverLocal.withAttributionTags(DriverLocal.scala:77)\n\tat com.databricks.backend.daemon.driver.DriverLocal.execute(DriverLocal.scala:889)\n\tat com.databricks.backend.daemon.driver.DriverWrapper.$anonfun$tryExecutingCommand$2(DriverWrapper.scala:719)\n\tat scala.util.Try$.apply(Try.scala:213)\n\tat com.databricks.backend.daemon.driver.DriverWrapper.$anonfun$tryExecutingCommand$1(DriverWrapper.scala:711)\n\tat com.databricks.backend.daemon.driver.DriverWrapper.tryExecutingCommand(DriverWrapper.scala:739)\n\tat com.databricks.backend.daemon.driver.DriverWrapper.executeCommandAndGetError(DriverWrapper.scala:628)\n\tat com.databricks.backend.daemon.driver.DriverWrapper.executeCommand(DriverWrapper.scala:663)\n\tat com.databricks.backend.daemon.driver.DriverWrapper.runInnerLoop(DriverWrapper.scala:499)\n\tat com.databricks.backend.daemon.driver.DriverWrapper.runInner(DriverWrapper.scala:438)\n\tat com.databricks.backend.daemon.driver.DriverWrapper.run(DriverWrapper.scala:262)\n\tat java.lang.Thread.run(Thread.java:750)</div>",
       "errorSummary": "FileNotFoundException: /user/hive/warehouse/managed_commentary",
       "errorTraceType": "html",
       "metadata": {},
       "type": "ipynbError"
      }
     },
     "output_type": "display_data"
    }
   ],
   "source": [
    "%fs ls /user/hive/warehouse/managed_commentary\n"
   ]
  },
  {
   "cell_type": "code",
   "execution_count": 0,
   "metadata": {
    "application/vnd.databricks.v1+cell": {
     "cellMetadata": {
      "byteLimit": 2048000,
      "rowLimit": 10000
     },
     "inputWidgets": {},
     "nuid": "122e7f89-fbde-455d-8df0-b6bd1da6fe57",
     "showTitle": false,
     "tableResultSettingsMap": {},
     "title": ""
    }
   },
   "outputs": [
    {
     "output_type": "display_data",
     "data": {
      "text/html": [
       "<style scoped>\n",
       "  .table-result-container {\n",
       "    max-height: 300px;\n",
       "    overflow: auto;\n",
       "  }\n",
       "  table, th, td {\n",
       "    border: 1px solid black;\n",
       "    border-collapse: collapse;\n",
       "  }\n",
       "  th, td {\n",
       "    padding: 5px;\n",
       "  }\n",
       "  th {\n",
       "    text-align: left;\n",
       "  }\n",
       "</style><div class='table-result-container'><table class='table-result'><thead style='background-color: white'><tr><th>path</th><th>name</th><th>size</th><th>modificationTime</th></tr></thead><tbody><tr><td>dbfs:/FileStore/tables/external_commentary/_delta_log/</td><td>_delta_log/</td><td>0</td><td>0</td></tr><tr><td>dbfs:/FileStore/tables/external_commentary/part-00000-486313d5-6ef7-4845-9826-4d848ef4bb2a-c000.snappy.parquet</td><td>part-00000-486313d5-6ef7-4845-9826-4d848ef4bb2a-c000.snappy.parquet</td><td>170320</td><td>1744262475000</td></tr><tr><td>dbfs:/FileStore/tables/external_commentary/part-00000-98d02789-e9a2-428b-b7b1-2add42f97773-c000.snappy.parquet</td><td>part-00000-98d02789-e9a2-428b-b7b1-2add42f97773-c000.snappy.parquet</td><td>170320</td><td>1744262605000</td></tr><tr><td>dbfs:/FileStore/tables/external_commentary/part-00001-6d4efefb-9729-49ca-99f3-7bb058e298a6-c000.snappy.parquet</td><td>part-00001-6d4efefb-9729-49ca-99f3-7bb058e298a6-c000.snappy.parquet</td><td>169198</td><td>1744262475000</td></tr><tr><td>dbfs:/FileStore/tables/external_commentary/part-00001-72a81172-30ef-47c4-83e1-aef51bfc030d-c000.snappy.parquet</td><td>part-00001-72a81172-30ef-47c4-83e1-aef51bfc030d-c000.snappy.parquet</td><td>169198</td><td>1744262605000</td></tr><tr><td>dbfs:/FileStore/tables/external_commentary/part-00002-037fbe7b-3bef-4b53-80c1-1a39cf92d0bc-c000.snappy.parquet</td><td>part-00002-037fbe7b-3bef-4b53-80c1-1a39cf92d0bc-c000.snappy.parquet</td><td>165280</td><td>1744262475000</td></tr><tr><td>dbfs:/FileStore/tables/external_commentary/part-00002-0caf1468-635f-4347-8b88-bb06e0e435df-c000.snappy.parquet</td><td>part-00002-0caf1468-635f-4347-8b88-bb06e0e435df-c000.snappy.parquet</td><td>165280</td><td>1744262605000</td></tr><tr><td>dbfs:/FileStore/tables/external_commentary/part-00003-0be9e344-3dc4-4037-bab0-bf57b314132b-c000.snappy.parquet</td><td>part-00003-0be9e344-3dc4-4037-bab0-bf57b314132b-c000.snappy.parquet</td><td>162879</td><td>1744262605000</td></tr><tr><td>dbfs:/FileStore/tables/external_commentary/part-00003-fc0940dd-0f7c-417e-8b48-d856f28d1210-c000.snappy.parquet</td><td>part-00003-fc0940dd-0f7c-417e-8b48-d856f28d1210-c000.snappy.parquet</td><td>162879</td><td>1744262475000</td></tr><tr><td>dbfs:/FileStore/tables/external_commentary/part-00004-3f8f78ed-3914-4f18-918e-3c40e5022f4b-c000.snappy.parquet</td><td>part-00004-3f8f78ed-3914-4f18-918e-3c40e5022f4b-c000.snappy.parquet</td><td>161645</td><td>1744262605000</td></tr><tr><td>dbfs:/FileStore/tables/external_commentary/part-00004-7b97e6fd-4532-4fa5-8c61-bf6d15dc0402-c000.snappy.parquet</td><td>part-00004-7b97e6fd-4532-4fa5-8c61-bf6d15dc0402-c000.snappy.parquet</td><td>161645</td><td>1744262475000</td></tr><tr><td>dbfs:/FileStore/tables/external_commentary/part-00005-07e5d5b9-cfd1-4540-ace0-4a340feffd30-c000.snappy.parquet</td><td>part-00005-07e5d5b9-cfd1-4540-ace0-4a340feffd30-c000.snappy.parquet</td><td>167375</td><td>1744262605000</td></tr><tr><td>dbfs:/FileStore/tables/external_commentary/part-00005-cd2941eb-515a-4223-b408-e9d74a2d514b-c000.snappy.parquet</td><td>part-00005-cd2941eb-515a-4223-b408-e9d74a2d514b-c000.snappy.parquet</td><td>167375</td><td>1744262475000</td></tr><tr><td>dbfs:/FileStore/tables/external_commentary/part-00006-0126ed52-8586-4b8d-a61b-5814ab34764e-c000.snappy.parquet</td><td>part-00006-0126ed52-8586-4b8d-a61b-5814ab34764e-c000.snappy.parquet</td><td>80924</td><td>1744262473000</td></tr><tr><td>dbfs:/FileStore/tables/external_commentary/part-00006-699baeb1-e186-4eeb-80b3-34d9f076a793-c000.snappy.parquet</td><td>part-00006-699baeb1-e186-4eeb-80b3-34d9f076a793-c000.snappy.parquet</td><td>80924</td><td>1744262603000</td></tr></tbody></table></div>"
      ]
     },
     "metadata": {
      "application/vnd.databricks.v1+output": {
       "addedWidgets": {},
       "aggData": [],
       "aggError": "",
       "aggOverflow": false,
       "aggSchema": [],
       "aggSeriesLimitReached": false,
       "aggType": "",
       "arguments": {},
       "columnCustomDisplayInfos": {},
       "data": [
        [
         "dbfs:/FileStore/tables/external_commentary/_delta_log/",
         "_delta_log/",
         0,
         0
        ],
        [
         "dbfs:/FileStore/tables/external_commentary/part-00000-486313d5-6ef7-4845-9826-4d848ef4bb2a-c000.snappy.parquet",
         "part-00000-486313d5-6ef7-4845-9826-4d848ef4bb2a-c000.snappy.parquet",
         170320,
         1744262475000
        ],
        [
         "dbfs:/FileStore/tables/external_commentary/part-00000-98d02789-e9a2-428b-b7b1-2add42f97773-c000.snappy.parquet",
         "part-00000-98d02789-e9a2-428b-b7b1-2add42f97773-c000.snappy.parquet",
         170320,
         1744262605000
        ],
        [
         "dbfs:/FileStore/tables/external_commentary/part-00001-6d4efefb-9729-49ca-99f3-7bb058e298a6-c000.snappy.parquet",
         "part-00001-6d4efefb-9729-49ca-99f3-7bb058e298a6-c000.snappy.parquet",
         169198,
         1744262475000
        ],
        [
         "dbfs:/FileStore/tables/external_commentary/part-00001-72a81172-30ef-47c4-83e1-aef51bfc030d-c000.snappy.parquet",
         "part-00001-72a81172-30ef-47c4-83e1-aef51bfc030d-c000.snappy.parquet",
         169198,
         1744262605000
        ],
        [
         "dbfs:/FileStore/tables/external_commentary/part-00002-037fbe7b-3bef-4b53-80c1-1a39cf92d0bc-c000.snappy.parquet",
         "part-00002-037fbe7b-3bef-4b53-80c1-1a39cf92d0bc-c000.snappy.parquet",
         165280,
         1744262475000
        ],
        [
         "dbfs:/FileStore/tables/external_commentary/part-00002-0caf1468-635f-4347-8b88-bb06e0e435df-c000.snappy.parquet",
         "part-00002-0caf1468-635f-4347-8b88-bb06e0e435df-c000.snappy.parquet",
         165280,
         1744262605000
        ],
        [
         "dbfs:/FileStore/tables/external_commentary/part-00003-0be9e344-3dc4-4037-bab0-bf57b314132b-c000.snappy.parquet",
         "part-00003-0be9e344-3dc4-4037-bab0-bf57b314132b-c000.snappy.parquet",
         162879,
         1744262605000
        ],
        [
         "dbfs:/FileStore/tables/external_commentary/part-00003-fc0940dd-0f7c-417e-8b48-d856f28d1210-c000.snappy.parquet",
         "part-00003-fc0940dd-0f7c-417e-8b48-d856f28d1210-c000.snappy.parquet",
         162879,
         1744262475000
        ],
        [
         "dbfs:/FileStore/tables/external_commentary/part-00004-3f8f78ed-3914-4f18-918e-3c40e5022f4b-c000.snappy.parquet",
         "part-00004-3f8f78ed-3914-4f18-918e-3c40e5022f4b-c000.snappy.parquet",
         161645,
         1744262605000
        ],
        [
         "dbfs:/FileStore/tables/external_commentary/part-00004-7b97e6fd-4532-4fa5-8c61-bf6d15dc0402-c000.snappy.parquet",
         "part-00004-7b97e6fd-4532-4fa5-8c61-bf6d15dc0402-c000.snappy.parquet",
         161645,
         1744262475000
        ],
        [
         "dbfs:/FileStore/tables/external_commentary/part-00005-07e5d5b9-cfd1-4540-ace0-4a340feffd30-c000.snappy.parquet",
         "part-00005-07e5d5b9-cfd1-4540-ace0-4a340feffd30-c000.snappy.parquet",
         167375,
         1744262605000
        ],
        [
         "dbfs:/FileStore/tables/external_commentary/part-00005-cd2941eb-515a-4223-b408-e9d74a2d514b-c000.snappy.parquet",
         "part-00005-cd2941eb-515a-4223-b408-e9d74a2d514b-c000.snappy.parquet",
         167375,
         1744262475000
        ],
        [
         "dbfs:/FileStore/tables/external_commentary/part-00006-0126ed52-8586-4b8d-a61b-5814ab34764e-c000.snappy.parquet",
         "part-00006-0126ed52-8586-4b8d-a61b-5814ab34764e-c000.snappy.parquet",
         80924,
         1744262473000
        ],
        [
         "dbfs:/FileStore/tables/external_commentary/part-00006-699baeb1-e186-4eeb-80b3-34d9f076a793-c000.snappy.parquet",
         "part-00006-699baeb1-e186-4eeb-80b3-34d9f076a793-c000.snappy.parquet",
         80924,
         1744262603000
        ]
       ],
       "datasetInfos": [],
       "dbfsResultPath": null,
       "isJsonSchema": true,
       "metadata": {
        "isDbfsCommandResult": false
       },
       "overflow": false,
       "plotOptions": {
        "customPlotOptions": {},
        "displayType": "table",
        "pivotAggregation": null,
        "pivotColumns": null,
        "xColumns": null,
        "yColumns": null
       },
       "removedWidgets": [],
       "schema": [
        {
         "metadata": "{}",
         "name": "path",
         "type": "\"string\""
        },
        {
         "metadata": "{}",
         "name": "name",
         "type": "\"string\""
        },
        {
         "metadata": "{}",
         "name": "size",
         "type": "\"long\""
        },
        {
         "metadata": "{}",
         "name": "modificationTime",
         "type": "\"long\""
        }
       ],
       "type": "table"
      }
     },
     "output_type": "display_data"
    }
   ],
   "source": [
    "%fs ls /FileStore/tables/external_commentary\n"
   ]
  },
  {
   "cell_type": "code",
   "execution_count": 0,
   "metadata": {
    "application/vnd.databricks.v1+cell": {
     "cellMetadata": {},
     "inputWidgets": {},
     "nuid": "2818f462-ea22-49ec-bc6f-4f534a0373ba",
     "showTitle": false,
     "tableResultSettingsMap": {},
     "title": ""
    }
   },
   "outputs": [],
   "source": []
  }
 ],
 "metadata": {
  "application/vnd.databricks.v1+notebook": {
   "computePreferences": null,
   "dashboards": [],
   "environmentMetadata": {
    "base_environment": "",
    "environment_version": "1"
   },
   "inputWidgetPreferences": null,
   "language": "python",
   "notebookMetadata": {
    "mostRecentlyExecutedCommandWithImplicitDF": {
     "commandId": 776583913739550,
     "dataframes": [
      "_sqldf"
     ]
    },
    "pythonIndentUnit": 4
   },
   "notebookName": "Managed vs External Table",
   "widgets": {}
  }
 },
 "nbformat": 4,
 "nbformat_minor": 0
}