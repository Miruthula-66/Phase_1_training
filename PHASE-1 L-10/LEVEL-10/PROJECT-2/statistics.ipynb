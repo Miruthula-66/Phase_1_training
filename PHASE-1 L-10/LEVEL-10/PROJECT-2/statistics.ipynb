{
 "cells": [
  {
   "cell_type": "code",
   "execution_count": null,
   "metadata": {},
   "outputs": [
    {
     "name": "stdout",
     "output_type": "stream",
     "text": [
      "Z-test: z = 16.22, p-value = 0.0000\n",
      "T-test: t = -2.07, p-value = 0.0391\n"
     ]
    }
   ],
   "source": [
    "import pandas as pd\n",
    "import seaborn as sns\n",
    "import scipy.stats as stats\n",
    "df = sns.load_dataset('titanic')\n",
    "female = df[df.sex == 'female']\n",
    "male = df[df.sex == 'male']\n",
    "\n",
    "p1 = female.survived.mean()\n",
    "p2 = male.survived.mean()\n",
    "n1 = len(female)\n",
    "n2 = len(male)\n",
    "p = (female.survived.sum() + male.survived.sum()) / (n1 + n2)\n",
    "\n",
    "z = (p1 - p2) / ((p * (1 - p) * (1/n1 + 1/n2)) ** 0.5)\n",
    "p_value_z = 2 * (1 - stats.norm.cdf(abs(z)))\n",
    "survived = df[df.survived == 1]['age'].dropna()\n",
    "not_survived = df[df.survived == 0]['age'].dropna()\n",
    "t_stat, p_value_t = stats.ttest_ind(survived, not_survived)\n",
    "print(f\"Z-test: z = {z:.2f}, p-value = {p_value_z:.4f}\")\n",
    "print(f\"T-test: t = {t_stat:.2f}, p-value = {p_value_t:.4f}\")\n"
   ]
  }
 ],
 "metadata": {
  "kernelspec": {
   "display_name": "Python 3",
   "language": "python",
   "name": "python3"
  },
  "language_info": {
   "codemirror_mode": {
    "name": "ipython",
    "version": 3
   },
   "file_extension": ".py",
   "mimetype": "text/x-python",
   "name": "python",
   "nbconvert_exporter": "python",
   "pygments_lexer": "ipython3",
   "version": "3.13.2"
  }
 },
 "nbformat": 4,
 "nbformat_minor": 2
}
